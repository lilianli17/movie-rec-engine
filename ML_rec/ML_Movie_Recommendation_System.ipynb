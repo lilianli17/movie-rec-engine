{
 "cells": [
  {
   "cell_type": "markdown",
   "metadata": {
    "id": "R1oRN_iiHN_7"
   },
   "source": [
    "Importing the dependencies"
   ]
  },
  {
   "cell_type": "code",
   "execution_count": 2,
   "metadata": {
    "id": "GAGi6hrzFLOb"
   },
   "outputs": [],
   "source": [
    "import numpy as np\n",
    "import pandas as pd\n",
    "import difflib\n",
    "from sklearn.feature_extraction.text import TfidfVectorizer\n",
    "from sklearn.metrics.pairwise import cosine_similarity"
   ]
  },
  {
   "cell_type": "markdown",
   "metadata": {
    "id": "mfIW1BYVIGfP"
   },
   "source": [
    "Data Collection and Pre-Processing"
   ]
  },
  {
   "cell_type": "code",
   "execution_count": null,
   "metadata": {
    "colab": {
     "base_uri": "https://localhost:8080/"
    },
    "id": "EDpYVjw0lG9G",
    "outputId": "7ec8aec9-6216-41ae-f4c1-213ce1efb6fc"
   },
   "outputs": [],
   "source": []
  },
  {
   "cell_type": "code",
   "execution_count": 3,
   "metadata": {
    "id": "MOXn7CGdIGBU"
   },
   "outputs": [],
   "source": [
    "# loading the data from the csv file to apandas dataframe\n",
    "movies_data = pd.read_csv('movies.csv')\n"
   ]
  },
  {
   "cell_type": "code",
   "execution_count": 4,
   "metadata": {
    "colab": {
     "base_uri": "https://localhost:8080/",
     "height": 739
    },
    "id": "cha03lDAIa6l",
    "outputId": "97fb8f1f-6864-4f1a-8adf-c52212a70bee"
   },
   "outputs": [
    {
     "data": {
      "text/html": [
       "<div>\n",
       "<style scoped>\n",
       "    .dataframe tbody tr th:only-of-type {\n",
       "        vertical-align: middle;\n",
       "    }\n",
       "\n",
       "    .dataframe tbody tr th {\n",
       "        vertical-align: top;\n",
       "    }\n",
       "\n",
       "    .dataframe thead th {\n",
       "        text-align: right;\n",
       "    }\n",
       "</style>\n",
       "<table border=\"1\" class=\"dataframe\">\n",
       "  <thead>\n",
       "    <tr style=\"text-align: right;\">\n",
       "      <th></th>\n",
       "      <th>Unnamed: 0</th>\n",
       "      <th>title</th>\n",
       "      <th>id</th>\n",
       "      <th>imdb_id</th>\n",
       "      <th>original_language</th>\n",
       "      <th>original_title</th>\n",
       "      <th>overview</th>\n",
       "      <th>tagline</th>\n",
       "      <th>popularity</th>\n",
       "      <th>release_date</th>\n",
       "      <th>runtime</th>\n",
       "    </tr>\n",
       "  </thead>\n",
       "  <tbody>\n",
       "    <tr>\n",
       "      <th>0</th>\n",
       "      <td>0</td>\n",
       "      <td>Toy Story</td>\n",
       "      <td>862</td>\n",
       "      <td>114709</td>\n",
       "      <td>en</td>\n",
       "      <td>Toy Story</td>\n",
       "      <td>Led by Woody, Andy's toys live happily in his ...</td>\n",
       "      <td>NaN</td>\n",
       "      <td>21.946943</td>\n",
       "      <td>1995-10-30</td>\n",
       "      <td>81.0</td>\n",
       "    </tr>\n",
       "    <tr>\n",
       "      <th>1</th>\n",
       "      <td>1</td>\n",
       "      <td>Jumanji</td>\n",
       "      <td>8844</td>\n",
       "      <td>113497</td>\n",
       "      <td>en</td>\n",
       "      <td>Jumanji</td>\n",
       "      <td>When siblings Judy and Peter discover an encha...</td>\n",
       "      <td>Roll the dice and unleash the excitement!</td>\n",
       "      <td>17.015539</td>\n",
       "      <td>1995-12-15</td>\n",
       "      <td>104.0</td>\n",
       "    </tr>\n",
       "    <tr>\n",
       "      <th>2</th>\n",
       "      <td>2</td>\n",
       "      <td>Grumpier Old Men</td>\n",
       "      <td>15602</td>\n",
       "      <td>113228</td>\n",
       "      <td>en</td>\n",
       "      <td>Grumpier Old Men</td>\n",
       "      <td>A family wedding reignites the ancient feud be...</td>\n",
       "      <td>Still Yelling. Still Fighting. Still Ready for...</td>\n",
       "      <td>11.712900</td>\n",
       "      <td>1995-12-22</td>\n",
       "      <td>101.0</td>\n",
       "    </tr>\n",
       "    <tr>\n",
       "      <th>5</th>\n",
       "      <td>5</td>\n",
       "      <td>Heat</td>\n",
       "      <td>949</td>\n",
       "      <td>113277</td>\n",
       "      <td>en</td>\n",
       "      <td>Heat</td>\n",
       "      <td>Obsessive master thief, Neil McCauley leads a ...</td>\n",
       "      <td>A Los Angeles Crime Saga</td>\n",
       "      <td>17.924927</td>\n",
       "      <td>1995-12-15</td>\n",
       "      <td>170.0</td>\n",
       "    </tr>\n",
       "    <tr>\n",
       "      <th>9</th>\n",
       "      <td>9</td>\n",
       "      <td>GoldenEye</td>\n",
       "      <td>710</td>\n",
       "      <td>113189</td>\n",
       "      <td>en</td>\n",
       "      <td>GoldenEye</td>\n",
       "      <td>James Bond must unmask the mysterious head of ...</td>\n",
       "      <td>No limits. No fears. No substitutes.</td>\n",
       "      <td>14.686036</td>\n",
       "      <td>1995-11-16</td>\n",
       "      <td>130.0</td>\n",
       "    </tr>\n",
       "  </tbody>\n",
       "</table>\n",
       "</div>"
      ],
      "text/plain": [
       "   Unnamed: 0             title     id  imdb_id original_language  \\\n",
       "0           0         Toy Story    862   114709                en   \n",
       "1           1           Jumanji   8844   113497                en   \n",
       "2           2  Grumpier Old Men  15602   113228                en   \n",
       "5           5              Heat    949   113277                en   \n",
       "9           9         GoldenEye    710   113189                en   \n",
       "\n",
       "     original_title                                           overview  \\\n",
       "0         Toy Story  Led by Woody, Andy's toys live happily in his ...   \n",
       "1           Jumanji  When siblings Judy and Peter discover an encha...   \n",
       "2  Grumpier Old Men  A family wedding reignites the ancient feud be...   \n",
       "5              Heat  Obsessive master thief, Neil McCauley leads a ...   \n",
       "9         GoldenEye  James Bond must unmask the mysterious head of ...   \n",
       "\n",
       "                                             tagline  popularity release_date  \\\n",
       "0                                                NaN   21.946943   1995-10-30   \n",
       "1          Roll the dice and unleash the excitement!   17.015539   1995-12-15   \n",
       "2  Still Yelling. Still Fighting. Still Ready for...   11.712900   1995-12-22   \n",
       "5                           A Los Angeles Crime Saga   17.924927   1995-12-15   \n",
       "9               No limits. No fears. No substitutes.   14.686036   1995-11-16   \n",
       "\n",
       "   runtime  \n",
       "0     81.0  \n",
       "1    104.0  \n",
       "2    101.0  \n",
       "5    170.0  \n",
       "9    130.0  "
      ]
     },
     "execution_count": 4,
     "metadata": {},
     "output_type": "execute_result"
    }
   ],
   "source": [
    "# printing the first 5 rows of the dataframe\n",
    "\n",
    "movies_data = movies_data.loc[movies_data['popularity']>=10]\n",
    "movies_data.head()"
   ]
  },
  {
   "cell_type": "code",
   "execution_count": 5,
   "metadata": {
    "id": "szgqU2wlp5z5"
   },
   "outputs": [],
   "source": [
    "crew_data = pd.read_csv('crew.csv')"
   ]
  },
  {
   "cell_type": "code",
   "execution_count": 6,
   "metadata": {
    "colab": {
     "base_uri": "https://localhost:8080/",
     "height": 206
    },
    "id": "yFL0_OcVqdrV",
    "outputId": "45896eb9-f2d0-412c-92f9-1424e91dcca8"
   },
   "outputs": [
    {
     "data": {
      "text/html": [
       "<div>\n",
       "<style scoped>\n",
       "    .dataframe tbody tr th:only-of-type {\n",
       "        vertical-align: middle;\n",
       "    }\n",
       "\n",
       "    .dataframe tbody tr th {\n",
       "        vertical-align: top;\n",
       "    }\n",
       "\n",
       "    .dataframe thead th {\n",
       "        text-align: right;\n",
       "    }\n",
       "</style>\n",
       "<table border=\"1\" class=\"dataframe\">\n",
       "  <thead>\n",
       "    <tr style=\"text-align: right;\">\n",
       "      <th></th>\n",
       "      <th>Unnamed: 0</th>\n",
       "      <th>id</th>\n",
       "      <th>job</th>\n",
       "      <th>department</th>\n",
       "      <th>name</th>\n",
       "      <th>gender</th>\n",
       "      <th>credit_id</th>\n",
       "    </tr>\n",
       "  </thead>\n",
       "  <tbody>\n",
       "    <tr>\n",
       "      <th>0</th>\n",
       "      <td>0</td>\n",
       "      <td>862</td>\n",
       "      <td>Director</td>\n",
       "      <td>Directing</td>\n",
       "      <td>John Lasseter</td>\n",
       "      <td>2.0</td>\n",
       "      <td>52fe4284c3a36847f8024f49</td>\n",
       "    </tr>\n",
       "    <tr>\n",
       "      <th>1</th>\n",
       "      <td>1</td>\n",
       "      <td>862</td>\n",
       "      <td>Screenplay</td>\n",
       "      <td>Writing</td>\n",
       "      <td>Joss Whedon</td>\n",
       "      <td>2.0</td>\n",
       "      <td>52fe4284c3a36847f8024f4f</td>\n",
       "    </tr>\n",
       "    <tr>\n",
       "      <th>2</th>\n",
       "      <td>2</td>\n",
       "      <td>862</td>\n",
       "      <td>Screenplay</td>\n",
       "      <td>Writing</td>\n",
       "      <td>Andrew Stanton</td>\n",
       "      <td>2.0</td>\n",
       "      <td>52fe4284c3a36847f8024f55</td>\n",
       "    </tr>\n",
       "    <tr>\n",
       "      <th>3</th>\n",
       "      <td>3</td>\n",
       "      <td>862</td>\n",
       "      <td>Screenplay</td>\n",
       "      <td>Writing</td>\n",
       "      <td>Joel Cohen</td>\n",
       "      <td>2.0</td>\n",
       "      <td>52fe4284c3a36847f8024f5b</td>\n",
       "    </tr>\n",
       "    <tr>\n",
       "      <th>4</th>\n",
       "      <td>4</td>\n",
       "      <td>862</td>\n",
       "      <td>Screenplay</td>\n",
       "      <td>Writing</td>\n",
       "      <td>Alec Sokolow</td>\n",
       "      <td>0.0</td>\n",
       "      <td>52fe4284c3a36847f8024f61</td>\n",
       "    </tr>\n",
       "  </tbody>\n",
       "</table>\n",
       "</div>"
      ],
      "text/plain": [
       "   Unnamed: 0   id         job department            name  gender  \\\n",
       "0           0  862    Director  Directing   John Lasseter     2.0   \n",
       "1           1  862  Screenplay    Writing     Joss Whedon     2.0   \n",
       "2           2  862  Screenplay    Writing  Andrew Stanton     2.0   \n",
       "3           3  862  Screenplay    Writing      Joel Cohen     2.0   \n",
       "4           4  862  Screenplay    Writing    Alec Sokolow     0.0   \n",
       "\n",
       "                  credit_id  \n",
       "0  52fe4284c3a36847f8024f49  \n",
       "1  52fe4284c3a36847f8024f4f  \n",
       "2  52fe4284c3a36847f8024f55  \n",
       "3  52fe4284c3a36847f8024f5b  \n",
       "4  52fe4284c3a36847f8024f61  "
      ]
     },
     "execution_count": 6,
     "metadata": {},
     "output_type": "execute_result"
    }
   ],
   "source": [
    "# printing the first 5 rows of the dataframe\n",
    "crew_data.head()"
   ]
  },
  {
   "cell_type": "code",
   "execution_count": 7,
   "metadata": {
    "colab": {
     "base_uri": "https://localhost:8080/",
     "height": 206
    },
    "id": "CKlqvu6_sMoK",
    "outputId": "f2a62e41-5cc1-440f-ce45-ecef6ebc05cd"
   },
   "outputs": [
    {
     "data": {
      "text/html": [
       "<div>\n",
       "<style scoped>\n",
       "    .dataframe tbody tr th:only-of-type {\n",
       "        vertical-align: middle;\n",
       "    }\n",
       "\n",
       "    .dataframe tbody tr th {\n",
       "        vertical-align: top;\n",
       "    }\n",
       "\n",
       "    .dataframe thead th {\n",
       "        text-align: right;\n",
       "    }\n",
       "</style>\n",
       "<table border=\"1\" class=\"dataframe\">\n",
       "  <thead>\n",
       "    <tr style=\"text-align: right;\">\n",
       "      <th></th>\n",
       "      <th>Unnamed: 0</th>\n",
       "      <th>id</th>\n",
       "      <th>job</th>\n",
       "      <th>department</th>\n",
       "      <th>name</th>\n",
       "      <th>gender</th>\n",
       "      <th>credit_id</th>\n",
       "    </tr>\n",
       "  </thead>\n",
       "  <tbody>\n",
       "    <tr>\n",
       "      <th>0</th>\n",
       "      <td>0</td>\n",
       "      <td>862</td>\n",
       "      <td>Director</td>\n",
       "      <td>Directing</td>\n",
       "      <td>John Lasseter</td>\n",
       "      <td>2.0</td>\n",
       "      <td>52fe4284c3a36847f8024f49</td>\n",
       "    </tr>\n",
       "    <tr>\n",
       "      <th>109</th>\n",
       "      <td>109</td>\n",
       "      <td>8844</td>\n",
       "      <td>Director</td>\n",
       "      <td>Directing</td>\n",
       "      <td>Joe Johnston</td>\n",
       "      <td>2.0</td>\n",
       "      <td>52fe44bfc3a36847f80a7c7d</td>\n",
       "    </tr>\n",
       "    <tr>\n",
       "      <th>122</th>\n",
       "      <td>122</td>\n",
       "      <td>15602</td>\n",
       "      <td>Director</td>\n",
       "      <td>Directing</td>\n",
       "      <td>Howard Deutch</td>\n",
       "      <td>2.0</td>\n",
       "      <td>52fe466a9251416c75077a89</td>\n",
       "    </tr>\n",
       "    <tr>\n",
       "      <th>126</th>\n",
       "      <td>126</td>\n",
       "      <td>31357</td>\n",
       "      <td>Director</td>\n",
       "      <td>Directing</td>\n",
       "      <td>Forest Whitaker</td>\n",
       "      <td>2.0</td>\n",
       "      <td>52fe44779251416c91011acb</td>\n",
       "    </tr>\n",
       "    <tr>\n",
       "      <th>141</th>\n",
       "      <td>141</td>\n",
       "      <td>11862</td>\n",
       "      <td>Director</td>\n",
       "      <td>Directing</td>\n",
       "      <td>Charles Shyer</td>\n",
       "      <td>2.0</td>\n",
       "      <td>52fe44959251416c75039eef</td>\n",
       "    </tr>\n",
       "  </tbody>\n",
       "</table>\n",
       "</div>"
      ],
      "text/plain": [
       "     Unnamed: 0     id       job department             name  gender  \\\n",
       "0             0    862  Director  Directing    John Lasseter     2.0   \n",
       "109         109   8844  Director  Directing     Joe Johnston     2.0   \n",
       "122         122  15602  Director  Directing    Howard Deutch     2.0   \n",
       "126         126  31357  Director  Directing  Forest Whitaker     2.0   \n",
       "141         141  11862  Director  Directing    Charles Shyer     2.0   \n",
       "\n",
       "                    credit_id  \n",
       "0    52fe4284c3a36847f8024f49  \n",
       "109  52fe44bfc3a36847f80a7c7d  \n",
       "122  52fe466a9251416c75077a89  \n",
       "126  52fe44779251416c91011acb  \n",
       "141  52fe44959251416c75039eef  "
      ]
     },
     "execution_count": 7,
     "metadata": {},
     "output_type": "execute_result"
    }
   ],
   "source": [
    "# get only the directors of the crews\n",
    "director_data = crew_data[crew_data['job'] == 'Director']\n",
    "\n",
    "director_data.head()\n"
   ]
  },
  {
   "cell_type": "code",
   "execution_count": 8,
   "metadata": {
    "colab": {
     "base_uri": "https://localhost:8080/",
     "height": 315
    },
    "id": "b-QJyeraygSw",
    "outputId": "57de9d15-0492-4d02-cccc-0df625c61a06"
   },
   "outputs": [
    {
     "name": "stderr",
     "output_type": "stream",
     "text": [
      "/var/folders/3s/khd8zc512csgnd00hd4d3t4m0000gn/T/ipykernel_34003/2752714106.py:2: SettingWithCopyWarning: \n",
      "A value is trying to be set on a copy of a slice from a DataFrame\n",
      "\n",
      "See the caveats in the documentation: https://pandas.pydata.org/pandas-docs/stable/user_guide/indexing.html#returning-a-view-versus-a-copy\n",
      "  director_data.rename(columns={\"name\": \"director\"}, inplace=True)\n"
     ]
    },
    {
     "data": {
      "text/html": [
       "<div>\n",
       "<style scoped>\n",
       "    .dataframe tbody tr th:only-of-type {\n",
       "        vertical-align: middle;\n",
       "    }\n",
       "\n",
       "    .dataframe tbody tr th {\n",
       "        vertical-align: top;\n",
       "    }\n",
       "\n",
       "    .dataframe thead th {\n",
       "        text-align: right;\n",
       "    }\n",
       "</style>\n",
       "<table border=\"1\" class=\"dataframe\">\n",
       "  <thead>\n",
       "    <tr style=\"text-align: right;\">\n",
       "      <th></th>\n",
       "      <th>Unnamed: 0</th>\n",
       "      <th>id</th>\n",
       "      <th>job</th>\n",
       "      <th>department</th>\n",
       "      <th>director</th>\n",
       "      <th>gender</th>\n",
       "      <th>credit_id</th>\n",
       "    </tr>\n",
       "  </thead>\n",
       "  <tbody>\n",
       "    <tr>\n",
       "      <th>0</th>\n",
       "      <td>0</td>\n",
       "      <td>862</td>\n",
       "      <td>Director</td>\n",
       "      <td>Directing</td>\n",
       "      <td>John Lasseter</td>\n",
       "      <td>2.0</td>\n",
       "      <td>52fe4284c3a36847f8024f49</td>\n",
       "    </tr>\n",
       "    <tr>\n",
       "      <th>109</th>\n",
       "      <td>109</td>\n",
       "      <td>8844</td>\n",
       "      <td>Director</td>\n",
       "      <td>Directing</td>\n",
       "      <td>Joe Johnston</td>\n",
       "      <td>2.0</td>\n",
       "      <td>52fe44bfc3a36847f80a7c7d</td>\n",
       "    </tr>\n",
       "    <tr>\n",
       "      <th>122</th>\n",
       "      <td>122</td>\n",
       "      <td>15602</td>\n",
       "      <td>Director</td>\n",
       "      <td>Directing</td>\n",
       "      <td>Howard Deutch</td>\n",
       "      <td>2.0</td>\n",
       "      <td>52fe466a9251416c75077a89</td>\n",
       "    </tr>\n",
       "    <tr>\n",
       "      <th>126</th>\n",
       "      <td>126</td>\n",
       "      <td>31357</td>\n",
       "      <td>Director</td>\n",
       "      <td>Directing</td>\n",
       "      <td>Forest Whitaker</td>\n",
       "      <td>2.0</td>\n",
       "      <td>52fe44779251416c91011acb</td>\n",
       "    </tr>\n",
       "    <tr>\n",
       "      <th>141</th>\n",
       "      <td>141</td>\n",
       "      <td>11862</td>\n",
       "      <td>Director</td>\n",
       "      <td>Directing</td>\n",
       "      <td>Charles Shyer</td>\n",
       "      <td>2.0</td>\n",
       "      <td>52fe44959251416c75039eef</td>\n",
       "    </tr>\n",
       "  </tbody>\n",
       "</table>\n",
       "</div>"
      ],
      "text/plain": [
       "     Unnamed: 0     id       job department         director  gender  \\\n",
       "0             0    862  Director  Directing    John Lasseter     2.0   \n",
       "109         109   8844  Director  Directing     Joe Johnston     2.0   \n",
       "122         122  15602  Director  Directing    Howard Deutch     2.0   \n",
       "126         126  31357  Director  Directing  Forest Whitaker     2.0   \n",
       "141         141  11862  Director  Directing    Charles Shyer     2.0   \n",
       "\n",
       "                    credit_id  \n",
       "0    52fe4284c3a36847f8024f49  \n",
       "109  52fe44bfc3a36847f80a7c7d  \n",
       "122  52fe466a9251416c75077a89  \n",
       "126  52fe44779251416c91011acb  \n",
       "141  52fe44959251416c75039eef  "
      ]
     },
     "execution_count": 8,
     "metadata": {},
     "output_type": "execute_result"
    }
   ],
   "source": [
    "#rename the column\n",
    "director_data.rename(columns={\"name\": \"director\"}, inplace=True)\n",
    "\n",
    "director_data.head()"
   ]
  },
  {
   "cell_type": "code",
   "execution_count": 9,
   "metadata": {
    "id": "1PphBCdFqn8l"
   },
   "outputs": [],
   "source": [
    "genres_data = pd.read_csv('genres.csv')[['id', 'original_title', 'genre']]\n",
    "genres_data = genres_data.drop_duplicates()\n",
    "genres_data = genres_data.groupby(['id', 'original_title'])['genre'].apply(' '.join)\n",
    "\n",
    "genres_data = genres_data.apply(lambda x: ' '.join(sorted(x.split())))\n",
    "\n"
   ]
  },
  {
   "cell_type": "code",
   "execution_count": 10,
   "metadata": {
    "colab": {
     "base_uri": "https://localhost:8080/",
     "height": 206
    },
    "id": "m7NpT0GYr_Xh",
    "outputId": "2b6a65e1-ba93-4b0a-860f-9e4732bd685f"
   },
   "outputs": [
    {
     "data": {
      "text/plain": [
       "id  original_title      \n",
       "2   Ariel                                        Crime Drama\n",
       "3   Varjoja paratiisissa                        Comedy Drama\n",
       "5   Four Rooms                                  Comedy Crime\n",
       "6   Judgment Night                     Action Crime Thriller\n",
       "11  Star Wars               Action Adventure Fiction Science\n",
       "Name: genre, dtype: object"
      ]
     },
     "execution_count": 10,
     "metadata": {},
     "output_type": "execute_result"
    }
   ],
   "source": [
    "# printing the first 5 rows of the dataframe\n",
    "genres_data.head()"
   ]
  },
  {
   "cell_type": "code",
   "execution_count": 11,
   "metadata": {
    "id": "Y4QX19nMrvcc"
   },
   "outputs": [],
   "source": [
    "keywords_data = pd.read_csv('keywords.csv')[['id', 'keywords']]\n",
    "keywords_data = keywords_data.drop_duplicates()\n",
    "keywords_data = keywords_data.groupby('id')['keywords'].apply(' '.join)\n",
    "keywords_data = keywords_data.apply(lambda x: ' '.join(sorted(x.split())))"
   ]
  },
  {
   "cell_type": "code",
   "execution_count": 12,
   "metadata": {
    "colab": {
     "base_uri": "https://localhost:8080/",
     "height": 206
    },
    "id": "q4uCsRR6sClY",
    "outputId": "d8b4970b-8dbf-4112-d2ec-ae1b2334f1e9"
   },
   "outputs": [
    {
     "data": {
      "text/plain": [
       "id\n",
       "2     factory falling film helsinki in independent l...\n",
       "3          film garbage helsinki independent salesclerk\n",
       "5     angeles bet director episode eve film hoodlum ...\n",
       "6     boxing chicago dealer drug escape match night one\n",
       "11    android death empire force galactic galaxy her...\n",
       "12    aftercreditsstinger barrier child clownfish du...\n",
       "13    amputee based bench bully disabled family flas...\n",
       "14    adultery affair age agent bittersweet camcorde...\n",
       "15    art banker capitalist child collector florida ...\n",
       "16    and and blindness crime czech dance dancing de...\n",
       "17    abuse adolescence child child daughter loss mo...\n",
       "18    against alien ancient ancient archeologist arm...\n",
       "19    babel chase class delirium depravity destructi...\n",
       "20    and daughter daughter death director dying far...\n",
       "21                             surfboard surfer surfing\n",
       "22    aftercreditsstinger alcoholic blacksmith capuc...\n",
       "24    animation arts blood bride coma female fu gore...\n",
       "25    arabia corps golf marine marine petrol saudi s...\n",
       "26    anti background berlin chauffeur conflict dead...\n",
       "27    and blow concert condom couple desire ejaculat...\n",
       "Name: keywords, dtype: object"
      ]
     },
     "execution_count": 12,
     "metadata": {},
     "output_type": "execute_result"
    }
   ],
   "source": [
    "# printing the first 5 rows of the dataframe\n",
    "keywords_data.head(20)"
   ]
  },
  {
   "cell_type": "code",
   "execution_count": 13,
   "metadata": {
    "colab": {
     "base_uri": "https://localhost:8080/",
     "height": 739
    },
    "id": "Wf9VLweMxhjb",
    "outputId": "250342fb-0da6-46eb-e8a8-d6562c86092c"
   },
   "outputs": [
    {
     "data": {
      "text/html": [
       "<div>\n",
       "<style scoped>\n",
       "    .dataframe tbody tr th:only-of-type {\n",
       "        vertical-align: middle;\n",
       "    }\n",
       "\n",
       "    .dataframe tbody tr th {\n",
       "        vertical-align: top;\n",
       "    }\n",
       "\n",
       "    .dataframe thead th {\n",
       "        text-align: right;\n",
       "    }\n",
       "</style>\n",
       "<table border=\"1\" class=\"dataframe\">\n",
       "  <thead>\n",
       "    <tr style=\"text-align: right;\">\n",
       "      <th></th>\n",
       "      <th>Unnamed: 0_x</th>\n",
       "      <th>title</th>\n",
       "      <th>id</th>\n",
       "      <th>imdb_id</th>\n",
       "      <th>original_language</th>\n",
       "      <th>original_title</th>\n",
       "      <th>overview</th>\n",
       "      <th>tagline</th>\n",
       "      <th>popularity</th>\n",
       "      <th>release_date</th>\n",
       "      <th>runtime</th>\n",
       "      <th>Unnamed: 0_y</th>\n",
       "      <th>job</th>\n",
       "      <th>department</th>\n",
       "      <th>director</th>\n",
       "      <th>gender</th>\n",
       "      <th>credit_id</th>\n",
       "    </tr>\n",
       "  </thead>\n",
       "  <tbody>\n",
       "    <tr>\n",
       "      <th>3292</th>\n",
       "      <td>43289</td>\n",
       "      <td>It Comes at Night</td>\n",
       "      <td>418078</td>\n",
       "      <td>4695012</td>\n",
       "      <td>en</td>\n",
       "      <td>It Comes at Night</td>\n",
       "      <td>Secure within a desolate home as an unnatural ...</td>\n",
       "      <td>NaN</td>\n",
       "      <td>20.504587</td>\n",
       "      <td>2017-06-09</td>\n",
       "      <td>91.0</td>\n",
       "      <td>449984</td>\n",
       "      <td>Director</td>\n",
       "      <td>Directing</td>\n",
       "      <td>Trey Edward Shults</td>\n",
       "      <td>2.0</td>\n",
       "      <td>57e8c30f9251412ae3019076</td>\n",
       "    </tr>\n",
       "  </tbody>\n",
       "</table>\n",
       "</div>"
      ],
      "text/plain": [
       "      Unnamed: 0_x              title      id  imdb_id original_language  \\\n",
       "3292         43289  It Comes at Night  418078  4695012                en   \n",
       "\n",
       "         original_title                                           overview  \\\n",
       "3292  It Comes at Night  Secure within a desolate home as an unnatural ...   \n",
       "\n",
       "     tagline  popularity release_date  runtime  Unnamed: 0_y       job  \\\n",
       "3292     NaN   20.504587   2017-06-09     91.0        449984  Director   \n",
       "\n",
       "     department            director  gender                 credit_id  \n",
       "3292  Directing  Trey Edward Shults     2.0  57e8c30f9251412ae3019076  "
      ]
     },
     "execution_count": 13,
     "metadata": {},
     "output_type": "execute_result"
    }
   ],
   "source": [
    "# join dataframes on id\n",
    "\n",
    "# join 1\n",
    "df1 = pd.merge(movies_data, director_data, on=\"id\")\n",
    "\n",
    "df1.loc[df1['original_title'] == 'It Comes at Night']"
   ]
  },
  {
   "cell_type": "code",
   "execution_count": 14,
   "metadata": {
    "colab": {
     "base_uri": "https://localhost:8080/",
     "height": 722
    },
    "id": "2wuEQ4Ewz77k",
    "outputId": "a1687c17-7617-44ee-bca5-4e8fe0c6d5dc"
   },
   "outputs": [
    {
     "data": {
      "text/html": [
       "<div>\n",
       "<style scoped>\n",
       "    .dataframe tbody tr th:only-of-type {\n",
       "        vertical-align: middle;\n",
       "    }\n",
       "\n",
       "    .dataframe tbody tr th {\n",
       "        vertical-align: top;\n",
       "    }\n",
       "\n",
       "    .dataframe thead th {\n",
       "        text-align: right;\n",
       "    }\n",
       "</style>\n",
       "<table border=\"1\" class=\"dataframe\">\n",
       "  <thead>\n",
       "    <tr style=\"text-align: right;\">\n",
       "      <th></th>\n",
       "      <th>Unnamed: 0_x</th>\n",
       "      <th>title</th>\n",
       "      <th>id</th>\n",
       "      <th>imdb_id</th>\n",
       "      <th>original_language</th>\n",
       "      <th>original_title</th>\n",
       "      <th>overview</th>\n",
       "      <th>tagline</th>\n",
       "      <th>popularity</th>\n",
       "      <th>release_date</th>\n",
       "      <th>runtime</th>\n",
       "      <th>Unnamed: 0_y</th>\n",
       "      <th>job</th>\n",
       "      <th>department</th>\n",
       "      <th>director</th>\n",
       "      <th>gender</th>\n",
       "      <th>credit_id</th>\n",
       "      <th>keywords</th>\n",
       "    </tr>\n",
       "  </thead>\n",
       "  <tbody>\n",
       "    <tr>\n",
       "      <th>0</th>\n",
       "      <td>0</td>\n",
       "      <td>Toy Story</td>\n",
       "      <td>862</td>\n",
       "      <td>114709</td>\n",
       "      <td>en</td>\n",
       "      <td>Toy Story</td>\n",
       "      <td>Led by Woody, Andy's toys live happily in his ...</td>\n",
       "      <td>NaN</td>\n",
       "      <td>21.946943</td>\n",
       "      <td>1995-10-30</td>\n",
       "      <td>81.0</td>\n",
       "      <td>0</td>\n",
       "      <td>Director</td>\n",
       "      <td>Directing</td>\n",
       "      <td>John Lasseter</td>\n",
       "      <td>2.0</td>\n",
       "      <td>52fe4284c3a36847f8024f49</td>\n",
       "      <td>boy boy comes door friends friendship jealousy...</td>\n",
       "    </tr>\n",
       "    <tr>\n",
       "      <th>1</th>\n",
       "      <td>1</td>\n",
       "      <td>Jumanji</td>\n",
       "      <td>8844</td>\n",
       "      <td>113497</td>\n",
       "      <td>en</td>\n",
       "      <td>Jumanji</td>\n",
       "      <td>When siblings Judy and Peter discover an encha...</td>\n",
       "      <td>Roll the dice and unleash the excitement!</td>\n",
       "      <td>17.015539</td>\n",
       "      <td>1995-12-15</td>\n",
       "      <td>104.0</td>\n",
       "      <td>109</td>\n",
       "      <td>Director</td>\n",
       "      <td>Directing</td>\n",
       "      <td>Joe Johnston</td>\n",
       "      <td>2.0</td>\n",
       "      <td>52fe44bfc3a36847f80a7c7d</td>\n",
       "      <td>based board book children's disappearance game...</td>\n",
       "    </tr>\n",
       "    <tr>\n",
       "      <th>2</th>\n",
       "      <td>2</td>\n",
       "      <td>Grumpier Old Men</td>\n",
       "      <td>15602</td>\n",
       "      <td>113228</td>\n",
       "      <td>en</td>\n",
       "      <td>Grumpier Old Men</td>\n",
       "      <td>A family wedding reignites the ancient feud be...</td>\n",
       "      <td>Still Yelling. Still Fighting. Still Ready for...</td>\n",
       "      <td>11.712900</td>\n",
       "      <td>1995-12-22</td>\n",
       "      <td>101.0</td>\n",
       "      <td>122</td>\n",
       "      <td>Director</td>\n",
       "      <td>Directing</td>\n",
       "      <td>Howard Deutch</td>\n",
       "      <td>2.0</td>\n",
       "      <td>52fe466a9251416c75077a89</td>\n",
       "      <td>best duringcreditsstinger fishing friend men old</td>\n",
       "    </tr>\n",
       "    <tr>\n",
       "      <th>3</th>\n",
       "      <td>5</td>\n",
       "      <td>Heat</td>\n",
       "      <td>949</td>\n",
       "      <td>113277</td>\n",
       "      <td>en</td>\n",
       "      <td>Heat</td>\n",
       "      <td>Obsessive master thief, Neil McCauley leads a ...</td>\n",
       "      <td>A Los Angeles Crime Saga</td>\n",
       "      <td>17.924927</td>\n",
       "      <td>1995-12-15</td>\n",
       "      <td>170.0</td>\n",
       "      <td>143</td>\n",
       "      <td>Director</td>\n",
       "      <td>Directing</td>\n",
       "      <td>Michael Mann</td>\n",
       "      <td>2.0</td>\n",
       "      <td>52fe4292c3a36847f802916d</td>\n",
       "      <td>and bank bank betrayal cat chase crime crimina...</td>\n",
       "    </tr>\n",
       "    <tr>\n",
       "      <th>4</th>\n",
       "      <td>9</td>\n",
       "      <td>GoldenEye</td>\n",
       "      <td>710</td>\n",
       "      <td>113189</td>\n",
       "      <td>en</td>\n",
       "      <td>GoldenEye</td>\n",
       "      <td>James Bond must unmask the mysterious head of ...</td>\n",
       "      <td>No limits. No fears. No substitutes.</td>\n",
       "      <td>14.686036</td>\n",
       "      <td>1995-11-16</td>\n",
       "      <td>130.0</td>\n",
       "      <td>280</td>\n",
       "      <td>Director</td>\n",
       "      <td>Directing</td>\n",
       "      <td>Martin Campbell</td>\n",
       "      <td>2.0</td>\n",
       "      <td>52fe426ec3a36847f801e14b</td>\n",
       "      <td>accused army base bomb car computer cossack cu...</td>\n",
       "    </tr>\n",
       "  </tbody>\n",
       "</table>\n",
       "</div>"
      ],
      "text/plain": [
       "   Unnamed: 0_x             title     id  imdb_id original_language  \\\n",
       "0             0         Toy Story    862   114709                en   \n",
       "1             1           Jumanji   8844   113497                en   \n",
       "2             2  Grumpier Old Men  15602   113228                en   \n",
       "3             5              Heat    949   113277                en   \n",
       "4             9         GoldenEye    710   113189                en   \n",
       "\n",
       "     original_title                                           overview  \\\n",
       "0         Toy Story  Led by Woody, Andy's toys live happily in his ...   \n",
       "1           Jumanji  When siblings Judy and Peter discover an encha...   \n",
       "2  Grumpier Old Men  A family wedding reignites the ancient feud be...   \n",
       "3              Heat  Obsessive master thief, Neil McCauley leads a ...   \n",
       "4         GoldenEye  James Bond must unmask the mysterious head of ...   \n",
       "\n",
       "                                             tagline  popularity release_date  \\\n",
       "0                                                NaN   21.946943   1995-10-30   \n",
       "1          Roll the dice and unleash the excitement!   17.015539   1995-12-15   \n",
       "2  Still Yelling. Still Fighting. Still Ready for...   11.712900   1995-12-22   \n",
       "3                           A Los Angeles Crime Saga   17.924927   1995-12-15   \n",
       "4               No limits. No fears. No substitutes.   14.686036   1995-11-16   \n",
       "\n",
       "   runtime  Unnamed: 0_y       job department         director  gender  \\\n",
       "0     81.0             0  Director  Directing    John Lasseter     2.0   \n",
       "1    104.0           109  Director  Directing     Joe Johnston     2.0   \n",
       "2    101.0           122  Director  Directing    Howard Deutch     2.0   \n",
       "3    170.0           143  Director  Directing     Michael Mann     2.0   \n",
       "4    130.0           280  Director  Directing  Martin Campbell     2.0   \n",
       "\n",
       "                  credit_id                                           keywords  \n",
       "0  52fe4284c3a36847f8024f49  boy boy comes door friends friendship jealousy...  \n",
       "1  52fe44bfc3a36847f80a7c7d  based board book children's disappearance game...  \n",
       "2  52fe466a9251416c75077a89   best duringcreditsstinger fishing friend men old  \n",
       "3  52fe4292c3a36847f802916d  and bank bank betrayal cat chase crime crimina...  \n",
       "4  52fe426ec3a36847f801e14b  accused army base bomb car computer cossack cu...  "
      ]
     },
     "execution_count": 14,
     "metadata": {},
     "output_type": "execute_result"
    }
   ],
   "source": [
    "# join 2\n",
    "df2 = pd.merge(df1, keywords_data, on=\"id\")\n",
    "\n",
    "df2.head()"
   ]
  },
  {
   "cell_type": "code",
   "execution_count": 15,
   "metadata": {
    "colab": {
     "base_uri": "https://localhost:8080/",
     "height": 787
    },
    "id": "3ZXB4gQd0jaZ",
    "outputId": "fcb0046e-3d86-48ef-afdf-6e992cf4645e"
   },
   "outputs": [
    {
     "data": {
      "text/html": [
       "<div>\n",
       "<style scoped>\n",
       "    .dataframe tbody tr th:only-of-type {\n",
       "        vertical-align: middle;\n",
       "    }\n",
       "\n",
       "    .dataframe tbody tr th {\n",
       "        vertical-align: top;\n",
       "    }\n",
       "\n",
       "    .dataframe thead th {\n",
       "        text-align: right;\n",
       "    }\n",
       "</style>\n",
       "<table border=\"1\" class=\"dataframe\">\n",
       "  <thead>\n",
       "    <tr style=\"text-align: right;\">\n",
       "      <th></th>\n",
       "      <th>Unnamed: 0_x</th>\n",
       "      <th>title</th>\n",
       "      <th>id</th>\n",
       "      <th>imdb_id</th>\n",
       "      <th>original_language</th>\n",
       "      <th>original_title</th>\n",
       "      <th>overview</th>\n",
       "      <th>tagline</th>\n",
       "      <th>popularity</th>\n",
       "      <th>release_date</th>\n",
       "      <th>runtime</th>\n",
       "      <th>Unnamed: 0_y</th>\n",
       "      <th>job</th>\n",
       "      <th>department</th>\n",
       "      <th>director</th>\n",
       "      <th>gender</th>\n",
       "      <th>credit_id</th>\n",
       "      <th>keywords</th>\n",
       "      <th>genre</th>\n",
       "    </tr>\n",
       "  </thead>\n",
       "  <tbody>\n",
       "    <tr>\n",
       "      <th>0</th>\n",
       "      <td>0</td>\n",
       "      <td>Toy Story</td>\n",
       "      <td>862</td>\n",
       "      <td>114709</td>\n",
       "      <td>en</td>\n",
       "      <td>Toy Story</td>\n",
       "      <td>Led by Woody, Andy's toys live happily in his ...</td>\n",
       "      <td>NaN</td>\n",
       "      <td>21.946943</td>\n",
       "      <td>1995-10-30</td>\n",
       "      <td>81.0</td>\n",
       "      <td>0</td>\n",
       "      <td>Director</td>\n",
       "      <td>Directing</td>\n",
       "      <td>John Lasseter</td>\n",
       "      <td>2.0</td>\n",
       "      <td>52fe4284c3a36847f8024f49</td>\n",
       "      <td>boy boy comes door friends friendship jealousy...</td>\n",
       "      <td>Animation Comedy Family</td>\n",
       "    </tr>\n",
       "    <tr>\n",
       "      <th>1</th>\n",
       "      <td>1</td>\n",
       "      <td>Jumanji</td>\n",
       "      <td>8844</td>\n",
       "      <td>113497</td>\n",
       "      <td>en</td>\n",
       "      <td>Jumanji</td>\n",
       "      <td>When siblings Judy and Peter discover an encha...</td>\n",
       "      <td>Roll the dice and unleash the excitement!</td>\n",
       "      <td>17.015539</td>\n",
       "      <td>1995-12-15</td>\n",
       "      <td>104.0</td>\n",
       "      <td>109</td>\n",
       "      <td>Director</td>\n",
       "      <td>Directing</td>\n",
       "      <td>Joe Johnston</td>\n",
       "      <td>2.0</td>\n",
       "      <td>52fe44bfc3a36847f80a7c7d</td>\n",
       "      <td>based board book children's disappearance game...</td>\n",
       "      <td>Adventure Family Fantasy</td>\n",
       "    </tr>\n",
       "    <tr>\n",
       "      <th>2</th>\n",
       "      <td>2</td>\n",
       "      <td>Grumpier Old Men</td>\n",
       "      <td>15602</td>\n",
       "      <td>113228</td>\n",
       "      <td>en</td>\n",
       "      <td>Grumpier Old Men</td>\n",
       "      <td>A family wedding reignites the ancient feud be...</td>\n",
       "      <td>Still Yelling. Still Fighting. Still Ready for...</td>\n",
       "      <td>11.712900</td>\n",
       "      <td>1995-12-22</td>\n",
       "      <td>101.0</td>\n",
       "      <td>122</td>\n",
       "      <td>Director</td>\n",
       "      <td>Directing</td>\n",
       "      <td>Howard Deutch</td>\n",
       "      <td>2.0</td>\n",
       "      <td>52fe466a9251416c75077a89</td>\n",
       "      <td>best duringcreditsstinger fishing friend men old</td>\n",
       "      <td>Comedy Romance</td>\n",
       "    </tr>\n",
       "    <tr>\n",
       "      <th>3</th>\n",
       "      <td>5</td>\n",
       "      <td>Heat</td>\n",
       "      <td>949</td>\n",
       "      <td>113277</td>\n",
       "      <td>en</td>\n",
       "      <td>Heat</td>\n",
       "      <td>Obsessive master thief, Neil McCauley leads a ...</td>\n",
       "      <td>A Los Angeles Crime Saga</td>\n",
       "      <td>17.924927</td>\n",
       "      <td>1995-12-15</td>\n",
       "      <td>170.0</td>\n",
       "      <td>143</td>\n",
       "      <td>Director</td>\n",
       "      <td>Directing</td>\n",
       "      <td>Michael Mann</td>\n",
       "      <td>2.0</td>\n",
       "      <td>52fe4292c3a36847f802916d</td>\n",
       "      <td>and bank bank betrayal cat chase crime crimina...</td>\n",
       "      <td>Action Crime Drama Thriller</td>\n",
       "    </tr>\n",
       "    <tr>\n",
       "      <th>4</th>\n",
       "      <td>9</td>\n",
       "      <td>GoldenEye</td>\n",
       "      <td>710</td>\n",
       "      <td>113189</td>\n",
       "      <td>en</td>\n",
       "      <td>GoldenEye</td>\n",
       "      <td>James Bond must unmask the mysterious head of ...</td>\n",
       "      <td>No limits. No fears. No substitutes.</td>\n",
       "      <td>14.686036</td>\n",
       "      <td>1995-11-16</td>\n",
       "      <td>130.0</td>\n",
       "      <td>280</td>\n",
       "      <td>Director</td>\n",
       "      <td>Directing</td>\n",
       "      <td>Martin Campbell</td>\n",
       "      <td>2.0</td>\n",
       "      <td>52fe426ec3a36847f801e14b</td>\n",
       "      <td>accused army base bomb car computer cossack cu...</td>\n",
       "      <td>Action Adventure Thriller</td>\n",
       "    </tr>\n",
       "  </tbody>\n",
       "</table>\n",
       "</div>"
      ],
      "text/plain": [
       "   Unnamed: 0_x             title     id  imdb_id original_language  \\\n",
       "0             0         Toy Story    862   114709                en   \n",
       "1             1           Jumanji   8844   113497                en   \n",
       "2             2  Grumpier Old Men  15602   113228                en   \n",
       "3             5              Heat    949   113277                en   \n",
       "4             9         GoldenEye    710   113189                en   \n",
       "\n",
       "     original_title                                           overview  \\\n",
       "0         Toy Story  Led by Woody, Andy's toys live happily in his ...   \n",
       "1           Jumanji  When siblings Judy and Peter discover an encha...   \n",
       "2  Grumpier Old Men  A family wedding reignites the ancient feud be...   \n",
       "3              Heat  Obsessive master thief, Neil McCauley leads a ...   \n",
       "4         GoldenEye  James Bond must unmask the mysterious head of ...   \n",
       "\n",
       "                                             tagline  popularity release_date  \\\n",
       "0                                                NaN   21.946943   1995-10-30   \n",
       "1          Roll the dice and unleash the excitement!   17.015539   1995-12-15   \n",
       "2  Still Yelling. Still Fighting. Still Ready for...   11.712900   1995-12-22   \n",
       "3                           A Los Angeles Crime Saga   17.924927   1995-12-15   \n",
       "4               No limits. No fears. No substitutes.   14.686036   1995-11-16   \n",
       "\n",
       "   runtime  Unnamed: 0_y       job department         director  gender  \\\n",
       "0     81.0             0  Director  Directing    John Lasseter     2.0   \n",
       "1    104.0           109  Director  Directing     Joe Johnston     2.0   \n",
       "2    101.0           122  Director  Directing    Howard Deutch     2.0   \n",
       "3    170.0           143  Director  Directing     Michael Mann     2.0   \n",
       "4    130.0           280  Director  Directing  Martin Campbell     2.0   \n",
       "\n",
       "                  credit_id  \\\n",
       "0  52fe4284c3a36847f8024f49   \n",
       "1  52fe44bfc3a36847f80a7c7d   \n",
       "2  52fe466a9251416c75077a89   \n",
       "3  52fe4292c3a36847f802916d   \n",
       "4  52fe426ec3a36847f801e14b   \n",
       "\n",
       "                                            keywords  \\\n",
       "0  boy boy comes door friends friendship jealousy...   \n",
       "1  based board book children's disappearance game...   \n",
       "2   best duringcreditsstinger fishing friend men old   \n",
       "3  and bank bank betrayal cat chase crime crimina...   \n",
       "4  accused army base bomb car computer cossack cu...   \n",
       "\n",
       "                         genre  \n",
       "0      Animation Comedy Family  \n",
       "1     Adventure Family Fantasy  \n",
       "2               Comedy Romance  \n",
       "3  Action Crime Drama Thriller  \n",
       "4    Action Adventure Thriller  "
      ]
     },
     "execution_count": 15,
     "metadata": {},
     "output_type": "execute_result"
    }
   ],
   "source": [
    "# join 3\n",
    "df3 = pd.merge(df2, genres_data, on=\"id\")\n",
    "\n",
    "df3.head()"
   ]
  },
  {
   "cell_type": "code",
   "execution_count": 16,
   "metadata": {
    "colab": {
     "base_uri": "https://localhost:8080/"
    },
    "id": "Qrtr0oQbIjwF",
    "outputId": "d4cc6679-396b-4f00-d938-78aaf71bcc38"
   },
   "outputs": [
    {
     "data": {
      "text/plain": [
       "(3239, 19)"
      ]
     },
     "execution_count": 16,
     "metadata": {},
     "output_type": "execute_result"
    }
   ],
   "source": [
    "# number of rows and columns in the data frame\n",
    "\n",
    "df3.shape"
   ]
  },
  {
   "cell_type": "code",
   "execution_count": 17,
   "metadata": {},
   "outputs": [
    {
     "data": {
      "text/html": [
       "<div>\n",
       "<style scoped>\n",
       "    .dataframe tbody tr th:only-of-type {\n",
       "        vertical-align: middle;\n",
       "    }\n",
       "\n",
       "    .dataframe tbody tr th {\n",
       "        vertical-align: top;\n",
       "    }\n",
       "\n",
       "    .dataframe thead th {\n",
       "        text-align: right;\n",
       "    }\n",
       "</style>\n",
       "<table border=\"1\" class=\"dataframe\">\n",
       "  <thead>\n",
       "    <tr style=\"text-align: right;\">\n",
       "      <th></th>\n",
       "      <th>Unnamed: 0_x</th>\n",
       "      <th>title</th>\n",
       "      <th>id</th>\n",
       "      <th>imdb_id</th>\n",
       "      <th>original_language</th>\n",
       "      <th>original_title</th>\n",
       "      <th>overview</th>\n",
       "      <th>tagline</th>\n",
       "      <th>popularity</th>\n",
       "      <th>release_date</th>\n",
       "      <th>runtime</th>\n",
       "      <th>Unnamed: 0_y</th>\n",
       "      <th>job</th>\n",
       "      <th>department</th>\n",
       "      <th>director</th>\n",
       "      <th>gender</th>\n",
       "      <th>credit_id</th>\n",
       "    </tr>\n",
       "  </thead>\n",
       "  <tbody>\n",
       "  </tbody>\n",
       "</table>\n",
       "</div>"
      ],
      "text/plain": [
       "Empty DataFrame\n",
       "Columns: [Unnamed: 0_x, title, id, imdb_id, original_language, original_title, overview, tagline, popularity, release_date, runtime, Unnamed: 0_y, job, department, director, gender, credit_id]\n",
       "Index: []"
      ]
     },
     "execution_count": 17,
     "metadata": {},
     "output_type": "execute_result"
    }
   ],
   "source": [
    "\n",
    "df3 = df3.loc[df3['popularity'] >= 10]\n",
    "df3.shape\n",
    "df1.loc[df1['popularity'] < 10]"
   ]
  },
  {
   "cell_type": "code",
   "execution_count": 18,
   "metadata": {
    "colab": {
     "base_uri": "https://localhost:8080/"
    },
    "id": "hunvyruUJhVq",
    "outputId": "591745d7-7d4e-470a-e40a-a26111a130eb"
   },
   "outputs": [
    {
     "name": "stdout",
     "output_type": "stream",
     "text": [
      "['genre', 'keywords', 'director', 'popularity', 'tagline']\n"
     ]
    }
   ],
   "source": [
    "# selecting the relevant features for recommendation\n",
    "\n",
    "selected_features = ['genre','keywords','director', 'popularity', 'tagline']\n",
    "print(selected_features)"
   ]
  },
  {
   "cell_type": "code",
   "execution_count": 19,
   "metadata": {},
   "outputs": [],
   "source": [
    "# replacing the null valuess with null string\n",
    "\n",
    "for feature in selected_features:\n",
    "  df3[feature] = df3[feature].fillna('')"
   ]
  },
  {
   "cell_type": "code",
   "execution_count": 20,
   "metadata": {},
   "outputs": [
    {
     "data": {
      "text/html": [
       "<div>\n",
       "<style scoped>\n",
       "    .dataframe tbody tr th:only-of-type {\n",
       "        vertical-align: middle;\n",
       "    }\n",
       "\n",
       "    .dataframe tbody tr th {\n",
       "        vertical-align: top;\n",
       "    }\n",
       "\n",
       "    .dataframe thead th {\n",
       "        text-align: right;\n",
       "    }\n",
       "</style>\n",
       "<table border=\"1\" class=\"dataframe\">\n",
       "  <thead>\n",
       "    <tr style=\"text-align: right;\">\n",
       "      <th></th>\n",
       "      <th>id</th>\n",
       "      <th>genre</th>\n",
       "      <th>keywords</th>\n",
       "      <th>director</th>\n",
       "      <th>popularity</th>\n",
       "      <th>tagline</th>\n",
       "      <th>original_title</th>\n",
       "      <th>imdb_id</th>\n",
       "    </tr>\n",
       "  </thead>\n",
       "  <tbody>\n",
       "    <tr>\n",
       "      <th>0</th>\n",
       "      <td>862</td>\n",
       "      <td>Animation Comedy Family</td>\n",
       "      <td>boy boy comes door friends friendship jealousy...</td>\n",
       "      <td>John Lasseter</td>\n",
       "      <td>21.946943</td>\n",
       "      <td></td>\n",
       "      <td>Toy Story</td>\n",
       "      <td>114709</td>\n",
       "    </tr>\n",
       "    <tr>\n",
       "      <th>1</th>\n",
       "      <td>8844</td>\n",
       "      <td>Adventure Family Fantasy</td>\n",
       "      <td>based board book children's disappearance game...</td>\n",
       "      <td>Joe Johnston</td>\n",
       "      <td>17.015539</td>\n",
       "      <td>Roll the dice and unleash the excitement!</td>\n",
       "      <td>Jumanji</td>\n",
       "      <td>113497</td>\n",
       "    </tr>\n",
       "    <tr>\n",
       "      <th>2</th>\n",
       "      <td>15602</td>\n",
       "      <td>Comedy Romance</td>\n",
       "      <td>best duringcreditsstinger fishing friend men old</td>\n",
       "      <td>Howard Deutch</td>\n",
       "      <td>11.712900</td>\n",
       "      <td>Still Yelling. Still Fighting. Still Ready for...</td>\n",
       "      <td>Grumpier Old Men</td>\n",
       "      <td>113228</td>\n",
       "    </tr>\n",
       "    <tr>\n",
       "      <th>3</th>\n",
       "      <td>949</td>\n",
       "      <td>Action Crime Drama Thriller</td>\n",
       "      <td>and bank bank betrayal cat chase crime crimina...</td>\n",
       "      <td>Michael Mann</td>\n",
       "      <td>17.924927</td>\n",
       "      <td>A Los Angeles Crime Saga</td>\n",
       "      <td>Heat</td>\n",
       "      <td>113277</td>\n",
       "    </tr>\n",
       "    <tr>\n",
       "      <th>4</th>\n",
       "      <td>710</td>\n",
       "      <td>Action Adventure Thriller</td>\n",
       "      <td>accused army base bomb car computer cossack cu...</td>\n",
       "      <td>Martin Campbell</td>\n",
       "      <td>14.686036</td>\n",
       "      <td>No limits. No fears. No substitutes.</td>\n",
       "      <td>GoldenEye</td>\n",
       "      <td>113189</td>\n",
       "    </tr>\n",
       "  </tbody>\n",
       "</table>\n",
       "</div>"
      ],
      "text/plain": [
       "      id                        genre  \\\n",
       "0    862      Animation Comedy Family   \n",
       "1   8844     Adventure Family Fantasy   \n",
       "2  15602               Comedy Romance   \n",
       "3    949  Action Crime Drama Thriller   \n",
       "4    710    Action Adventure Thriller   \n",
       "\n",
       "                                            keywords         director  \\\n",
       "0  boy boy comes door friends friendship jealousy...    John Lasseter   \n",
       "1  based board book children's disappearance game...     Joe Johnston   \n",
       "2   best duringcreditsstinger fishing friend men old    Howard Deutch   \n",
       "3  and bank bank betrayal cat chase crime crimina...     Michael Mann   \n",
       "4  accused army base bomb car computer cossack cu...  Martin Campbell   \n",
       "\n",
       "   popularity                                            tagline  \\\n",
       "0   21.946943                                                      \n",
       "1   17.015539          Roll the dice and unleash the excitement!   \n",
       "2   11.712900  Still Yelling. Still Fighting. Still Ready for...   \n",
       "3   17.924927                           A Los Angeles Crime Saga   \n",
       "4   14.686036               No limits. No fears. No substitutes.   \n",
       "\n",
       "     original_title  imdb_id  \n",
       "0         Toy Story   114709  \n",
       "1           Jumanji   113497  \n",
       "2  Grumpier Old Men   113228  \n",
       "3              Heat   113277  \n",
       "4         GoldenEye   113189  "
      ]
     },
     "execution_count": 20,
     "metadata": {},
     "output_type": "execute_result"
    }
   ],
   "source": [
    "df4 = df3[['id', 'genre','keywords','director', 'popularity', 'tagline', 'original_title', 'imdb_id']]\n",
    "df4.head()\n"
   ]
  },
  {
   "cell_type": "code",
   "execution_count": 22,
   "metadata": {
    "id": "CKIVE6OWKSYk"
   },
   "outputs": [],
   "source": [
    "# combining rows\n",
    "#define how to aggregate various fields\n",
    "agg_functions = {'genre':  ' '.join, 'keywords':  ' '.join, 'director':  'first', 'popularity': 'first', 'tagline': 'first', 'original_title': 'first', 'imdb_id': 'first'}\n",
    "\n",
    "#create new DataFrame by combining rows with same id values\n",
    "df_new = df4.groupby(df4['id']).aggregate(agg_functions)\n",
    "df_new['keywords']=df_new['keywords']. apply(str. lower)\n",
    "df_new['tagline']=df_new['tagline']. apply(str. lower)\n",
    "df_new['genre']=df_new['genre']. apply(str. lower)"
   ]
  },
  {
   "cell_type": "code",
   "execution_count": 23,
   "metadata": {},
   "outputs": [
    {
     "data": {
      "text/html": [
       "<div>\n",
       "<style scoped>\n",
       "    .dataframe tbody tr th:only-of-type {\n",
       "        vertical-align: middle;\n",
       "    }\n",
       "\n",
       "    .dataframe tbody tr th {\n",
       "        vertical-align: top;\n",
       "    }\n",
       "\n",
       "    .dataframe thead th {\n",
       "        text-align: right;\n",
       "    }\n",
       "</style>\n",
       "<table border=\"1\" class=\"dataframe\">\n",
       "  <thead>\n",
       "    <tr style=\"text-align: right;\">\n",
       "      <th></th>\n",
       "      <th>genre</th>\n",
       "      <th>keywords</th>\n",
       "      <th>director</th>\n",
       "      <th>popularity</th>\n",
       "      <th>tagline</th>\n",
       "      <th>original_title</th>\n",
       "      <th>imdb_id</th>\n",
       "      <th>id</th>\n",
       "    </tr>\n",
       "  </thead>\n",
       "  <tbody>\n",
       "    <tr>\n",
       "      <th>0</th>\n",
       "      <td>action adventure fiction science</td>\n",
       "      <td>android death empire force galactic galaxy her...</td>\n",
       "      <td>George Lucas</td>\n",
       "      <td>42.149697</td>\n",
       "      <td>a long time ago in a galaxy far, far away...</td>\n",
       "      <td>Star Wars</td>\n",
       "      <td>76759</td>\n",
       "      <td>0</td>\n",
       "    </tr>\n",
       "    <tr>\n",
       "      <th>1</th>\n",
       "      <td>animation family</td>\n",
       "      <td>aftercreditsstinger barrier child clownfish du...</td>\n",
       "      <td>Andrew Stanton</td>\n",
       "      <td>25.497794</td>\n",
       "      <td>there are 3.7 trillion fish in the ocean. they...</td>\n",
       "      <td>Finding Nemo</td>\n",
       "      <td>266543</td>\n",
       "      <td>1</td>\n",
       "    </tr>\n",
       "    <tr>\n",
       "      <th>2</th>\n",
       "      <td>comedy drama romance</td>\n",
       "      <td>amputee based bench bully disabled family flas...</td>\n",
       "      <td>Robert Zemeckis</td>\n",
       "      <td>48.307194</td>\n",
       "      <td>the world will never be the same, once you've ...</td>\n",
       "      <td>Forrest Gump</td>\n",
       "      <td>109830</td>\n",
       "      <td>2</td>\n",
       "    </tr>\n",
       "    <tr>\n",
       "      <th>3</th>\n",
       "      <td>drama</td>\n",
       "      <td>adultery affair age agent bittersweet camcorde...</td>\n",
       "      <td>Sam Mendes</td>\n",
       "      <td>20.726578</td>\n",
       "      <td>look closer.</td>\n",
       "      <td>American Beauty</td>\n",
       "      <td>169547</td>\n",
       "      <td>3</td>\n",
       "    </tr>\n",
       "    <tr>\n",
       "      <th>4</th>\n",
       "      <td>drama mystery</td>\n",
       "      <td>art banker capitalist child collector florida ...</td>\n",
       "      <td>Orson Welles</td>\n",
       "      <td>15.811921</td>\n",
       "      <td>it's terrific!</td>\n",
       "      <td>Citizen Kane</td>\n",
       "      <td>33467</td>\n",
       "      <td>4</td>\n",
       "    </tr>\n",
       "  </tbody>\n",
       "</table>\n",
       "</div>"
      ],
      "text/plain": [
       "                              genre  \\\n",
       "0  action adventure fiction science   \n",
       "1                  animation family   \n",
       "2              comedy drama romance   \n",
       "3                             drama   \n",
       "4                     drama mystery   \n",
       "\n",
       "                                            keywords         director  \\\n",
       "0  android death empire force galactic galaxy her...     George Lucas   \n",
       "1  aftercreditsstinger barrier child clownfish du...   Andrew Stanton   \n",
       "2  amputee based bench bully disabled family flas...  Robert Zemeckis   \n",
       "3  adultery affair age agent bittersweet camcorde...       Sam Mendes   \n",
       "4  art banker capitalist child collector florida ...     Orson Welles   \n",
       "\n",
       "   popularity                                            tagline  \\\n",
       "0   42.149697       a long time ago in a galaxy far, far away...   \n",
       "1   25.497794  there are 3.7 trillion fish in the ocean. they...   \n",
       "2   48.307194  the world will never be the same, once you've ...   \n",
       "3   20.726578                                       look closer.   \n",
       "4   15.811921                                     it's terrific!   \n",
       "\n",
       "    original_title  imdb_id  id  \n",
       "0        Star Wars    76759   0  \n",
       "1     Finding Nemo   266543   1  \n",
       "2     Forrest Gump   109830   2  \n",
       "3  American Beauty   169547   3  \n",
       "4     Citizen Kane    33467   4  "
      ]
     },
     "execution_count": 23,
     "metadata": {},
     "output_type": "execute_result"
    }
   ],
   "source": [
    "df_train = df_new\n",
    "\n",
    "\n",
    "df_train = df_train.reset_index(drop=True)\n",
    "\n",
    "df_train['id'] = df_train.index\n",
    "\n",
    "df_train.head()"
   ]
  },
  {
   "cell_type": "code",
   "execution_count": 24,
   "metadata": {
    "id": "-AMjrRItLCO1"
   },
   "outputs": [],
   "source": [
    "# combining all the 3 selected features\n",
    "\n",
    "combined_features = df_train['genre']+' '+df_train['keywords']+' '+df_train['director']+' '+df_train['tagline']+' '+str(df_train['popularity'])\n",
    "\n"
   ]
  },
  {
   "cell_type": "code",
   "execution_count": 25,
   "metadata": {
    "colab": {
     "base_uri": "https://localhost:8080/"
    },
    "id": "ZYjFXx3aLwTh",
    "outputId": "7639c9e1-8011-4904-d794-274558043c94"
   },
   "outputs": [
    {
     "name": "stdout",
     "output_type": "stream",
     "text": [
      "0       action adventure fiction science android death...\n",
      "1       animation family aftercreditsstinger barrier c...\n",
      "2       comedy drama romance amputee based bench bully...\n",
      "3       drama adultery affair age agent bittersweet ca...\n",
      "4       drama mystery art banker capitalist child coll...\n",
      "                              ...                        \n",
      "2907    action thriller suspense Alex Merkin  0       ...\n",
      "2908    drama movie music romance tv 1960s catskills m...\n",
      "2909    animation comedy family romance animation come...\n",
      "2910    action crime thriller s.w.a.t. Tony Giglio  0 ...\n",
      "2911    action adventure crime saint the Ernie Barbara...\n",
      "Length: 2912, dtype: object\n"
     ]
    }
   ],
   "source": [
    "print(combined_features)"
   ]
  },
  {
   "cell_type": "code",
   "execution_count": 26,
   "metadata": {
    "id": "BfuttC_gLyfF"
   },
   "outputs": [],
   "source": [
    "# converting the text data to feature vectors\n",
    "\n",
    "vectorizer = TfidfVectorizer()"
   ]
  },
  {
   "cell_type": "code",
   "execution_count": 27,
   "metadata": {
    "id": "Leo5rQskMKxL"
   },
   "outputs": [],
   "source": [
    "feature_vectors = vectorizer.fit_transform(combined_features)"
   ]
  },
  {
   "cell_type": "code",
   "execution_count": 28,
   "metadata": {
    "colab": {
     "base_uri": "https://localhost:8080/"
    },
    "id": "qNbeeMSnMb2F",
    "outputId": "2eea4636-48e6-4eee-f0e1-097f2541009d"
   },
   "outputs": [
    {
     "name": "stdout",
     "output_type": "stream",
     "text": [
      "  (0, 3352)\t0.02663747186820855\n",
      "  (0, 2712)\t0.02663747186820855\n",
      "  (0, 71)\t0.02663747186820855\n",
      "  (0, 5145)\t0.02663747186820855\n",
      "  (0, 6835)\t0.02663747186820855\n",
      "  (0, 6037)\t0.02663747186820855\n",
      "  (0, 60)\t0.02663747186820855\n",
      "  (0, 65)\t0.02663747186820855\n",
      "  (0, 70)\t0.02663747186820855\n",
      "  (0, 77)\t0.02663747186820855\n",
      "  (0, 69)\t0.02663747186820855\n",
      "  (0, 104)\t0.02663747186820855\n",
      "  (0, 68)\t0.02663747186820855\n",
      "  (0, 17)\t0.02663747186820855\n",
      "  (0, 67)\t0.02663747186820855\n",
      "  (0, 2)\t0.02663747186820855\n",
      "  (0, 10)\t0.0532749437364171\n",
      "  (0, 66)\t0.02663747186820855\n",
      "  (0, 103)\t0.02663747186820855\n",
      "  (0, 19)\t0.02663747186820855\n",
      "  (0, 101)\t0.02663747186820855\n",
      "  (0, 49)\t0.07991241560462566\n",
      "  (0, 74)\t0.02663747186820855\n",
      "  (0, 86)\t0.02663747186820855\n",
      "  (0, 87)\t0.02663747186820855\n",
      "  :\t:\n",
      "  (2911, 60)\t0.06404947185912964\n",
      "  (2911, 65)\t0.06404947185912964\n",
      "  (2911, 70)\t0.06404947185912964\n",
      "  (2911, 77)\t0.06404947185912964\n",
      "  (2911, 69)\t0.06404947185912964\n",
      "  (2911, 104)\t0.06404947185912964\n",
      "  (2911, 68)\t0.06404947185912964\n",
      "  (2911, 17)\t0.06404947185912964\n",
      "  (2911, 67)\t0.06404947185912964\n",
      "  (2911, 2)\t0.06404947185912964\n",
      "  (2911, 10)\t0.12809894371825928\n",
      "  (2911, 66)\t0.06404947185912964\n",
      "  (2911, 103)\t0.06404947185912964\n",
      "  (2911, 19)\t0.06404947185912964\n",
      "  (2911, 101)\t0.06404947185912964\n",
      "  (2911, 49)\t0.19214841557738893\n",
      "  (2911, 74)\t0.06404947185912964\n",
      "  (2911, 86)\t0.06404947185912964\n",
      "  (2911, 87)\t0.06404947185912964\n",
      "  (2911, 63)\t0.06404947185912964\n",
      "  (2911, 18)\t0.06404947185912964\n",
      "  (2911, 83)\t0.06404947185912964\n",
      "  (2911, 8847)\t0.13163963521070146\n",
      "  (2911, 214)\t0.15856401649367666\n",
      "  (2911, 165)\t0.14115596537483108\n"
     ]
    }
   ],
   "source": [
    "print(feature_vectors)"
   ]
  },
  {
   "cell_type": "markdown",
   "metadata": {
    "id": "qEGga5yPMnXO"
   },
   "source": [
    "Cosine Similarity"
   ]
  },
  {
   "cell_type": "code",
   "execution_count": 29,
   "metadata": {
    "id": "MsKYCs31MeB6"
   },
   "outputs": [],
   "source": [
    "# getting the similarity scores using cosine similarity\n",
    "\n",
    "similarity = cosine_similarity(feature_vectors)"
   ]
  },
  {
   "cell_type": "code",
   "execution_count": 30,
   "metadata": {
    "colab": {
     "base_uri": "https://localhost:8080/"
    },
    "id": "46ha1PfTM-oQ",
    "outputId": "44407f14-2d52-436e-a815-e933ec75b4df"
   },
   "outputs": [
    {
     "name": "stdout",
     "output_type": "stream",
     "text": [
      "[[1.         0.03630099 0.03985671 ... 0.03868416 0.09197035 0.09248856]\n",
      " [0.03630099 1.         0.06680819 ... 0.12585912 0.07975538 0.07191536]\n",
      " [0.03985671 0.06680819 1.         ... 0.0919637  0.07192974 0.07753597]\n",
      " ...\n",
      " [0.03868416 0.12585912 0.0919637  ... 1.         0.09397225 0.09301558]\n",
      " [0.09197035 0.07975538 0.07192974 ... 0.09397225 1.         0.26047014]\n",
      " [0.09248856 0.07191536 0.07753597 ... 0.09301558 0.26047014 1.        ]]\n"
     ]
    }
   ],
   "source": [
    "print(similarity)"
   ]
  },
  {
   "cell_type": "code",
   "execution_count": 31,
   "metadata": {
    "colab": {
     "base_uri": "https://localhost:8080/"
    },
    "id": "PLkvII-wM_5I",
    "outputId": "de638c77-1595-4d1a-f8d2-db6a3c1aabf0"
   },
   "outputs": [
    {
     "name": "stdout",
     "output_type": "stream",
     "text": [
      "(2912, 2912)\n"
     ]
    }
   ],
   "source": [
    "print(similarity.shape)"
   ]
  },
  {
   "cell_type": "code",
   "execution_count": 32,
   "metadata": {},
   "outputs": [
    {
     "data": {
      "text/html": [
       "<div>\n",
       "<style scoped>\n",
       "    .dataframe tbody tr th:only-of-type {\n",
       "        vertical-align: middle;\n",
       "    }\n",
       "\n",
       "    .dataframe tbody tr th {\n",
       "        vertical-align: top;\n",
       "    }\n",
       "\n",
       "    .dataframe thead th {\n",
       "        text-align: right;\n",
       "    }\n",
       "</style>\n",
       "<table border=\"1\" class=\"dataframe\">\n",
       "  <thead>\n",
       "    <tr style=\"text-align: right;\">\n",
       "      <th></th>\n",
       "      <th>movie1</th>\n",
       "      <th>movie2</th>\n",
       "      <th>similarity</th>\n",
       "    </tr>\n",
       "  </thead>\n",
       "  <tbody>\n",
       "    <tr>\n",
       "      <th>0</th>\n",
       "      <td>0</td>\n",
       "      <td>0</td>\n",
       "      <td>1.000000</td>\n",
       "    </tr>\n",
       "    <tr>\n",
       "      <th>1</th>\n",
       "      <td>0</td>\n",
       "      <td>1</td>\n",
       "      <td>0.036301</td>\n",
       "    </tr>\n",
       "    <tr>\n",
       "      <th>2</th>\n",
       "      <td>0</td>\n",
       "      <td>2</td>\n",
       "      <td>0.039857</td>\n",
       "    </tr>\n",
       "    <tr>\n",
       "      <th>3</th>\n",
       "      <td>0</td>\n",
       "      <td>3</td>\n",
       "      <td>0.040576</td>\n",
       "    </tr>\n",
       "    <tr>\n",
       "      <th>4</th>\n",
       "      <td>0</td>\n",
       "      <td>4</td>\n",
       "      <td>0.036711</td>\n",
       "    </tr>\n",
       "  </tbody>\n",
       "</table>\n",
       "</div>"
      ],
      "text/plain": [
       "   movie1  movie2  similarity\n",
       "0       0       0    1.000000\n",
       "1       0       1    0.036301\n",
       "2       0       2    0.039857\n",
       "3       0       3    0.040576\n",
       "4       0       4    0.036711"
      ]
     },
     "execution_count": 32,
     "metadata": {},
     "output_type": "execute_result"
    }
   ],
   "source": [
    "#similarity scores to df\n",
    "similarity_df = pd.DataFrame(similarity)\n",
    "\n",
    "# Stack the DataFrame to convert it to a long format\n",
    "long_simi_df = similarity_df.stack().reset_index()\n",
    "\n",
    "# Rename the columns to something more meaningful\n",
    "long_simi_df.columns = ['movie1', 'movie2', 'similarity']\n",
    "\n",
    "# Print the resulting long-form DataFrame\n",
    "long_simi_df.head()"
   ]
  },
  {
   "cell_type": "code",
   "execution_count": 33,
   "metadata": {},
   "outputs": [
    {
     "data": {
      "text/html": [
       "<div>\n",
       "<style scoped>\n",
       "    .dataframe tbody tr th:only-of-type {\n",
       "        vertical-align: middle;\n",
       "    }\n",
       "\n",
       "    .dataframe tbody tr th {\n",
       "        vertical-align: top;\n",
       "    }\n",
       "\n",
       "    .dataframe thead th {\n",
       "        text-align: right;\n",
       "    }\n",
       "</style>\n",
       "<table border=\"1\" class=\"dataframe\">\n",
       "  <thead>\n",
       "    <tr style=\"text-align: right;\">\n",
       "      <th></th>\n",
       "      <th>genre</th>\n",
       "      <th>keywords</th>\n",
       "      <th>director</th>\n",
       "      <th>popularity</th>\n",
       "      <th>tagline</th>\n",
       "      <th>original_title</th>\n",
       "      <th>imdb_id</th>\n",
       "      <th>id</th>\n",
       "    </tr>\n",
       "  </thead>\n",
       "  <tbody>\n",
       "    <tr>\n",
       "      <th>0</th>\n",
       "      <td>action adventure fiction science</td>\n",
       "      <td>android death empire force galactic galaxy her...</td>\n",
       "      <td>George Lucas</td>\n",
       "      <td>42.149697</td>\n",
       "      <td>a long time ago in a galaxy far, far away...</td>\n",
       "      <td>Star Wars</td>\n",
       "      <td>76759</td>\n",
       "      <td>0</td>\n",
       "    </tr>\n",
       "    <tr>\n",
       "      <th>1</th>\n",
       "      <td>animation family</td>\n",
       "      <td>aftercreditsstinger barrier child clownfish du...</td>\n",
       "      <td>Andrew Stanton</td>\n",
       "      <td>25.497794</td>\n",
       "      <td>there are 3.7 trillion fish in the ocean. they...</td>\n",
       "      <td>Finding Nemo</td>\n",
       "      <td>266543</td>\n",
       "      <td>1</td>\n",
       "    </tr>\n",
       "    <tr>\n",
       "      <th>2</th>\n",
       "      <td>comedy drama romance</td>\n",
       "      <td>amputee based bench bully disabled family flas...</td>\n",
       "      <td>Robert Zemeckis</td>\n",
       "      <td>48.307194</td>\n",
       "      <td>the world will never be the same, once you've ...</td>\n",
       "      <td>Forrest Gump</td>\n",
       "      <td>109830</td>\n",
       "      <td>2</td>\n",
       "    </tr>\n",
       "    <tr>\n",
       "      <th>3</th>\n",
       "      <td>drama</td>\n",
       "      <td>adultery affair age agent bittersweet camcorde...</td>\n",
       "      <td>Sam Mendes</td>\n",
       "      <td>20.726578</td>\n",
       "      <td>look closer.</td>\n",
       "      <td>American Beauty</td>\n",
       "      <td>169547</td>\n",
       "      <td>3</td>\n",
       "    </tr>\n",
       "    <tr>\n",
       "      <th>4</th>\n",
       "      <td>drama mystery</td>\n",
       "      <td>art banker capitalist child collector florida ...</td>\n",
       "      <td>Orson Welles</td>\n",
       "      <td>15.811921</td>\n",
       "      <td>it's terrific!</td>\n",
       "      <td>Citizen Kane</td>\n",
       "      <td>33467</td>\n",
       "      <td>4</td>\n",
       "    </tr>\n",
       "  </tbody>\n",
       "</table>\n",
       "</div>"
      ],
      "text/plain": [
       "                              genre  \\\n",
       "0  action adventure fiction science   \n",
       "1                  animation family   \n",
       "2              comedy drama romance   \n",
       "3                             drama   \n",
       "4                     drama mystery   \n",
       "\n",
       "                                            keywords         director  \\\n",
       "0  android death empire force galactic galaxy her...     George Lucas   \n",
       "1  aftercreditsstinger barrier child clownfish du...   Andrew Stanton   \n",
       "2  amputee based bench bully disabled family flas...  Robert Zemeckis   \n",
       "3  adultery affair age agent bittersweet camcorde...       Sam Mendes   \n",
       "4  art banker capitalist child collector florida ...     Orson Welles   \n",
       "\n",
       "   popularity                                            tagline  \\\n",
       "0   42.149697       a long time ago in a galaxy far, far away...   \n",
       "1   25.497794  there are 3.7 trillion fish in the ocean. they...   \n",
       "2   48.307194  the world will never be the same, once you've ...   \n",
       "3   20.726578                                       look closer.   \n",
       "4   15.811921                                     it's terrific!   \n",
       "\n",
       "    original_title  imdb_id  id  \n",
       "0        Star Wars    76759   0  \n",
       "1     Finding Nemo   266543   1  \n",
       "2     Forrest Gump   109830   2  \n",
       "3  American Beauty   169547   3  \n",
       "4     Citizen Kane    33467   4  "
      ]
     },
     "execution_count": 33,
     "metadata": {},
     "output_type": "execute_result"
    }
   ],
   "source": [
    "df_train.head()"
   ]
  },
  {
   "cell_type": "code",
   "execution_count": 34,
   "metadata": {
    "scrolled": true
   },
   "outputs": [],
   "source": [
    "#output similarity scores\n",
    "\n",
    "long_simi_df.to_csv('cosine_similarity.csv')\n",
    "\n",
    "df_train.to_csv('df_ml.csv')"
   ]
  },
  {
   "cell_type": "markdown",
   "metadata": {
    "id": "EG3JItMUWeDD"
   },
   "source": [
    "Getting the movie name from the user"
   ]
  },
  {
   "cell_type": "code",
   "execution_count": 97,
   "metadata": {
    "colab": {
     "base_uri": "https://localhost:8080/"
    },
    "id": "bhSWJgqgNDo7",
    "outputId": "844a3764-cab2-455a-b418-9d8435c6be2b"
   },
   "outputs": [
    {
     "name": "stdout",
     "output_type": "stream",
     "text": [
      " Enter your favourite movie name : The Godfather\n"
     ]
    }
   ],
   "source": [
    "# getting the movie name from the user\n",
    "\n",
    "movie_name = input(' Enter your favourite movie name : ')"
   ]
  },
  {
   "cell_type": "code",
   "execution_count": 98,
   "metadata": {
    "colab": {
     "base_uri": "https://localhost:8080/"
    },
    "id": "VQ8Qvu8vNj4U",
    "outputId": "37234fc1-b609-4aeb-b739-d2da20b344a5"
   },
   "outputs": [
    {
     "name": "stdout",
     "output_type": "stream",
     "text": [
      "['Toy Story', 'Jumanji', 'Grumpier Old Men', 'Heat', 'GoldenEye', 'Balto', 'Casino', 'Sense and Sensibility', 'Get Shorty', 'Copycat', 'Assassins', 'Powder', 'Leaving Las Vegas', 'Twelve Monkeys', 'Babe', 'Restoration', 'Mortal Kombat', 'To Die For', 'Se7en', 'Pocahontas', 'The Usual Suspects', 'Mighty Aphrodite', 'The Postman', 'The Indian in the Cupboard', \"Don't Be a Menace to South Central While Drinking Your Juice in the Hood\", 'Friday', 'From Dusk Till Dawn', 'Bed of Roses', 'Screamers', 'Mary Reilly', 'Broken Arrow', 'La Haine', 'Braveheart', 'Taxi Driver', 'Rumble in the Bronx', 'Jade', 'Apollo 13', 'Rob Roy', 'Batman Forever', 'Belle de Jour', 'Blue in the Face', 'Casper', 'Die Hard: With a Vengeance', 'First Knight', 'Hackers', 'Johnny Mnemonic', 'Living in Oblivion', 'The Net', 'The Prophecy', 'Showgirls', 'Species', 'Strange Days', 'Three Wishes', 'Waterworld', 'Before Sunrise', 'Clerks', 'Disclosure', 'Ed Wood', 'Forget Paris', 'A Goofy Movie', 'Interview with the Vampire', 'Star Wars', 'Legends of the Fall', \"Mary Shelley's Frankenstein\", 'Natural Born Killers', 'Outbreak', 'Leon: The Professional', 'Pulp Fiction', 'The Specialist', 'Stargate', 'The Shawshank Redemption', 'Tommy Boy', \"What's Eating Gilbert Grape\", 'While You Were Sleeping', 'Ace Ventura: Pet Detective', 'Bitter Moon', 'The Client', 'The Crow', 'The Flintstones', 'Forrest Gump', 'It Could Happen to You', 'The Jungle Book', 'The Lion King', 'The Mask', 'Maverick', 'The Naked Gun 33⅓: The Final Insult', 'The River Wild', 'Speed', 'True Lies', 'Wolf', 'Street Fighter', 'Addams Family Values', 'Another Stakeout', 'Bad Girls', 'Beverly Hills Cop III', 'Blown Away', 'Coneheads', 'Color of Night', 'Dave', 'Demolition Man', 'The Fugitive', 'The Getaway', 'Hot Shots! Part Deux', 'The House of the Spirits', 'In the Line of Fire', \"What's Love Got to Do with It\", 'Executive Decision', 'Mr. Wonderful', 'Mrs. Doubtfire', 'North', 'Philadelphia', 'The Remains of the Day', 'Robin Hood: Men in Tights', \"Schindler's List\", 'Searching for Bobby Fischer', 'Sleepless in Seattle', 'Sliver', 'Blade Runner', 'Striking Distance', 'Threesome', 'The Nightmare Before Christmas', 'Tombstone', 'True Romance', 'Ghost', 'Aladdin', 'Terminator 2: Judgment Day', 'Dances with Wolves', 'Batman', 'Snow White and the Seven Dwarfs', 'Beauty and the Beast', 'Pinocchio', 'Pretty Woman', 'The Wild Bunch', 'Fargo', 'Homeward Bound II: Lost in San Francisco', 'Primal Fear', 'Courage Under Fire', 'Mission: Impossible', 'DragonHeart', 'James and the Giant Peach', 'Underground', 'Space Jam', 'Barbarella', 'The Substitute', 'Feeling Minnesota', 'Oliver & Company', 'The Craft', 'The Rock', 'Ghost in the Shell', 'Striptease', 'Trainspotting', 'Independence Day', 'The Fan', 'The Hunchback of Notre Dame', 'Kingpin', 'Daylight', 'The Frighteners', \"She's the One\", 'A Time to Kill', 'The First Wives Club', 'Chain Reaction', 'Matilda', 'House Arrest', 'Escape from L.A.', 'The Godfather', 'Bound', 'The Island of Dr. Moreau', 'For Whom the Bell Tolls', \"Singin' in the Rain\", \"Breakfast at Tiffany's\", 'Vertigo', 'Rear Window', 'Gaslight', 'North by Northwest', 'The Apartment', 'Some Like It Hot', 'Casablanca', 'My Fair Lady', 'Roman Holiday', 'The Wizard of Oz', 'Gone with the Wind', 'Sunset Boulevard', 'Citizen Kane', '2001: A Space Odyssey', 'All About Eve', 'Notorious', 'Gigi', 'The Adventures of Robin Hood', 'Giant', 'The Thin Man', \"It's a Wonderful Life\", 'Night of the Living Dead', 'Cat on a Hot Tin Roof', 'Meet John Doe', 'Last Man Standing', 'The Love Bug', 'Old Yeller', 'Angels in the Outfield', 'Cinderella', 'The Sword in the Stone', 'Robin Hood: Prince of Thieves', 'Mary Poppins', 'Dumbo', 'Bedknobs and Broomsticks', 'Alice in Wonderland', 'The Fox and the Hound', 'Die Hard', 'Secrets & Lies', 'The Long Kiss Goodnight', 'The Ghost and the Darkness', 'Romeo + Juliet', 'Willy Wonka & the Chocolate Factory', 'A Fish Called Wanda', 'Life of Brian', 'The Candidate', 'Bonnie and Clyde', 'Dirty Dancing', 'Reservoir Dogs', 'Platoon', 'Basic Instinct', \"Sophie's Choice\", 'E.T. the Extra-Terrestrial', 'Top Gun', 'Rebel Without a Cause', 'Microcosmos', 'Glory Daze', 'On Golden Pond', 'Escape from New York', 'Private Benjamin', 'Monty Python and the Holy Grail', 'Raw Deal', 'Cinema Paradiso', 'Delicatessen', 'The Grifters', 'The English Patient', 'Sex, Lies, and Videotape', 'Tie Me Up! Tie Me Down!', \"One Flew Over the Cuckoo's Nest\", 'The Empire Strikes Back', 'The Princess Bride', 'Raiders of the Lost Ark', 'Aliens', 'The Good, the Bad and the Ugly', 'Withnail & I', '12 Angry Men', 'Lawrence of Arabia', 'A Clockwork Orange', 'To Kill a Mockingbird', 'Apocalypse Now', 'Once Upon a Time in the West', 'Return of the Jedi', 'GoodFellas', 'Alien', 'Army of Darkness', 'The Big Blue', 'Ran', 'Psycho', 'The Blues Brothers', 'The Godfather: Part II', 'Full Metal Jacket', 'Amadeus', 'Once Upon a Time in America', 'Annie Hall', 'The Right Stuff', 'The Sting', 'Harold and Maude', 'Local Hero', 'The Terminator', 'Braindead', 'Manhattan', 'Dead Poets Society', 'The Graduate', 'Chinatown', 'The Shining', 'Stand by Me', 'M', 'Evil Dead II', 'The Great Escape', 'Groundhog Day', 'Unforgiven', 'Arsenic and Old Lace', 'Back to the Future', 'Patton', 'Akira', 'Highlander', 'High Noon', 'Heathers', 'Ben-Hur', 'This Is Spinal Tap', 'Some Kind of Wonderful', 'Indiana Jones and the Last Crusade', 'Being There', 'Gandhi', 'Real Genius', 'The Killing Fields', 'Field of Dreams', 'Paris, Texas', 'Alien³', 'An American Werewolf in London', 'Amityville II: The Possession', 'The Amityville Horror', \"April Fool's Day\", 'The Birds', 'Dracula', 'Candyman', 'Cape Fear', 'A Nightmare on Elm Street', 'The Omen', 'Shine', 'Ridicule', '101 Dalmatians', 'Die Hard 2', 'Star Trek V: The Final Frontier', 'Star Trek IV: The Voyage Home', 'Batman Returns', 'Young Guns II', 'Grease 2', 'Jaws', 'Jaws 2', 'Jaws 3-D', 'Mars Attacks!', 'Jerry Maguire', 'Raising Arizona', 'Ghosts of Mississippi', 'Scream', 'The Last of the Mohicans', 'Walkabout', 'Fierce Creatures', 'Beverly Hills Ninja', 'Metro', 'The Cement Garden', 'Benny & Joon', 'Kolya', \"Gridlock'd\", 'Donnie Brasco', 'Jungle 2 Jungle', 'Private Parts', 'The Saint', 'Liar Liar', \"The Devil's Own\", 'Anaconda', 'Volcano', 'Austin Powers: International Man of Mystery', 'The Fifth Element', 'Con Air', 'Speed 2: Cruise Control', 'Batman & Robin', 'Hercules', 'Face/Off', 'Men in Black', 'Contact', 'Conan the Barbarian', 'Event Horizon', 'Spawn', 'Conspiracy Theory', 'Money Talks', 'Air Force One', 'The Hunt for Red October', 'The Edge', 'L.A. Confidential', 'Seven Years in Tibet', 'Kiss the Girls', 'The Game', 'Chasing Amy', \"The Devil's Advocate\", 'Gattaca', 'Phantoms', 'A Life Less Ordinary', 'Stripes', 'Bean', 'Witness', 'Starship Troopers', 'The Truman Show', 'The Jackal', 'Anastasia', 'Alien: Resurrection', 'Good Will Hunting', 'Scream 2', 'Titanic', 'Tomorrow Never Dies', 'Jackie Brown', 'The Big Lebowski', 'Dark City', 'Blues Brothers 2000', 'King of New York', 'Wild Things', 'Lost in Space', 'He Got Game', 'The Borrowers', 'Species II', 'Les Misérables', 'Deep Impact', 'Quest for Camelot', 'Godzilla', 'The Opposite of Sex', 'Six Days Seven Nights', 'Mulan', 'The X Files', 'Armageddon', 'Lethal Weapon 4', 'Small Soldiers', 'Pi', \"There's Something About Mary\", 'All Quiet on the Western Front', 'Grand Hotel', 'On the Waterfront', 'Marty', 'Midnight Cowboy', 'Rocky', 'Out of Africa', 'The Last Emperor', 'Rain Man', 'Driving Miss Daisy', 'Labyrinth', 'The Breakfast Club', 'A Nightmare on Elm Street 3: Dream Warriors', \"Freddy's Dead: The Final Nightmare\", 'Friday the 13th', 'Friday the 13th: The Final Chapter', 'Halloween', 'Halloween II', \"Child's Play\", \"Child's Play 2\", \"Child's Play 3\", 'Poltergeist', 'The Exorcist', 'Lethal Weapon', 'Lethal Weapon 2', 'Lethal Weapon 3', 'Gremlins', 'Gremlins 2: The New Batch', 'The Goonies', 'The Mask of Zorro', 'Metropolis', 'Back to the Future Part II', 'Back to the Future Part III', 'The Poseidon Adventure', 'Bambi', 'Seven Samurai', 'Dangerous Liaisons', 'The Last Temptation of Christ', 'The Godfather: Part III', 'Lolita', 'Disturbing Behavior', 'Saving Private Ryan', 'Blank Check', 'D2: The Mighty Ducks', 'The Great Mouse Detective', 'Hocus Pocus', 'Honey I Blew Up the Kid', 'Honey, I Shrunk the Kids', 'BASEketball', 'Full Tilt Boogie', 'Fandango', 'The Jungle Book', 'Lady and the Tramp', 'The Little Mermaid', 'The Muppet Christmas Carol', 'One Hundred and One Dalmatians', 'One Magic Christmas', 'Peter Pan', 'The Rescuers', 'The Return of Jafar', 'The Rocketeer', 'Sleeping Beauty', 'Tron', 'The Man with Two Brains', 'Indiana Jones and the Temple of Doom', 'Nineteen Eighty-Four', 'The Dead Zone', 'Needful Things', 'Children of the Corn', 'The Addams Family', 'Ever After: A Cinderella Story', 'Snake Eyes', 'Weird Science', 'The Secret of NIMH', 'The Dark Crystal', 'An American Tail', 'Legend', 'The Clan of the Cave Bear', 'House', 'House II: The Second Story', 'The Gods Must Be Crazy', 'Henry: Portrait of a Serial Killer', \"Rosemary's Baby\", 'The NeverEnding Story', 'Blade', 'Beetlejuice', 'The Man Who Knew Too Much', 'I Confess', 'Strangers on a Train', 'The Untouchables', 'Cube', \"We're No Angels\", 'Nothing but Trouble', 'A Few Good Men', 'Rush Hour', 'The Sheltering Sky', 'If....', 'The Thing', 'Edward Scissorhands', 'Antz', 'A Night at the Roxbury', 'What Dreams May Come', 'Bride of Chucky', 'Apt Pupil', 'Pleasantville', 'Life Is Beautiful', 'Vampires', 'American History X', 'Velvet Goldmine', 'I Still Know What You Did Last Summer', 'Meet Joe Black', 'Runaway Train', 'The Big Chill', 'Enemy of the State', \"A Bug's Life\", 'Godzilla', 'The Emerald Forest', 'Fletch Lives', 'Red Sonja', 'A View to a Kill', 'Lifeforce', 'Police Academy 5: Assignment Miami Beach', 'Very Bad Things', 'The Prince of Egypt', 'Shakespeare in Love', 'Santa Claus: The Movie', 'Rambo: First Blood Part II', 'First Blood', 'Rambo III', 'The Jewel of the Nile', 'Cocoon: The Return', 'Rocky II', 'Rocky III', 'Rocky IV', 'Rocky V', 'Heartburn', \"You've Got Mail\", 'The Faculty', 'Patch Adams', 'Howard the Duck', 'The Fly', 'The Texas Chain Saw Massacre', 'The Name of the Rose', 'The Color of Money', '52 Pick-Up', 'Still Crazy', 'My Favorite Martian', 'Office Space', 'Planet of the Apes', 'Beneath the Planet of the Apes', 'Battle for the Planet of the Apes', 'Conquest of the Planet of the Apes', 'Escape from the Planet of the Apes', 'The Haunting', 'True Crime', 'The Matrix', '10 Things I Hate About You', 'Twin Dragons', 'eXistenZ', 'Entrapment', 'The Mummy', 'Star Wars: Episode I - The Phantom Menace', 'The Mummy', 'Superman', 'Superman II', 'Buena Vista Social Club', 'Austin Powers: The Spy Who Shagged Me', 'Tarzan', \"The General's Daughter\", 'South Park: Bigger, Longer & Uncut', 'American Pie', 'The Blair Witch Project', 'Eyes Wide Shut', 'Lake Placid', 'Ghostbusters', 'Ghostbusters II', 'Inspector Gadget', 'Mystery Men', 'The Killing', 'Spartacus', 'Barry Lyndon', 'The Color Purple', 'No Mercy', 'The Mission', 'Allan Quatermain and the Lost City of Gold', 'The Iron Giant', 'The Sixth Sense', 'The Thomas Crown Affair', 'The Yards', 'The Masque of the Red Death', 'Damien: Omen II', 'Airplane!', 'National Lampoon’s European Vacation', 'Funny Farm', 'Three Days of the Condor', 'The 13th Warrior', \"The Astronaut's Wife\", \"A Soldier's Story\", 'Yellow Submarine', 'American Beauty', 'Caligula', 'Thumbelina', 'Armour of God II: Operation Condor', 'Double Jeopardy', 'Three Kings', 'New Rose Hotel', 'Plunkett & MacLeane', 'The Dark Half', 'Sanjuro', 'Total Recall', \"Ferris Bueller's Day Off\", 'The Year of Living Dangerously', 'Niagara', 'Indochine', 'The Dirty Dozen', 'Help!', 'Goldfinger', 'From Russia with Love', 'Dr. No', 'The Blue Lagoon', 'A Fistful of Dollars', 'Home Alone 2: Lost in New York', 'Fight Club', 'The Straight Story', 'RoboCop', 'RoboCop 2', 'Who Framed Roger Rabbit', 'Licence to Kill', 'Thunderball', 'House on Haunted Hill', 'Being John Malkovich', 'Princess Mononoke', 'The Insider', 'Creepshow', 'Falling Down', 'Piranha', 'Yojimbo', 'Repossessed', 'Robin Hood', 'Trading Places', 'Anywhere But Here', 'The Longest Day', 'Moonstruck', 'Sleepy Hollow', 'The World Is Not Enough', 'All About My Mother', 'Scrooged', 'Bicycle Thieves', 'The Natural', 'A River Runs Through It', 'Fatal Attraction', 'Awakenings', 'The Fisher King', 'Toy Story 2', 'The Green Mile', 'The 7th Voyage of Sinbad', 'Anna and the King', 'Fantasia 2000', 'Any Given Sunday', 'Man on the Moon', 'Galaxy Quest', 'The Talented Mr. Ripley', 'Next Friday', 'The Way We Were', 'Papillon', 'Dead Calm', \"National Lampoon's Loaded Weapon 1\", 'Fast Times at Ridgemont High', 'Malcolm X', 'Sister Act', 'Sister Act 2: Back in the Habit', 'Scent of a Woman', \"Wayne's World\", \"Wayne's World 2\", 'A League of Their Own', 'Patriot Games', 'Death Becomes Her', 'Howards End', 'Singles', 'Hard Boiled', 'Stop! Or My Mom Will Shoot', 'The Boondock Saints', 'The Beach', 'The Whole Nine Yards', 'City Lights', 'Reindeer Games', 'Birdy', 'The Ninth Gate', 'The Asphalt Jungle', 'JFK', \"We're Back! A Dinosaur's Story\", 'Titanic', 'Erin Brockovich', 'Final Destination', 'Mirror', 'Thelma & Louise', 'Do the Right Thing', 'Death Wish', 'Death Wish 3', 'Dying Young', 'Teenage Mutant Ninja Turtles', 'Close Encounters of the Third Kind', 'The Skulls', 'Hook', 'Horror Express', 'True Grit', 'Misery', 'Solaris', 'Network', 'No Way Out', 'Frequency', 'Rules of Engagement', 'Arthur', 'Predator', 'American Psycho', 'Cabaret', 'The Hunger', 'Caddyshack', 'The Virgin Suicides', 'Limelight', 'Gladiator', 'Mr. Mom', 'Center Stage', 'Hamlet', \"Pee-wee's Big Adventure\", 'Possession', 'Mission: Impossible II', 'Shanghai Noon', 'Moonraker', 'The Man with the Golden Gun', 'American Gigolo', 'Stay Tuned', 'Blazing Saddles', 'For a Few Dollars More', 'Magnum Force', 'Flatliners', \"Porky's\", 'Predator 2', 'Alien Nation', 'Mad Max', 'Mad Max 2: The Road Warrior', 'Mad Max Beyond Thunderdome', 'Action Jackson', 'Gone in Sixty Seconds', 'Hamlet', 'Assault on Precinct 13', 'The Conversation', 'The Fury', 'Serpico', 'Ace in the Hole', 'Big Trouble in Little China', 'Badlands', 'Battleship Potemkin', 'Boys and Girls', 'Chicken Run', 'The Patriot', 'The Adventures of Rocky & Bullwinkle', 'The Perfect Storm', 'The Kid', 'Scary Movie', 'Blow-Up', 'Footloose', 'Freejack', 'What About Bob?', 'Coyote Ugly', 'Pumpkinhead', 'Air America', 'The Replacements', 'The Cell', 'The Naked Gun: From the Files of Police Squad!', 'Supergirl', 'Highlander: Endgame', 'Under Suspicion', 'Urban Legends: Final Cut', 'Dancer in the Dark', 'Hellraiser', 'Stranger Than Paradise', 'Fantastic Voyage', 'Meet the Parents', 'The Contender', 'The Time Machine', 'Billy Elliot', 'Pay It Forward', 'Diamonds Are Forever', 'The Eagle Has Landed', 'Bounce', 'How the Grinch Stole Christmas', 'Unbreakable', 'Crouching Tiger, Hidden Dragon', 'The Living Daylights', 'Wall Street', 'Born on the Fourth of July', 'Snatch', 'Dude, Where’s My Car?', \"The Emperor's New Groove\", 'Pollock', 'Finding Forrester', 'Cast Away', 'O Brother, Where Art Thou?', 'Thirteen Days', 'Shadow of the Vampire', 'At Close Range', 'The Pledge', 'Barfly', 'The Big Easy', 'Eddie Murphy Raw', 'Empire of the Sun', 'The Evil Dead', 'Innerspace', 'Sweet November', 'See Spot Run', '15 Minutes', 'Death Warrant', 'Death on the Nile', 'Revenge of the Nerds II: Nerds in Paradise', 'Enemy at the Gates', 'Exit Wounds', 'Memento', 'Along Came a Spider', 'Blow', 'Pokémon: Spell of the Unknown', \"Bridget Jones's Diary\", 'Joe Dirt', 'Scarface', 'The Mummy Returns', 'For the Boys', 'Nine to Five', 'Summer Rental', \"A Knight's Tale\", 'Shrek', 'Moulin Rouge!', 'Pearl Harbor', 'The Horse Soldiers', 'Mississippi Burning', 'The Magnificent Seven', 'Rio Bravo', 'Suspect', 'The Sand Pebbles', 'Point Break', 'Atlantis: The Lost Empire', 'Lara Croft: Tomb Raider', 'A.I. Artificial Intelligence', 'Scary Movie 2', 'Baise-moi', 'Dr. Goldfoot and the Bikini Machine', 'Nice Dreams', 'Suspiria', 'The Big Boss', 'The Way of the Dragon', 'Final Fantasy: The Spirits Within', 'Legally Blonde', 'The Score', 'The Accused', 'Appointment with Death', 'Beaches', 'Big Top Pee-wee', 'The Blob', 'Critters', 'Gorillas in the Mist', 'The Great Outdoors', 'The Land Before Time', 'Off Limits', 'Red Heat', 'Short Circuit', 'The Vanishing', 'They Live', 'Best of the Best 2', \"Bill & Ted's Excellent Adventure\", 'Dream a Little Dream', 'Earth Girls Are Easy', 'Leviathan', 'Miracle Mile', 'The Punisher', 'Planet of the Apes', 'See No Evil, Hear No Evil', 'Stepfather II: Make Room For Daddy', 'Turner & Hooch', 'Warlock', 'Hatari!', 'Paint Your Wagon', 'Altered States', 'American Pie 2', 'The Others', 'American Outlaws', 'Session 9', 'Rat Race', 'Bubble Boy', 'Jay and Silent Bob Strike Back', 'Jeepers Creepers', '3 Ninjas', 'Rock Star', 'Training Day', \"It's a Mad, Mad, Mad, Mad World\", 'Zoolander', 'Joy Ride', 'The Party', 'Brubaker', 'Cruising', 'Bandits', 'Mulholland Drive', 'Dirty Harry', 'Waking Life', 'K-PAX', 'Donnie Darko', 'Monsters, Inc.', 'Shallow Hal', \"Harry Potter and the Philosopher's Stone\", 'Spy Game', \"The Devil's Backbone\", 'Midway', 'The Young Lions', 'Funeral in Berlin', 'The Final Countdown', 'Lord of the Flies', 'The People That Time Forgot', 'Behind Enemy Lines', \"Ocean's Eleven\", 'Amélie', 'Vanilla Sky', 'Clockwise', 'The Lord of the Rings: The Fellowship of the Ring', 'A Beautiful Mind', 'Black Hawk Down', 'Charlotte Gray', 'Gosford Park', 'I Am Sam', 'Brotherhood of the Wolf', 'The Russia House', 'Conan the Destroyer', 'Snow Dogs', '48 Hrs.', 'The Count of Monte Cristo', 'Collateral Damage', \"Baby's Day Out\", 'The Sandlot', \"Hart's War\", 'Sleuth', 'Monsoon Wedding', 'We Were Soldiers', 'Gloria', 'The Long Good Friday', 'Ice Age', 'Y Tu Mamá También', 'Smokey and the Bandit Part 3', 'Blade II', 'Panic Room', 'The Rookie', \"The Cat's Meow\", '3:10 to Yuma', 'Bite the Bullet', 'Enigma', 'Salton Sea', 'Wild Orchid', 'Spider-Man', 'White Fang', 'About a Boy', 'Star Wars: Episode II - Attack of the Clones', 'Insomnia', 'Spirit: Stallion of the Cimarron', 'Thirteen Conversations About One Thing', 'Silent Running', 'The Bourne Identity', 'Lilo & Stitch', 'Minority Report', 'Men in Black II', 'Reign of Fire', 'Road to Perdition', 'Z', 'Eight Legged Freaks', 'Our Man Flint', 'Signs', 'xXx', '24 Hour Party People', 'One Hour Photo', 'Serving Sara', 'Undisputed', 'Hot Shots!', '976-EVIL', 'The Transporter', 'The Ladykillers', 'Secretary', 'Spirited Away', 'Moonlight Mile', 'Wasabi', 'Below', 'White Oleander', 'Bowling for Columbine', 'The Ring', 'Saturday Night Fever', 'The Professional', 'Ghost Ship', 'Jackass: The Movie', 'Frida', 'Casino Royale', 'I Spy', 'Far from Heaven', 'Harry Potter and the Chamber of Secrets', 'Liberty Stands Still', 'Dog Soldiers', 'Toy Soldiers', 'Rich and Famous', 'Scanners', 'Thief', 'Die Another Day', 'Eight Crazy Nights', 'Solaris', 'Treasure Planet', 'I Spit on Your Grave', 'Zulu', 'Adaptation.', 'Equilibrium', 'Eating Raoul', 'Star Trek: Nemesis', 'About Schmidt', 'The Lord of the Rings: The Two Towers', '25th Hour', 'Antwone Fisher', 'Gangs of New York', 'My Neighbor Totoro', 'Catch Me If You Can', 'Chicago', 'The Hours', 'The Pianist', 'Confessions of a Dangerous Mind', 'City of God', 'CB4', 'The Woman in Red', 'Darkness Falls', 'Biker Boyz', 'Final Destination 2', 'The Recruit', 'Ordinary Decent Criminal', 'Evil Under the Sun', \"A Midsummer Night's Sex Comedy\", 'Tenebre', 'Daredevil', 'The Jungle Book 2', 'Dennis the Menace', 'The Black Stallion', 'Old School', 'Tears of the Sun', 'Irreversible', 'Green Card', 'Journey to the Center of the Earth', 'Basic', 'The Core', 'Day for Night', 'A Man Apart', 'Cowboy Bebop: The Movie', 'House of 1000 Corpses', 'Holes', 'The Andromeda Strain', 'Legal Eagles', 'Identity', 'Castle in the Sky', 'Gunfight at the O.K. Corral', 'Kiss Me Kate', 'The Matrix Reloaded', 'Bruce Almighty', 'Finding Nemo', 'The Italian Job', 'Wrong Turn', 'Whale Rider', 'A Man Called Horse', 'Two Mules for Sister Sara', 'The Long, Hot Summer', 'The Undefeated', 'Good Burger', 'Hollywood Homicide', 'Experiment in Terror', '28 Days Later', 'Mr. Baseball', 'Hulk', 'Terminator 3: Rise of the Machines', 'Swimming Pool', 'Pirates of the Caribbean: The Curse of the Black Pearl', 'The League of Extraordinary Gentlemen', 'Lara Croft Tomb Raider: The Cradle of Life', 'Avanti!', 'Juggernaut', 'Remo Williams: The Adventure Begins...', 'The Blood of Heroes', 'American Wedding', 'Gigli', 'S.W.A.T.', 'Freddy vs. Jason', 'Open Range', 'Agent Cody Banks', 'Code Unknown', 'Showdown in Little Tokyo', 'Tokyo Story', 'Tremors', 'The Red Shoes', 'Commando', \"My Boss's Daughter\", 'The Battle of Shaker Heights', 'Jeepers Creepers 2', 'Lost in Translation', 'Anything Else', 'Underworld', 'Duplex', 'My Life Without Me', \"All the President's Men\", \"Babette's Feast\", 'The Meaning of Life', 'Where Eagles Dare', 'City Heat', 'Come and See', 'Scrooge', 'Mobsters', 'Out of Time', 'School of Rock', 'Mystic River', 'Intolerable Cruelty', 'Kill Bill: Vol. 1', 'Sylvia', 'Scary Movie 3', 'Brother Bear', 'The Singing Detective', 'Sweet Sixteen', 'The Matrix Revolutions', 'Love Actually', 'Looney Tunes: Back in Action', 'The Cat in the Hat', 'Gothika', 'Bad Santa', 'The Haunted Mansion', 'New Jack City', 'The Last Boy Scout', 'Last Tango in Paris', 'Only the Lonely', 'Passenger 57', 'Project X', 'Battle Royale', 'Rabid', 'Show Me Love', 'Teen Wolf', 'Vivre Sa Vie', 'The Witches of Eastwick', 'Aguirre: The Wrath of God', 'Jezebel', 'A Passage to India', 'Nausicaä of the Valley of the Wind', 'Doc Hollywood', 'The Cooler', 'Honey', 'The Last Samurai', 'Big Fish', 'The Lord of the Rings: The Return of the King', 'Mona Lisa Smile', 'Paycheck', 'Along Came Polly', 'Mon oncle', 'To Have and Have Not', 'Cool World', 'Chitty Chitty Bang Bang', 'The Butterfly Effect', 'Thirteen', '50 First Dates', 'Flesh + Blood', 'The Passion of the Christ', 'Good bye, Lenin!', 'Starsky & Hutch', 'Agent Cody Banks 2: Destination London', 'The Girl Next Door', 'Dawn of the Dead', 'Eternal Sunshine of the Spotless Mind', 'The Ladykillers', 'Ned Kelly', 'Hellboy', 'The Prince & Me', 'Walking Tall', 'The United States of Leland', 'The Alamo', 'Ella Enchanted', 'The Ten Commandments', 'Dawn of the Dead', 'Kill Bill: Vol. 2', 'The Punisher', '13 Going on 30', 'Envy', 'Godsend', 'Mean Girls', 'Van Helsing', 'Troy', 'D-Tox', 'Enter the Dragon', 'You Only Live Twice', 'Octopussy', 'Never Say Never Again', 'Rooster Cogburn', 'The Warriors', 'Zardoz', 'The Virgin Spring', \"Frank Herbert's Dune\", 'Tremors 3: Back to Perfection', 'The Haunted Palace', 'The People Under the Stairs', 'Ken Park', 'Infernal Affairs', 'Brigadoon', 'The Power of One', 'The Getaway', 'How to Steal a Million', 'Hamburger Hill', 'Crossroads', 'La Dolce Vita', 'Rush', 'Batteries not Included', 'Night of the Living Dead', 'Point of No Return', 'Escape from Alcatraz', 'Shrek 2', 'The Day After Tomorrow', 'Raising Helen', 'Harry Potter and the Prisoner of Azkaban', 'Garfield', 'The Stepford Wives', 'Napoleon Dynamite', 'Hope Springs', 'Big Wednesday', 'White Heat', 'Scrooge', 'DodgeBall: A True Underdog Story', 'The Terminal', 'The Notebook', 'The Philadelphia Experiment', 'Roxanne', 'Spider-Man 2', 'Anchorman: The Legend of Ron Burgundy', 'I, Robot', 'The Bourne Supremacy', 'Catwoman', 'A Man Escaped', 'The Manchurian Candidate', 'Thunderbirds', 'Garden State', 'A Funny Thing Happened on the Way to the Forum', 'Collateral', 'AVP: Alien vs. Predator', 'Exorcist: The Beginning', 'Anacondas: The Hunt for the Blood Orchid', 'Paparazzi', 'Wimbledon', 'Shaun of the Dead', '1492: Conquest of Paradise', 'Shark Tale', 'I Heart Huckabees', 'Team America: World Police', 'Eulogy', 'Friday Night Lights', 'The Final Cut', 'Alfie', 'Sideways', 'The Machinist', 'Saw', 'Ray', 'The Incredibles', 'The Polar Express', 'Seed of Chucky', 'After the Sunset', 'Finding Neverland', 'National Treasure', 'The SpongeBob SquarePants Movie', 'Alexander', 'Closer', \"Ocean's Twelve\", 'Blade: Trinity', 'The Phantom of the Opera', 'Island of Lost Souls', 'Wuthering Heights', 'The Wild One', 'Night and Fog', 'The Battle of Algiers', 'Grand Prix', 'Two for the Road', 'Duel', 'Dracula A.D. 1972', 'Scarecrow', 'Emmanuelle', 'French Connection II', 'Sorcerer', 'Capricorn One', 'The Hobbit', \"Snake in the Eagle's Shadow\", 'I as in Icarus', 'Blue Thunder', 'The Day After', 'Racing with the Moon', 'Demons', 'Ewoks: The Battle for Endor', 'Law of Desire', 'Moonwalker', 'Prison', \"Kiki's Delivery Service\", 'Havana', 'Johnny Stecchino', 'Only Yesterday', 'Quigley Down Under', 'Captain America', 'Bad Boy Bubby', 'The Stand', 'The Langoliers', 'Whisper of the Heart', 'From Dusk Till Dawn 2: Texas Blood Money', 'Vidocq', 'An Extremely Goofy Movie', 'Audition', 'Asterix & Obelix: Mission Cleopatra', 'Joint Security Area', \"A Dog's Will\", 'Ali G Indahouse', 'Cube²: Hypercube', 'The Animatrix', '11:14', 'Tremors 4: The Legend Begins', \"Lemony Snicket's A Series of Unfortunate Events\", 'A Very Long Engagement', 'Head-On', 'The Cat Returns', \"Salem's Lot\", 'Oldboy', 'The Jacket', 'Starship Troopers 2: Hero of the Federation', 'The Sea Inside', 'Spanglish', 'The Chorus', 'The Interpreter', 'Open Water', 'Flight of the Phoenix', 'Mean Creek', 'The Ring Two', 'A Scanner Darkly', 'Million Dollar Baby', 'Hotel Rwanda', 'Charlie and the Chocolate Factory', '3-Iron', 'Meet the Fockers', 'The Assassination of Richard Nixon', 'The Merchant of Venice', 'Elektra', 'Coach Carter', 'Shivers', 'The Chase', 'Assault on Precinct 13', \"Howl's Moving Castle\", 'Hitch', \"Pooh's Heffalump Movie\", 'Bunny Lake Is Missing', 'Night and the City', 'The Three Musketeers', 'Bed and Board', 'Be Cool', 'Robots', 'Sin City', \"Who's Your Daddy?\", \"The Hitchhiker's Guide to the Galaxy\", 'The Amityville Horror', 'A Lot Like Love', 'xXx: State of the Union', 'Kingdom of Heaven', 'Star Wars: Episode III - Revenge of the Sith', '9 Songs', 'Madagascar', 'Airborne', 'Most Wanted', 'Mr. & Mrs. Smith', 'Quo Vadis', 'Batman Begins', 'Man with the Screaming Brain', 'Deceived', 'War of the Worlds', 'Fantastic Four', 'Wedding Crashers', 'The Island', \"The Devil's Rejects\", 'Stealth', 'Dust Devil', 'Serenity', 'The Skeleton Key', 'The Great Raid', 'The 40 Year Old Virgin', 'Dilwale Dulhania Le Jayenge', 'Valiant', 'The Brothers Grimm', 'The Constant Gardener', 'Transporter 2', 'Revenge of the Ninja', 'New Police Story', 'Doom', 'Æon Flux', 'The Man', 'The Exorcism of Emily Rose', 'Flightplan', 'Corpse Bride', 'A History of Violence', 'Oliver Twist', 'Final Fantasy VII: Advent Children', 'Into the Blue', 'The Curse of the Were-Rabbit', 'Kiss Kiss Bang Bang', 'A Bittersweet Life', 'The Squid and the Whale', 'Brokeback Mountain', 'Elizabethtown', 'Saw II', 'Tarzan and His Mate', 'Chicken Little', \"Dead Man's Shoes\", 'Derailed', 'Pride & Prejudice', 'Harry Potter and the Goblet of Fire', 'Walk the Line', 'Zathura: A Space Adventure', 'Yours, Mine & Ours', 'The Wild Geese', 'The Deep', 'The Chronicles of Narnia: The Lion, the Witch and the Wardrobe', 'King Kong', 'Havoc', 'Fun with Dick and Jane', 'Casanova', 'Hostel', 'Tristan & Isolde', 'Underworld: Evolution', 'The Creeping Unknown', 'Bandidas', 'Charlie: The Life and Art of Charles Chaplin', 'Bye Bye Birdie', 'Final Destination 3', 'The Pink Panther', 'Troll', 'Curious George', 'Eight Below', 'Ultraviolet', 'Pulse', '16 Blocks', 'Half Light', 'Ice Age: The Meltdown', 'The Big White', 'V for Vendetta', 'Find Me Guilty', 'Inside Man', 'Aquamarine', 'The Hills Have Eyes', 'Lucky Number Slevin', 'Basic Instinct 2', 'Slither', 'The Benchwarmers', 'Scary Movie 4', 'The Sentinel', 'Mission: Impossible III', 'RV', 'United 93', 'Down in the Valley', 'Art School Confidential', 'The Da Vinci Code', 'Peaceful Warrior', 'Cars', \"Carlito's Way: Rise to Power\", 'Nacho Libre', 'The Lake House', 'The Devil Wears Prada', \"Pirates of the Caribbean: Dead Man's Chest\", 'My Super Ex-Girlfriend', 'The Miracle of Bern', 'Career Opportunities', 'High School Musical', 'Triple Cross', 'Superman Returns', 'Babel', 'Monster House', 'Night at the Museum', 'World Trade Center', 'Stranger Than Fiction', 'Miami Vice', 'The Pursuit of Happyness', 'Crank', 'The Secret Life of Words', 'The Night Listener', 'Step Up', 'Zoom', 'Half Nelson', 'The Illusionist', '36th Precinct', 'Lassie', 'The Covenant', 'Trust the Man', 'Idiocracy', 'The Fountain', 'The Science of Sleep', \"Pan's Labyrinth\", 'The Guardian', 'Open Season', 'School for Scoundrels', 'The Departed', 'The Texas Chainsaw Massacre: The Beginning', 'Ellie Parker', 'The Elementary Particles', 'Shortbus', 'Children of Men', 'The Prestige', 'Saw III', 'Perfume: The Story of a Murderer', 'For Your Consideration', 'Shooting Dogs', 'Casino Royale', 'Happy Feet', 'Déjà Vu', 'The Holiday', 'Snow Cake', 'Reeker', 'Turistas', 'Blood Diamond', \"Charlotte's Web\", 'Rocky Balboa', 'The Painted Veil', 'The Good Shepherd', 'Freedom Writers', 'Letters from Iwo Jima', \"Happily N'Ever After\", 'Code Name: The Cleaner', 'Arthur and the Invisibles', 'Waitress', 'Because I Said So', 'Ratatouille', 'Danika', 'Days of Glory', 'Unknown', 'Ghost Rider', 'Factory Girl', 'Hot Fuzz', 'Amazing Grace', 'Zodiac', 'Wild Hogs', '300', 'Premonition', 'Dead Silence', 'Reign Over Me', 'Shooter', 'TMNT', 'The Lookout', 'Meet the Robinsons', 'Sunshine', 'Sky Fighters', 'Origin: Spirits of the Past', 'Disturbia', 'Pathfinder', 'La Vie en Rose', 'Griffin & Phoenix', 'Fracture', 'Big Nothing', 'Island of Fire', \"Mr. Bean's Holiday\", 'The Condemned', 'Spider-Man 3', 'Red Road', '28 Weeks Later', 'Shrek the Third', 'Once', \"Pirates of the Caribbean: At World's End\", \"The Librarian: Return to King Solomon's Mines\", 'Cashback', \"Ocean's Thirteen\", \"Surf's Up\", 'Fantastic 4: Rise of the Silver Surfer', 'Death Proof', 'The Night of the Generals', 'A Mighty Heart', 'Live Free or Die Hard', 'Harry Potter and the Order of the Phoenix', 'Stardust', 'Skinwalkers', 'The Simpsons Movie', 'The Bourne Ultimatum', 'Tell No One', 'Superbad', 'The Kingdom', 'War', 'Halloween', 'Taxi 4', 'Planet Terror', '3:10 to Yuma', 'The Brave One', 'I Could Never Be Your Woman', 'The Death and Life of Bobby Z', 'Into the Wild', 'Postal', 'Rendition', 'Things We Lost in the Fire', 'Alien Autopsy', 'The Assassination of Jesse James by the Coward Robert Ford', 'The Jane Austen Book Club', 'The Edge of Heaven', 'Saw IV', 'Elite Squad', 'King of California', 'The Diving Bell and the Butterfly', 'No Country for Old Men', 'The Desperate Hours', 'Enchanted', 'Hitman', 'The Golden Compass', 'I Am Legend', 'Alvin and the Chipmunks', 'Wrong Turn 2: Dead End', 'The Orphanage', 'Juno', 'Goodbye Bafana', 'My Blueberry Nights', 'Cake', 'Between Two Worlds', 'The Flock', 'Sweeney Todd: The Demon Barber of Fleet Street', 'National Treasure: Book of Secrets', 'Aliens vs Predator: Requiem', 'P.S. I Love You', '27 Dresses', 'Cloverfield', 'Trade', 'The Girl Who Leapt Through Time', 'One Missed Call', 'The Signal', 'Hellboy II: The Golden Army', 'Rise of the Footsoldier', 'Jumper', 'Definitely, Maybe', 'The Spiderwick Chronicles', 'Jodhaa Akbar', 'Run, Fatboy, Run', '10,000 BC', 'Doomsday', 'Diary of the Dead', 'Penelope', 'What Just Happened', 'The Dark Knight', 'Never Back Down', 'Slipstream', 'Forgetting Sarah Marshall', 'Street Kings', 'Harold & Kumar Escape from Guantanamo Bay', 'The Life Before Her Eyes', 'Happy-Go-Lucky', 'Super High Me', 'Baby Mama', 'Iron Man', 'Taken', 'The Fall', 'What Happens in Vegas', 'The Chronicles of Narnia: Prince Caspian', 'Indiana Jones and the Kingdom of the Crystal Skull', 'Kung Fu Panda', \"You Don't Mess with the Zohan\", 'Warlock', 'The Incredible Hulk', 'The Children of Huang Shi', 'WALL·E', 'Wanted', 'Hancock', 'Angel Face', 'Get Smart', 'Sleepwalking', 'Mamma Mia!', 'Journey to the Center of the Earth', 'Meet Dave', 'Transsiberian', 'Watchmen', 'War Games: The Dead Code', 'Brideshead Revisited', 'The Mummy: Tomb of the Dragon Emperor', 'The Midnight Meat Train', 'Batman: Gotham Knight', 'The Walker', 'Red Cliff', 'WΔZ', 'Death Race', 'Return to House on Haunted Hill', 'Burn After Reading', 'Disaster Movie', 'College', 'The Mother of Tears', 'Lakeview Terrace', 'Ghost Town', 'Appaloosa', 'Miracle at St. Anna', 'Eagle Eye', 'How to Lose Friends & Alienate People', \"Nick and Norah's Infinite Playlist\", 'Gomorrah', 'Rachel Getting Married', 'Body of Lies', 'Max Payne', \"My Best Friend's Girl\", 'Madagascar: Escape 2 Africa', 'Changeling', 'The Road', 'Slumdog Millionaire', 'Quantum of Solace', 'Saw V', 'Wagon Master', 'The Class', 'Bolt', 'Milk', 'Twilight', 'Hunger', 'A Matter of Loaf and Death', 'Starship Troopers 3: Marauder', 'Dean Spanley', 'Gran Torino', 'Frost/Nixon', 'Seven Pounds', 'The Curious Case of Benjamin Button', '5 Centimeters per Second', 'Bedtime Stories', 'Revolutionary Road', 'Wild Child', 'Defiance', 'The Tale of Despereaux', 'Underworld: Rise of the Lycans', 'Inkheart', 'The Lazarus Project', 'Paul Blart: Mall Cop', 'The Uninvited', 'Outlander', 'The Grudge 3', 'Eden Lake', 'Coraline', 'The Escapist', 'Push', 'Futurama: Into the Wild Green Yonder', 'Thick as Thieves', 'Friday the 13th', 'The Pink Panther 2', 'I Love You, Man', 'The Haunting in Connecticut', 'Monsters vs Aliens', '17 Again', 'Inglourious Basterds', 'The Damned United', 'Crank: High Voltage', 'Moon', 'Star Trek', 'Earth', 'Angels & Demons', 'Live!', 'Management', 'Terminator Salvation', 'Night at the Museum: Battle of the Smithsonian', 'The Soloist', 'The Last House on the Left', 'Drag Me to Hell', 'Up', 'The Hangover', 'New in Town', 'The Taking of Pelham 1 2 3', 'Year One', 'Public Enemies', 'Ice Age: Dawn of the Dinosaurs', '(500) Days of Summer', 'Franklyn', 'Harry Potter and the Half-Blood Prince', 'Open Water 2: Adrift', 'A Perfect Getaway', 'Aliens in the Attic', 'District 9', 'G.I. Joe: The Rise of Cobra', 'Cold Souls', '12 Rounds', 'The Line', 'Alien Trespass', \"The Time Traveler's Wife\", 'The Secret of Moonacre', 'To Each His Own Cinema', 'Paris 36', 'Taking Woodstock', 'The Secret in Their Eyes', '9', 'The White Ribbon', 'Green Lantern: First Flight', 'Pandorum', \"Jennifer's Body\", 'The Informant!', 'Extract', 'Cloudy with a Chance of Meatballs', 'Love Happens', 'Bright Star', 'Paranormal Activity', 'The Cove', \"Trick 'r Treat\", 'Whip It', 'Surrogates', 'Zombieland', 'Couples Retreat', 'Deadgirl', 'Where the Wild Things Are', 'New York, I Love You', 'Law Abiding Citizen', 'Spread', 'Saw VI', \"Cirque du Freak: The Vampire's Assistant\", 'Good Hair', 'Black Dynamite', 'Astro Boy', 'A Christmas Carol', 'Partly Cloudy', '2012', 'The Box', 'The Fourth Kind', 'The Twilight Saga: New Moon', 'Derailed', 'The Blind Side', 'Planet 51', 'A Single Man', 'The Lovely Bones', 'The Princess and the Frog', 'Two Rode Together', 'Avatar', 'Sherlock Holmes', 'Daybreakers', 'The Book of Eli', 'The Innocent', 'Staten Island', 'Bart Got a Room', 'Dragon Hunters', 'Rob-B-Hood', 'Blood and Bone', 'Undisputed II: Last Man Standing', 'Legion', 'Falling Up', 'When in Rome', 'Triangle', 'Shutter Island', 'The Girl Who Played with Fire', 'Cop Out', 'The Crazies', 'My Name Is Khan', 'Alice in Wonderland', 'Green Zone', 'Dorian Gray', \"Brooklyn's Finest\", 'Frozen', 'The Egyptian', 'Hot Tub Time Machine', 'Chloe', 'How to Train Your Dragon', 'Tom and Jerry: The Movie', 'About Elly', 'Clash of the Titans', 'Kick-Ass', 'Five Minutes of Heaven', 'The Runaways', 'Death at a Funeral', 'Diary of a Wimpy Kid', 'Dogtooth', 'The Losers', 'Cyrus', 'The Human Centipede (First Sequence)', 'Iron Man 2', 'Marmaduke', 'MacGruber', 'A Nightmare on Elm Street', 'Four Lions', 'Furry Vengeance', \"You Don't Know Jack\", 'Robin Hood', 'Blue Valentine', 'Prince of Persia: The Sands of Time', 'The A-Team', 'Toy Story 3', \"Don't Look Back\", 'Shrek Forever After', 'The Twilight Saga: Eclipse', 'Despicable Me', 'Inception', 'Grown Ups', \"The Sorcerer's Apprentice\", 'Knight and Day', 'The Karate Kid', 'A Serbian Film', 'Mr. Nobody', 'Dinner for Schmucks', 'The Other Guys', 'The Expendables', 'Scott Pilgrim vs. the World', 'Centurion', 'Gainsbourg: A Heroic Life', 'TEKKEN', 'The Social Network', 'The Town', 'Easy A', 'Eat Pray Love', 'Flipped', \"Legend of the Guardians: The Owls of Ga'Hoole\", 'Tamara Drewe', 'Let Me In', 'You Again', 'Stone', 'Inside Job', 'Conviction', 'Dirty Girl', 'Shelter', 'Jackass 3D', 'RED', 'Whisper', 'Black Death', 'Undisputed III : Redemption', 'Saw: The Final Chapter', 'Due Date', '127 Hours', 'Megamind', 'Black Swan', \"A Turtle's Tale: Sammy's Adventures\", 'Unstoppable', 'Morning Glory', 'Certified Copy', 'Harry Potter and the Deathly Hallows: Part 1', \"The King's Speech\", 'Tangled', 'The Fighter', 'London Boulevard', 'The Chronicles of Narnia: The Voyage of the Dawn Treader', 'The Tourist', 'Chatroom', '13', 'Hatchet II', 'All Good Things', 'True Grit', 'TRON: Legacy', 'Hannie Caulder', 'Last Night', 'Season of the Witch', 'Cowboys & Aliens', 'Limitless', 'I Spit on Your Grave', 'The Organizer', 'From Prada to Nada', 'Unknown', 'Army of Crime', 'Paul', 'Rango', 'Summer Wars', 'Closing the Ring', 'Elite Squad: The Enemy Within', 'Red Riding Hood', 'Sucker Punch', 'Senna', 'Insidious', 'Hobo with a Shotgun', 'Easy Money', 'Scream 4', 'Rio', 'Thor', 'Swimming Pool', 'Soul Surfer', 'Pirates of the Caribbean: On Stranger Tides', 'Midnight in Paris', 'The Tree of Life', 'The Hangover Part II', 'Pina', 'Open Season 3', 'Kung Fu Panda 2', 'Super 8', 'Pale Flower', 'Green Lantern', \"Mr. Popper's Penguins\", 'Larry Crowne', 'Zookeeper', 'Cars 2', 'Burn Notice: The Fall of Sam Axe', 'Harry Potter and the Deathly Hallows: Part 2', 'Drive', 'Captain America: The First Avenger', 'Crazy, Stupid, Love.', 'One Day', 'The Guard', 'The Smurfs', 'Dylan Dog: Dead of Night', 'Friends with Benefits', 'Death Race 2', 'Rise of the Planet of the Apes', 'Final Destination 5', 'A Very Harold & Kumar Christmas', 'Conan the Barbarian', 'Walled In', 'Moneyball', 'Le Havre', 'Ironclad', 'The Avengers', 'Warrior', 'Kill List', '50/50', 'The Artist', 'The Music Never Stopped', 'Real Steel', 'The Thing', 'Behind Enemy Lines II: Axis of Evil', 'In Time', 'Assassination Games', 'Paranormal Activity 3', 'Johnny English Reborn', 'Abduction', 'This Must Be the Place', 'Shame', 'Anonymous', 'The Adventures of Tintin', 'The Son of No One', 'Tomboy', 'Hugo', 'Immortals', 'The Descendants', 'The Muppets', 'The Twilight Saga: Breaking Dawn - Part 1', 'The Rum Diary', 'My Week with Marilyn', 'Gantz: Perfect Answer', 'The Sitter', 'The Expendables 2', 'The Hunger Games', 'The Dark Knight Rises', 'The Bourne Legacy', 'Sherlock Holmes: A Game of Shadows', 'Faces in the Crowd', 'Mission: Impossible - Ghost Protocol', 'We Bought a Zoo', 'Pitfall', 'Kung Fu Panda Holiday', 'Contraband', 'Underworld: Awakening', 'The Grey', 'Man on a Ledge', 'The Whistleblower', 'The Human Centipede 2 (Full Sequence)', 'Turn Me On, Dammit!', 'Apollo 18', 'Seeking Justice', 'The Intouchables', 'Chronicle', 'For a Good Time, Call...', 'Perfect Sense', 'The Shrine', 'Bodyguards and Assassins', 'Flying Swords of Dragon Gate', 'The Hunter', 'Wrong Turn 4: Bloody Beginnings', 'The Big Year', 'Act of Valor', 'This Means War', 'John Carter', 'Game Change', '21 Jump Street', 'Bending The Rules', 'Iron Sky', 'The Raid', 'The Cabin in the Woods', 'God Bless America', 'Romantics Anonymous', 'Café de Flore', 'L!fe Happens', 'Silent House', 'The Three Stooges', 'Mirror Mirror', 'Battleship', \"Sharpay's Fabulous Adventure\", 'Hysteria', \"Dante's Inferno: An Animated Epic\", 'The Five-Year Engagement', 'Elsewhere', 'Dark Shadows', 'The Scorpion King: Rise of a Warrior', 'The Decoy Bride', 'Men in Black 3', 'Snow White and the Huntsman', 'The Pirates! In an Adventure with Scientists!', 'Prometheus', 'The Pact', \"Madagascar 3: Europe's Most Wanted\", \"Your Sister's Sister\", 'Brave', 'Rock of Ages', 'Ted', 'The Amazing Spider-Man', 'Wrong Turn 3: Left for Dead', 'Ice Age: Continental Drift', 'People Like Us', 'Savages', 'The Watch', 'For the Birds', 'Total Recall', \"The Angels' Share\", 'Skyfall', 'I Am Bruce Lee', 'ParaNorman', 'Diary of a Wimpy Kid: Dog Days', 'The Dinosaur Project', 'Bachelorette', 'Pitch Perfect', 'The Cold Light of Day', 'Hello I Must Be Going', 'Branded', 'Looper', 'Dredd', 'The Perks of Being a Wallflower', 'Red Lights', 'Taken 2', 'LOL', 'Frankenweenie', 'Sinister', 'Hotel Transylvania', 'Argo', 'Tai Chi Zero', 'Cloud Atlas', 'Here Comes the Boom', 'Wreck-It Ralph', 'Silver Linings Playbook', 'Flight', 'Life of Pi', 'Excision', 'A Late Quartet', 'The Lady', \"The Well Digger's Daughter\", 'Jackass 3.5', 'Cockneys vs Zombies', 'Batman: The Dark Knight Returns, Part 1', 'Lincoln', 'The Twilight Saga: Breaking Dawn - Part 2', 'Rise of the Guardians', 'Hitchcock', 'The Hobbit: An Unexpected Journey', 'The Master', 'Kung Fu Cult Master', 'Antiviral', 'Ghost Machine', 'Fire with Fire', 'Warm Bodies', 'Wrong', 'Playing for Keeps', 'Jack Reacher', 'Django Unchained', 'This Is 40', 'The Impossible', 'Les Misérables', 'Addicted', 'Parental Guidance', 'Extracted', 'Guns, Girls and Gambling', 'The Samaritan', 'The Iceman', 'Batman: The Dark Knight Returns, Part 2', 'The Last Stand', 'Mama', 'Broken City', 'Ginger & Rosa', 'Movie 43', 'Parker', 'Hansel & Gretel: Witch Hunters', 'Side Effects', 'Resident Evil: Damnation', 'Chinese Zodiac', 'Beautiful Creatures', 'A Good Day to Die Hard', '21 & Over', 'Universal Soldier: Day of Reckoning', 'Escape from Planet Earth', 'Before Midnight', 'The Oranges', 'Starship Troopers: Invasion', 'Snitch', 'Dark Skies', 'Journey to the West: Conquering the Demons', 'Jack the Giant Slayer', 'G.I. Joe: Retaliation', 'Oz: The Great and Powerful', 'The Croods', 'Wieners', 'I Give It a Year', 'Spring Breakers', 'Olympus Has Fallen', 'The Brass Teapot', 'The Host', 'Admission', 'Evil Dead', 'Oblivion', 'Siberian Education', '42', 'Wolf Children', 'Disconnect', 'Scary Movie 5', 'Iron Man: Rise of Technovore', 'This Is the End', 'Iron Man 3', 'Middle of Nowhere', 'Rich and Famous', 'The Great Gatsby', 'Star Trek Into Darkness', 'Kiss of the Damned', 'Stories We Tell', 'The Hangover Part III', 'Epic', 'The Broken Circle Breakdown', 'After Earth', 'Now You See Me', 'Interview with a Hitman', 'Mary and Martha', 'The Way Way Back', 'Any Day Now', 'Man of Steel', 'The Purge', 'Monsters University', 'Pacific Rim', 'World War Z', 'Elysium', 'Despicable Me 2', 'The Heat', 'The Lone Ranger', 'Passion', 'V/H/S/2', 'Thanks for Sharing', 'Brain Dead', 'Fruitvale Station', 'Killing Season', 'A Field in England', 'The Conjuring', 'RED 2', 'Vehicle 19', '2 Guns', 'Blue Jasmine', 'Percy Jackson: Sea of Monsters', 'The Smurfs 2', 'Alan Partridge: Alpha Papa', 'Man of Tai Chi', \"We're the Millers\", 'Kick-Ass 2', 'Planes', 'Jobs', 'The Mortal Instruments: City of Bones', 'The Butler', 'About Time', 'The Frozen Ground', 'Adore', 'The Last of Robin Hood', 'Closed Circuit', 'Getaway', 'Gravity', 'I Spit on Your Grave 2', 'What If', 'Prisoners', 'Rush', 'Short Term 12', 'Nebraska', 'Don Jon', 'Crystal Fairy & the Magical Cactus', 'Bad Milo', 'Curse of Chucky', 'Cloudy with a Chance of Meatballs 2', 'Captain Phillips', 'Filth', 'Escape Plan', 'Carrie', 'The Fifth Estate', 'The Counselor', 'The Unbelievers', '12 Years a Slave', 'All Is Lost', \"Ender's Game\", 'Thor: The Dark World', 'Dallas Buyers Club', 'How I Live Now', 'Hours', 'The Book Thief', 'The Hunger Games: Catching Fire', 'The Hobbit: The Desolation of Smaug', '47 Ronin', 'Delivery Man', 'Krrish 3', 'Frozen', 'Inside Llewyn Davis', 'The Wolf of Wall Street', 'Cut and Run', 'Mandela: Long Walk to Freedom', 'Fright Night 2: New Blood', 'Legally Blondes', 'American Hustle', 'Her', 'Young & Beautiful', 'Lone Survivor', 'Saving Mr. Banks', 'All Things To All Men', 'Snowpiercer', 'Desire', 'Fuck You Goethe', 'The Physician', 'Grudge Match', 'Only Lovers Left Alive', 'The Lunchbox', 'Dragon Ball Z: Battle of Gods', 'Underdogs', 'Jack Ryan: Shadow Recruit', 'Divergent', 'Reasonable Doubt', 'HOUBA! On the Trail of the Marsupilami', \"Devil's Due\", 'A Single Shot', 'Husk', 'Enemy', 'The Monuments Men', 'The Lego Movie', 'RoboCop', 'A Long Way Down', 'The Zero Theorem', 'Joe', 'Cold Comes the Night', 'The Grand Budapest Hotel', \"Dug's Special Mission\", 'Interstellar', '3 Days to Kill', 'Non-Stop', 'The Garden of Words', '300: Rise of an Empire', 'Particle Fever', 'The Bag Man', 'Cheap Thrills', 'Bad Country', 'Need for Speed', 'Puss in Boots: The Three Diablos', 'Captain America: The Winter Soldier', 'Noah', 'Blood Ties', 'The Amazing Spider-Man 2', 'Son of Batman', 'Calvary', 'Beauty and the Beast', 'Witching & Bitching', 'Vampire Academy', 'Locke', 'Rage', 'Pompeii', 'Age of Dinosaurs', 'Neighbors', 'Belle', 'Into the Storm', 'Lucy', 'X-Men: Days of Future Past', 'Godzilla', 'Blue Ruin', 'The Normal Heart', 'Blended', 'Begin Again', 'Big Ass Spider!', 'Maleficent', 'The Two Faces of January', 'A Million Ways to Die in the West', 'Edge of Tomorrow', 'Serial (Bad) Weddings', 'Mission: Impossible - Rogue Nation', 'The Fault in Our Stars', 'The Grand Seduction', 'Mindscape', '22 Jump Street', 'The Equalizer', 'How to Train Your Dragon 2', 'Birdman', 'Haunt', 'The Trials of Cate McCall', 'Transformers: Age of Extinction', 'Very Good Girls', 'Whiplash', 'Gone Girl', 'Dawn of the Planet of the Apes', 'Sex Tape', 'I Origins', 'The Purge: Anarchy', 'Guardians of the Galaxy', 'The Expendables 3', 'Hercules', 'A Most Wanted Man', 'Hellion', 'Earth to Echo', 'Video Games: The Movie', 'Winter Sleep', 'The Hundred-Foot Journey', 'Jupiter Ascending', 'Teenage Mutant Ninja Turtles', 'The Giver', \"Let's Be Cops\", 'Sin City: A Dame to Kill For', 'The Canal', 'Are You Here', 'Life of Crime', 'As Above, So Below', 'Before I Go to Sleep', 'The Drop', 'The Motel Life', '20,000 Days on Earth', 'The Maze Runner', 'No Good Deed', 'Camp X-Ray', 'A Walk Among the Tombstones', 'My Old Lady', 'Laggies', 'What We Did on Our Holiday', 'Force Majeure', 'The November Man', 'White Bird in a Blizzard', 'Who Am I', 'The Boxtrolls', 'This Is Where I Leave You', 'Cabin Fever: Patient Zero', 'American Sniper', 'Hector and the Search for Happiness', 'Space Station 76', 'Annabelle', 'Open Windows', 'Dracula Untold', 'Automata', 'The Prince', 'Legendary', 'The Captive', 'Predestination', 'What We Do in the Shadows', 'John Wick', 'The Judge', 'Fury', 'St. Vincent', 'Left Behind', 'Extraterrestrial', 'Ouija', 'Nightcrawler', 'Big Hero 6', 'Marshland', 'The Book of Life', 'Love, Rosie', 'Young Detective Dee: Rise of the Sea Dragon', 'Ex Machina', 'Hawaiian Vacation', 'Doctor Strange', \"Children of the Corn 666: Isaac's Return\", 'Tinker Bell and the Lost Treasure', 'Stonehearst Asylum', 'Hateship Loveship', 'Dead Snow 2: Red vs. Dead', 'The Imitation Game', 'Inherent Vice', 'Rudderless', 'The Hunger Games: Mockingjay - Part 1', 'Remember Sunday', 'Exodus: Gods and Kings', 'Dumb and Dumber To', 'The Theory of Everything', 'The Last Word', 'Ragnarok', 'Parasomnia', 'Starry Eyes', 'In the Heart of the Sea', 'Jurassic World', 'Horrible Bosses 2', 'Enemies Closer', 'Penguins of Madagascar', 'Black or White', 'Paddington', 'Maze Runner: The Scorch Trials', 'Dying of the Light', 'The Protector 2', 'Kill the Messenger', 'The Hobbit: The Battle of the Five Armies', 'Unbroken', 'The Good Lie', 'Mommy', 'A Most Violent Year', 'Wild', 'The Interview', 'Kingsman: The Secret Service', 'Night at the Museum: Secret of the Tomb', 'Summer in February', 'Sorority Wars', 'The Punisher: Dirty Laundry', 'Seventh Son', \"Let's Kill Ward's Wife\", \"A Merry Friggin' Christmas\", 'Annie', 'PK', 'Chappie', 'Taken 3', 'Blackhat', 'Son of a Gun', 'Terminator Genisys', \"101 Dalmatians II: Patch's London Adventure\", 'Wrong Turn 5: Bloodlines', 'Kevin Hart: Let Me Explain', 'Tad, the Lost Explorer', 'The Single Moms Club', 'It Follows', 'The Anomaly', 'The Shortcut', 'The Six Wives of Henry Lefay', 'Picture This', 'The Key', 'Mad Max: Fury Road', 'Insidious: Chapter 3', 'Star Wars: The Force Awakens', 'Ben-Hur', 'Warcraft', 'Avengers: Age of Ultron', 'Pirates of the Caribbean: Dead Men Tell No Tales', 'Ant-Man', 'Fantastic Four', 'Deadpool', 'Guardians of the Galaxy Vol. 2', 'Captain America: Civil War', 'Doctor Strange', 'X-Men: Apocalypse', 'Taken', 'Cake', 'Safari', 'Mortdecai', 'Fifty Shades of Grey', 'Wolves', 'Strange Magic', 'The Remaining', 'Everly', \"Help! I'm A Fish\", 'A Walk in the Woods', 'Eden', 'The Diary of a Teenage Girl', 'Me and Earl and the Dying Girl', 'The Loft', 'Vice', 'Killing Kennedy', \"Beethoven's Big Break\", 'The Hateful Eight', 'Wild Card', 'The Wedding Ringer', 'The Boy Next Door', 'Crimson Peak', \"Dragonheart 3: The Sorcerer's Curse\", 'Northmen: A Viking Saga', 'Focus', 'The SpongeBob Movie: Sponge Out of Water', 'Unfinished Business', 'To Write Love on Her Arms', 'Run All Night', 'Cinderella', 'Kidnapping Mr. Heineken', 'Patrick', 'Poltergeist', 'Pan', 'Insurgent', 'Berserk: The Golden Age Arc 1 - The Egg of the King', 'Home', 'Midnight Special', 'The Gunman', 'Escobar: Paradise Lost', 'Furious 7', 'Unfriended', 'Child 44', 'Brother Bear 2', 'Kill Me Three Times', 'Rurouni Kenshin: The Legend Ends', 'Rurouni Kenshin: Kyoto Inferno', 'Last Knights', 'Woman in Gold', 'Samba', 'The Road Within', 'Tomorrowland', 'Paul Blart: Mall Cop 2', 'Spiders', 'The Longest Ride', 'Beyond the Reach', 'The Age of Adaline', 'Danny Collins', 'Mea Culpa', 'Tinker Bell and the Pirate Fairy', 'Man Up', 'San Andreas', 'Regression', 'Thunder and the House of Magic', 'Barbie in Princess Power', 'Barbie Fairytopia: Mermaidia', 'Hitman: Agent 47', 'The Dead Lands', 'Ricki and the Flash', 'Infini', 'Pitch Perfect 2', 'Persecuted', 'Monsters: Dark Continent', 'The Lobster', 'Maggie', 'Slow West', 'Barely Lethal', 'Spooks: The Greater Good', 'The Martian', 'A Hard Day', 'Survivor', 'Spy', 'Trainwreck', 'Entourage', 'Inside Out', 'Love & Mercy', 'Police Story 2013', 'The Hunger Games: Mockingjay - Part 2', 'Pixels', 'Allegiant', 'Fantastic Beasts and Where to Find Them', 'Mr. Holmes', 'The Secret Life of Pets', 'Little Boy', 'Self/less', 'Criminal', 'The Last Witch Hunter', 'Krampus', 'Suicide Squad', 'Independence Day: Resurgence', 'Star Trek Beyond', 'The Disappointments Room', 'Boychoir', 'Ted 2', 'Absolutely Anything', 'Minions', 'Leroy & Stitch', 'The Good Dinosaur', 'Black Mass', 'Spectre', 'Sanitarium', 'Avengers Grimm', 'The Scorpion King: Quest for Power', 'Aloha Scooby-Doo!', \"Mickey's Christmas Carol\", 'Steve Jobs', 'Macbeth', 'Vacation', 'The Face of an Angel', 'GirlHouse', 'Batman v Superman: Dawn of Justice', 'Amy', 'Blue Lagoon: The Awakening', 'Beloved Sisters', 'The Jungle Book', \"Dragon Ball Z: Resurrection 'F'\", 'The Man from U.N.C.L.E.', '13 Hours: The Secret Soldiers of Benghazi', 'The Revenant', 'Tale of Tales', 'Baahubali: The Beginning', 'Learning to Drive', 'Southpaw', 'Sicario', 'X+Y', 'Anomalisa', 'Colonia', 'The Intern', 'Descendants', 'Room', 'The Witch', 'Men & Chicken', 'Death Train', 'The Visit', 'Sinister 2', 'No Escape', 'Straight Outta Compton', 'Cop Car', 'I Kissed a Girl', 'Joy', 'Guardians', 'Arthur 3: The War of the Two Worlds', 'Equals', 'Scouts Guide to the Zombie Apocalypse', 'Turbo Kid', 'Legend', 'The Outcasts', 'The Danish Girl', 'Broken Horses', 'Beasts of No Nation', 'The Transporter Refueled', 'Knock Knock', 'Man Down', 'Life', 'Our Brand Is Crisis', 'High-Rise', 'The Night Before', 'Everest', 'Spotlight', 'Hardcore Henry', 'Sissi: The Fateful Years of an Empress', 'Sissi', 'Hotel Transylvania 2', 'Tremors 5: Bloodlines', 'By the Sea', 'The Little Prince', 'Wonder Woman', 'The Circle', 'Silence', 'Bridge of Spies', 'A Bigger Splash', 'Into the Grizzly Maze', 'Eisenstein in Guanajuato', 'Hail, Caesar!', 'The Hive', 'Re-Kill', 'Mockingbird', 'Goosebumps', 'Rock the Kasbah', 'Bone Tomahawk', 'The Absent One', 'The Peanuts Movie', 'Wildlike', 'Creed', 'Solace', 'Louder Than Bombs', 'Criminal Activities', 'The 5th Wave', 'The Big Short', 'Tumbledown', 'Zoolander 2', 'Nocturnal Animals', 'Sisters', 'Kung Fu Panda 3', 'Little Lips', 'Moonwalkers', 'A Man Called Ove', 'Frankenstein', 'The Boy', 'Dirty Grandpa', 'The Finest Hours', 'Me Before You', 'Dunkirk', 'Triple 9', 'Gods of Egypt', '10 Cloverfield Lane', 'London Has Fallen', 'Zootopia', 'Grimsby', \"Michael Jackson's Thriller\", 'The Veil', 'Forsaken', 'Remember', 'The Neon Demon', 'They Call Me Jeeg Robot', 'Eye in the Sky', 'Hello, My Name Is Doris', 'The Driftless Area', 'Florence Foster Jenkins', 'Love & Friendship', 'I Spit on Your Grave III: Vengeance is Mine', 'Sing Street', 'Paterson', \"The Huntsman: Winter's War\", 'Madly Madagascar', 'Money Monster', 'Nine Lives', 'Finding Dory', 'Bastille Day', 'Free State of Jones', 'The Angry Birds Movie', 'The Cutting Edge 3: Chasing the Dream', 'Precious Cargo', 'Manhattan Night', 'Snowden', 'The Nice Guys', 'Kindergarten Cop 2', 'Alvin and the Chipmunks: The Road Chip', 'The Shallows', 'The Handmaiden', 'Alice Through the Looking Glass', 'The BFG', 'Sausage Party', 'Captain Fantastic', 'Now You See Me 2', 'I, Daniel Blake', 'The Do-Over', 'Teenage Mutant Ninja Turtles: Out of the Shadows', 'The Darkness', 'The Conjuring 2', 'Ghostbusters', 'Cell', 'Central Intelligence', 'Genius', 'Jason Bourne', 'Adventures in Babysitting', 'Horror Hospital', 'The Legend of Tarzan', 'The Purge: Election Year', 'Mike and Dave Need Wedding Dates', 'Ice Age: Collision Course', 'Lights Out', \"Pete's Dragon\", 'Piper', 'The Red Turtle', 'Nerve', 'Sully', \"It's Only the End of the World\", 'The Last King', 'The Infiltrator', 'War Dogs', 'Hell or High Water', \"Don't Breathe\", '47 Meters Down', 'Train to Busan', 'Friend Request', 'Worry Dolls', 'Mechanic: Resurrection', 'Antibirth', 'The Magnificent Seven', 'Skiptrace', 'Moonlight', 'The Childhood of a Leader', 'Amateur Night', 'Kubo and the Two Strings', \"Bridget Jones's Baby\", 'Morgan', 'Deepwater Horizon', \"Miss Peregrine's Home for Peculiar Children\", 'The Girl on the Train', 'Middle School: The Worst Years of My Life', 'The Accountant', 'Operation Chromite', 'The Whole Truth', 'Your Name.', 'Certain Women', 'Hacksaw Ridge', 'USS Indianapolis: Men of Courage', 'Blair Witch', 'I.T.', 'A Monster Calls', 'Arrival', 'Storks', 'The Girl with All the Gifts', 'Call of Heroes', 'Interrogation', 'No manches Frida', 'The Fury of a Patient Man', 'Colossal', 'Night Guards', 'La La Land', 'Allied', 'Brimstone', 'Inferno', 'Ouija: Origin of Evil', 'Trolls', 'Denial', 'Jack Reacher: Never Go Back', 'American Pastoral', 'Manchester by the Sea', 'Lion', 'Operation Mekong', 'The Autopsy of Jane Doe', 'Collateral Beauty', 'A Silent Voice', 'The Space Between Us', 'Rogue One: A Star Wars Story', 'Live by Night', 'Split', 'Underworld: Blood Wars', 'Miss Sloane', 'Passengers', 'Hidden Figures', 'Fences', '1898. Our Last Men in the Philippines', 'The Great Wall', 'The Founder', 'Why Him?', 'Sing', 'I Am Not Your Negro', 'In Bed with Victoria', \"Assassin's Creed\", 'Collide', 'Patriots Day', 'Gold', 'The Little Hours', 'Why Blame It on the Child?', 'Ballerina', 'Fist Fight', 'Monster Trucks', 'Sleepless', 'A Cure for Wellness', 'xXx: Return of Xander Cage', 'The Bye Bye Man', 'The Lego Batman Movie', 'When the Bough Breaks', 'The Invisible Guest', 'Kung Fu Yoga', 'Trespass Against Us', 'The Young Offenders', 'Rings', 'Raw', 'Clinical', 'John Wick: Chapter 2', 'Get Out', 'Logan', 'Kong: Skull Island', 'T2 Trainspotting', 'Science Fiction Volume One: The Osiris Child', 'Before I Fall', 'The Belko Experiment', 'The Big Sick', \"I Don't Feel at Home in This World Anymore\", 'King Arthur: Legend of the Sword', 'Incarnate', 'Beauty and the Beast', 'The Boss Baby', 'Justice League Dark', 'A Ghost Story', 'Ghost in the Shell', 'Fifty Shades Darker', \"Don't Knock Twice\", 'Black Snow', 'Mine', 'The Taking of Tiger Mountain', 'In Dubious Battle', 'Berlin Syndrome', 'Song to Song', 'Their Finest', 'The Ottoman Lieutenant', 'Personal Shopper', 'The Shack', 'Life', 'The Lost City of Z', 'Sleight', 'Two Is a Family', 'Power Rangers', 'Alien: Covenant', 'Free Fire', 'Rescue Under Fire', 'The Invisible Guardian', 'Inspector Gadget 2', 'Lilo & Stitch 2: Stitch has a Glitch', 'Ultimate Avengers 2', 'Blood Rage', 'CHiPS', 'Going in Style', 'The Bar', 'Smurfs: The Lost Village', \"Viceroy's House\", \"The Zookeeper's Wife\", 'Gifted', 'Teen Titans: The Judas Contract', 'Aftermath', 'The Baker', 'The Secret Scripture', 'Spark: A Space Tail', 'Everything, Everything', 'Diary of a Wimpy Kid: The Long Haul', 'The Spacewalker', 'Baywatch', 'Unforgettable', 'Snatched', 'The Mummy', 'From a House on Willow Street', 'The Fate of the Furious', 'Sandy Wexler', 'Extortion', 'Captain Underpants: The First Epic Movie', 'It Comes at Night', 'Megan Leavey', 'My Cousin Rachel', 'Cars 3', 'Resident Evil: Vendetta', 'Boyka: Undisputed IV', 'The Book of Henry', 'A Real Young Girl', 'The Wall', 'Phoenix Forgotten', 'Handsome Devil', 'A Dark Song', 'Unlocked', 'Amityville: The Awakening', 'The Beguiled', 'Baby Driver', 'Okja', 'Rough Night', 'The Matrix Revisited', 'George of the Jungle 2', \"The Hunter's Prayer\", 'Casper: A Spirited Beginning', 'Despicable Me 3', 'The Wizard of Lies', 'Kill Switch', 'The Bad Batch', 'War for the Planet of the Apes', 'Kidnap', 'War Machine', 'Valerian and the City of a Thousand Planets', 'Black Butterfly', 'Nemesis', 'What Happened to Monday', 'Atomic Blonde', 'Black Mirror: White Christmas', 'Dunkirk', 'Once Upon a Time in Venice', 'Altitude', 'Transformers: The Last Knight', 'You Get Me', 'Crusade in Jeans', 'The House', '2:22', 'A Bag of Marbles', 'The Dark Tower', 'Security', 'Overdrive', 'Dirty Dancing', 'The Emoji Movie', 'Bedeviled', 'The Saint', 'Wind River', 'Shot Caller', 'S.W.A.T.: Under Siege', 'Wish Upon', 'Girls Trip', 'Descendants 2', 'Force Majeure', 'In a Heartbeat']\n"
     ]
    }
   ],
   "source": [
    "# creating a list with all the movie names given in the dataset\n",
    "\n",
    "list_of_all_titles = movies_data['title'].tolist()\n",
    "print(list_of_all_titles)"
   ]
  },
  {
   "cell_type": "code",
   "execution_count": 99,
   "metadata": {
    "colab": {
     "base_uri": "https://localhost:8080/"
    },
    "id": "u1HTkBLIOBjf",
    "outputId": "2e25e165-51f8-4370-de21-1005adbb1660"
   },
   "outputs": [
    {
     "name": "stdout",
     "output_type": "stream",
     "text": [
      "['The Godfather', 'The Godfather: Part II', 'The Godfather: Part III']\n"
     ]
    }
   ],
   "source": [
    "# finding the close match for the movie name given by the user\n",
    "\n",
    "find_close_match = difflib.get_close_matches(movie_name, list_of_all_titles)\n",
    "print(find_close_match)"
   ]
  },
  {
   "cell_type": "code",
   "execution_count": 100,
   "metadata": {
    "colab": {
     "base_uri": "https://localhost:8080/"
    },
    "id": "CgiC-enuOfXx",
    "outputId": "a9a746b0-7833-42aa-d826-3a07388b310b"
   },
   "outputs": [
    {
     "name": "stdout",
     "output_type": "stream",
     "text": [
      "The Godfather\n"
     ]
    }
   ],
   "source": [
    "close_match = find_close_match[0]\n",
    "print(close_match)"
   ]
  },
  {
   "cell_type": "code",
   "execution_count": 101,
   "metadata": {
    "colab": {
     "base_uri": "https://localhost:8080/"
    },
    "id": "CNXJfY-FOw1I",
    "outputId": "14adcf60-d9f6-4afd-e404-629581ebf3a0"
   },
   "outputs": [
    {
     "name": "stdout",
     "output_type": "stream",
     "text": [
      "104\n"
     ]
    }
   ],
   "source": [
    "# finding the id of the movie with title\n",
    "\n",
    "index_of_the_movie = df_train[df_train.original_title == close_match]['id'].values[0]\n",
    "print(index_of_the_movie)"
   ]
  },
  {
   "cell_type": "code",
   "execution_count": 86,
   "metadata": {
    "colab": {
     "base_uri": "https://localhost:8080/"
    },
    "id": "dyUeQZpvPbkx",
    "outputId": "ec4ca9b9-d772-4b5f-8624-1d64d85fa703"
   },
   "outputs": [
    {
     "name": "stdout",
     "output_type": "stream",
     "text": [
      "[(0, 0.03248994202629654), (1, 0.09310512690346968), (2, 0.056866484506674954), (3, 0.06164337806042359), (4, 0.04671573016177202), (5, 0.08771936830960747), (6, 0.04000303764763575), (7, 0.04642971314417308), (8, 0.06945744571640157), (9, 0.039256360787770436), (10, 0.05966049975517512), (11, 0.02877315267226387), (12, 0.18006037782357692), (13, 0.052983664598590434), (14, 0.09609311558212917), (15, 0.08350937650398225), (16, 0.0389882354262502), (17, 0.0897061615047003), (18, 0.05942908978744638), (19, 0.04195216804039269), (20, 0.083092663936143), (21, 0.03983381672176201), (22, 0.05498578820476184), (23, 0.03873568682044868), (24, 0.04549948888121131), (25, 0.038905811704594895), (26, 0.06965253731707027), (27, 0.05865450142865722), (28, 0.04090689236900682), (29, 0.0414482037077152), (30, 0.07295977283888758), (31, 0.054781029346471326), (32, 0.034250453353527596), (33, 0.04841683412805187), (34, 0.029917252492363523), (35, 0.05233630165365751), (36, 0.04948604688361242), (37, 0.06648613824973258), (38, 0.04434120711723271), (39, 0.08362134956527373), (40, 0.045257386471756686), (41, 0.10228801123612329), (42, 0.07441281246836967), (43, 0.048304396345102724), (44, 0.06685964481911484), (45, 0.05972623887249183), (46, 0.09911361809276273), (47, 0.047380621614005386), (48, 0.04606052148504696), (49, 0.07584056423273089), (50, 0.05819574048445525), (51, 0.04973260280292384), (52, 0.06472107780544505), (53, 0.05027929059613883), (54, 0.050684482592359706), (55, 0.052131673561018596), (56, 0.04517242616521575), (57, 0.03765019345285496), (58, 0.08192877278566348), (59, 0.1084625766013481), (60, 0.042191883068792554), (61, 0.04712929488167962), (62, 0.06401611815774372), (63, 0.04416546621021469), (64, 0.07896317528291105), (65, 0.09102942523795156), (66, 0.12893528064468393), (67, 0.06442863786440771), (68, 0.1652935690851569), (69, 0.06396195723988891), (70, 0.07498909040310374), (71, 0.03566303120413771), (72, 0.0532742828521646), (73, 0.07794329281962253), (74, 0.06238412761982236), (75, 0.04948488164247744), (76, 0.028512997174978634), (77, 0.07708493044757533), (78, 0.09575545396023813), (79, 0.08055234963283375), (80, 0.05633911053820095), (81, 0.03454780230567199), (82, 0.07643053778453059), (83, 0.051468518033937455), (84, 0.06838197695342349), (85, 0.03683884765661016), (86, 0.10389735669566917), (87, 0.04932820164495546), (88, 0.05909753096371462), (89, 0.05922773527328995), (90, 0.0696743469387226), (91, 0.05114992964096729), (92, 0.0552409506311525), (93, 0.03780968801427533), (94, 0.03495226038300478), (95, 0.03877768075949854), (96, 0.05261944038210805), (97, 0.04297445764635138), (98, 0.0726630211261563), (99, 0.05534861016484345), (100, 0.03472689526608369), (101, 0.04117434509461686), (102, 0.05570792901635514), (103, 0.0863698802753894), (104, 1.0), (105, 0.05665555285285638), (106, 0.25699336046236654), (107, 0.06982264356152908), (108, 0.3538679074429417), (109, 0.053325875723180344), (110, 0.09057703190550108), (111, 0.05862279853543589), (112, 0.04759367414309154), (113, 0.05003950852633815), (114, 0.08404244581103207), (115, 0.04032416422624282), (116, 0.041141623461095726), (117, 0.07393086889017769), (118, 0.14497316476402772), (119, 0.09026827794490976), (120, 0.0646954281980624), (121, 0.14951783074632902), (122, 0.09413571026600945), (123, 0.037224904533043474), (124, 0.07634819068772701), (125, 0.035932805249193706), (126, 0.07910115811388942), (127, 0.05223043765187596), (128, 0.048312474720456966), (129, 0.10459842642357059), (130, 0.06837356141427435), (131, 0.14950885690579185), (132, 0.08966019866824752), (133, 0.05391970197526132), (134, 0.03835471288168996), (135, 0.05668593113676007), (136, 0.13054728520814474), (137, 0.054442002943721576), (138, 0.0555387944890042), (139, 0.1067316481177904), (140, 0.04921416705657116), (141, 0.06476388073913787), (142, 0.1688938973153744), (143, 0.13136051855816727), (144, 0.0825206991102902), (145, 0.07864788555510106), (146, 0.07033641525734119), (147, 0.07322734727908045), (148, 0.04136716765802008), (149, 0.054117073531226294), (150, 0.044705555080211054), (151, 0.05495250401311935), (152, 0.050951782389718085), (153, 0.0656857418099083), (154, 0.05089050540471563), (155, 0.05110935954028343), (156, 0.06592380842835673), (157, 0.08421356112448981), (158, 0.10868632250282169), (159, 0.05213513346528022), (160, 0.048785492620193556), (161, 0.06666647901959051), (162, 0.04551249273525987), (163, 0.057778230494137134), (164, 0.041885500080968086), (165, 0.06477233252409563), (166, 0.070490671797839), (167, 0.04370667040843054), (168, 0.06930820767006196), (169, 0.05157220703935391), (170, 0.0454530815975555), (171, 0.06395956953424028), (172, 0.09255796130673731), (173, 0.05323498031281246), (174, 0.039054605587935096), (175, 0.04459568711084778), (176, 0.06744593373737588), (177, 0.04293667150891835), (178, 0.03695664268863947), (179, 0.03701878551026852), (180, 0.04730367685112793), (181, 0.031706615976366696), (182, 0.08992603701254932), (183, 0.06276218224634991), (184, 0.02898806247515294), (185, 0.15740392462754446), (186, 0.056740951853786914), (187, 0.04958214828707651), (188, 0.14002465918059367), (189, 0.03927709697518644), (190, 0.0587987421436661), (191, 0.07712943386503858), (192, 0.04337998748692377), (193, 0.06803633525164403), (194, 0.0629637629573381), (195, 0.060562967307775974), (196, 0.0745940092502079), (197, 0.053253498300143434), (198, 0.04374439735754979), (199, 0.11027535347567667), (200, 0.04674959903560549), (201, 0.03274905219601845), (202, 0.11554612968368122), (203, 0.040852111347027785), (204, 0.028000103846120953), (205, 0.042714267485177336), (206, 0.04721149109125171), (207, 0.027720602360679795), (208, 0.051477986205156194), (209, 0.020229040668505296), (210, 0.1329109691534014), (211, 0.07194202984573794), (212, 0.06256486766017201), (213, 0.031305719205849764), (214, 0.03581673805583831), (215, 0.053811644989257924), (216, 0.05971030612008438), (217, 0.08385691551380245), (218, 0.03302870375278915), (219, 0.03261805492598331), (220, 0.10113016045128786), (221, 0.04748963182062122), (222, 0.04718390601414847), (223, 0.037492510394830245), (224, 0.04582023478375351), (225, 0.05860387757295689), (226, 0.027970366043291145), (227, 0.04076465131671137), (228, 0.08461458168612404), (229, 0.0684915506886476), (230, 0.03025095778682519), (231, 0.23202461347596598), (232, 0.0871126575050151), (233, 0.03265864152724665), (234, 0.08034990338281843), (235, 0.050999462594118146), (236, 0.08431154003547522), (237, 0.06991675779314913), (238, 0.05177361652184271), (239, 0.07024656790061054), (240, 0.04254152962472815), (241, 0.0251263124956301), (242, 0.016338507335533242), (243, 0.018612136292845784), (244, 0.058905676284422455), (245, 0.03918976202057762), (246, 0.03694507334428172), (247, 0.07853808331591161), (248, 0.040105268585775684), (249, 0.06476797761923611), (250, 0.03925677358347617), (251, 0.03637769204742837), (252, 0.04497024629184033), (253, 0.08522900056142367), (254, 0.039250746412318634), (255, 0.045010248065044764), (256, 0.04647074407476648), (257, 0.07175440901615923), (258, 0.05080418672041045), (259, 0.05147396992054708), (260, 0.11419690441635486), (261, 0.0700854273494788), (262, 0.030687252416279894), (263, 0.053679003723287606), (264, 0.028474442519473103), (265, 0.029242643290626067), (266, 0.04576035249666465), (267, 0.03575613130106216), (268, 0.08336594637858118), (269, 0.04961436184081844), (270, 0.04165806353390134), (271, 0.0328710527826734), (272, 0.032627204409388995), (273, 0.06733969839608119), (274, 0.0463793663548376), (275, 0.035692983625314104), (276, 0.05120371920077058), (277, 0.050379596971333554), (278, 0.053881724664236706), (279, 0.04847338021749942), (280, 0.0480974941399204), (281, 0.07692816957979326), (282, 0.06605757703356846), (283, 0.037223590952802574), (284, 0.11296585362156006), (285, 0.03113937156892525), (286, 0.04026634247654439), (287, 0.04754760563158219), (288, 0.06723752619721723), (289, 0.043439855416948656), (290, 0.04856853047970161), (291, 0.036384576044237685), (292, 0.03690166912131452), (293, 0.06326827528618496), (294, 0.037028239272659594), (295, 0.027613118662328923), (296, 0.03418026362923568), (297, 0.05231895169072276), (298, 0.029885874435184437), (299, 0.07237554419878023), (300, 0.038125005702198136), (301, 0.06486197976996977), (302, 0.06890048879867805), (303, 0.05477383719649418), (304, 0.0426545380378171), (305, 0.03181330514308526), (306, 0.05410603985112764), (307, 0.06210385599762756), (308, 0.03016566415258167), (309, 0.03527232579642044), (310, 0.034418077251929496), (311, 0.04128243948571393), (312, 0.03060074420364949), (313, 0.06578749132017679), (314, 0.20157591461899366), (315, 0.07289987835549329), (316, 0.08395844454651002), (317, 0.0336339039281026), (318, 0.025058485074676284), (319, 0.06508743359943232), (320, 0.03925727822689484), (321, 0.04108876027958197), (322, 0.07888971669291081), (323, 0.04156020339313975), (324, 0.07588241332429631), (325, 0.056486821641660814), (326, 0.03910181991699039), (327, 0.05846992941490189), (328, 0.032210681982974686), (329, 0.02783085417128398), (330, 0.03392378768647894), (331, 0.05207872285253283), (332, 0.05148908254000024), (333, 0.025875406912913256), (334, 0.07199300031529164), (335, 0.04808435800792186), (336, 0.05822149606077967), (337, 0.0413271688700561), (338, 0.03664625079527635), (339, 0.09103101242200427), (340, 0.17673603322858), (341, 0.05828023812623359), (342, 0.03054470734940645), (343, 0.03596076080269234), (344, 0.0286406370777084), (345, 0.06273250801712356), (346, 0.039756537909293316), (347, 0.06036491124131219), (348, 0.0842664205633074), (349, 0.05221406991007158), (350, 0.0879733118684807), (351, 0.081255046195975), (352, 0.09704148634900678), (353, 0.05168425872996009), (354, 0.03377649485549175), (355, 0.061022515909295486), (356, 0.057718902393057325), (357, 0.06859606730981266), (358, 0.05866181739222812), (359, 0.0542447267293424), (360, 0.03801242727501272), (361, 0.02032260000417354), (362, 0.05817500926035523), (363, 0.04241332806380674), (364, 0.05091646093750891), (365, 0.03426792761300944), (366, 0.05864320652151969), (367, 0.048250565557472695), (368, 0.022144723368809068), (369, 0.06527160359971933), (370, 0.06096471910200375), (371, 0.02793779489851935), (372, 0.0368962419704196), (373, 0.06752519845958896), (374, 0.11071254123334692), (375, 0.07287276673666238), (376, 0.03614671156950798), (377, 0.03429002045865473), (378, 0.03583345579301828), (379, 0.03191707087876283), (380, 0.08343868903944127), (381, 0.11267671518879419), (382, 0.060668189978746574), (383, 0.13426303378199364), (384, 0.040898158111257896), (385, 0.033014250108562716), (386, 0.09080130398886734), (387, 0.03581783723494953), (388, 0.04471510718893046), (389, 0.032543570577146234), (390, 0.03564105310430985), (391, 0.028483848618046655), (392, 0.05586804575209342), (393, 0.03645908089005626), (394, 0.03612531512465387), (395, 0.06644525559746106), (396, 0.06811552519134462), (397, 0.044038345268226975), (398, 0.049713337469255735), (399, 0.07812902075601995), (400, 0.07013441380142228), (401, 0.15198972211853498), (402, 0.057249447356709546), (403, 0.04276187710335835), (404, 0.0707834910631235), (405, 0.058796259687512745), (406, 0.09688891733074621), (407, 0.08602221351537574), (408, 0.04876950933761391), (409, 0.04525135979713346), (410, 0.057730780047959195), (411, 0.05492250312799699), (412, 0.050435485799713776), (413, 0.05139825295438313), (414, 0.06516570099946724), (415, 0.10047182155185953), (416, 0.0670641806896849), (417, 0.06707968871773831), (418, 0.04440814920223887), (419, 0.039630411878041984), (420, 0.08456972770793021), (421, 0.10247816807291521), (422, 0.03481763696835665), (423, 0.07980436562592172), (424, 0.09485902255796672), (425, 0.03808650892130999), (426, 0.08146069995447724), (427, 0.06479582747536809), (428, 0.036216953920370415), (429, 0.038397366281984716), (430, 0.05373069154877917), (431, 0.041791302053549376), (432, 0.07826179150717101), (433, 0.07876753300197899), (434, 0.05814613931173196), (435, 0.10436939884557271), (436, 0.04503500662847121), (437, 0.0664947949778357), (438, 0.03758789352215403), (439, 0.08428656213045078), (440, 0.04612169979675366), (441, 0.0521501637112702), (442, 0.050454762966348085), (443, 0.048012372063267306), (444, 0.10769307696209204), (445, 0.0589342209158364), (446, 0.10316104097852617), (447, 0.043254690930098344), (448, 0.04583465925307363), (449, 0.062371681603630026), (450, 0.1177607071365741), (451, 0.044870800111149245), (452, 0.043088524662427505), (453, 0.08027620950244499), (454, 0.05642693513327815), (455, 0.04582387383327735), (456, 0.05651492700814725), (457, 0.08589452707937283), (458, 0.0993608290446805), (459, 0.09546499408639773), (460, 0.06543305106488553), (461, 0.0637341369864939), (462, 0.05144841369865061), (463, 0.07519226886181535), (464, 0.049120473211906296), (465, 0.03210310429984444), (466, 0.029993405183819974), (467, 0.10445657073581505), (468, 0.037941444258971724), (469, 0.0499249896226862), (470, 0.05050092220762431), (471, 0.09092318823551003), (472, 0.06274220492290132), (473, 0.05238463360893185), (474, 0.08642028427618177), (475, 0.09057445565938507), (476, 0.06204590613968358), (477, 0.052836549593300024), (478, 0.03681414624078433), (479, 0.1029391158569215), (480, 0.046607829998603426), (481, 0.08394499772954325), (482, 0.05164340761684361), (483, 0.06339553471846397), (484, 0.14823001440489522), (485, 0.07775331155543566), (486, 0.07221251966210973), (487, 0.06639535782517295), (488, 0.04076566442688262), (489, 0.05767259238942785), (490, 0.07184778543545767), (491, 0.08728636907930654), (492, 0.05060475857723075), (493, 0.05536530149210604), (494, 0.04833849598048389), (495, 0.028057644597498488), (496, 0.05334658205506214), (497, 0.05148585535782744), (498, 0.057147935409024735), (499, 0.059230629322682915), (500, 0.041137112359454345), (501, 0.07320601103250363), (502, 0.04091818876487179), (503, 0.051834588751960294), (504, 0.04304506278432165), (505, 0.051416371740374625), (506, 0.0567936234886892), (507, 0.053393956328132534), (508, 0.04744798890229828), (509, 0.05608210683763029), (510, 0.037713408128181795), (511, 0.04031107332532396), (512, 0.034588903226698525), (513, 0.05272822498892282), (514, 0.03871737650334491), (515, 0.07087243128427151), (516, 0.039176570867457385), (517, 0.050295700049945206), (518, 0.057513978223244486), (519, 0.03339955214274615), (520, 0.05078821026129695), (521, 0.03776405515063416), (522, 0.0392224556801342), (523, 0.053958390077302604), (524, 0.035320122694485284), (525, 0.02949385276664263), (526, 0.04507778914509426), (527, 0.05765385900241843), (528, 0.037645605635353074), (529, 0.04057879068247495), (530, 0.06963400151011079), (531, 0.038179569924229176), (532, 0.04829436974228415), (533, 0.06669196985875683), (534, 0.06551183918350931), (535, 0.08190167334022284), (536, 0.03267758487048321), (537, 0.07623737439923696), (538, 0.04194589972512523), (539, 0.05795044685313923), (540, 0.08034347134789321), (541, 0.05300983326236498), (542, 0.043141676838987064), (543, 0.04004238343849691), (544, 0.08032727527575526), (545, 0.029765224474989232), (546, 0.05198457659959329), (547, 0.04989539751991155), (548, 0.06668599903221781), (549, 0.07442179320111102), (550, 0.05155301900654897), (551, 0.08230964712870746), (552, 0.08283085668958676), (553, 0.08197472897355247), (554, 0.03789575592062304), (555, 0.10355283044128763), (556, 0.033314163582775454), (557, 0.05901061998087748), (558, 0.040711746897354455), (559, 0.04272213434634588), (560, 0.05696976060344876), (561, 0.0912963701990164), (562, 0.0439047362586088), (563, 0.09331948578693998), (564, 0.08004883283252957), (565, 0.08606269214839735), (566, 0.09047787444249249), (567, 0.0998552933452372), (568, 0.04949700669904174), (569, 0.07263189306622557), (570, 0.0505378608028257), (571, 0.04048556805682482), (572, 0.15628668475792984), (573, 0.10899799994275694), (574, 0.043722739687793284), (575, 0.05631041501271531), (576, 0.08944771724988415), (577, 0.03770962171944073), (578, 0.05141862421936812), (579, 0.08235059680957274), (580, 0.0928172266674887), (581, 0.030865741538684287), (582, 0.09802784430248218), (583, 0.06809632884509051), (584, 0.06765919955415553), (585, 0.06281674027173412), (586, 0.0602752407356659), (587, 0.039479310260797595), (588, 0.05406222818037483), (589, 0.06822556686915787), (590, 0.026229642678854196), (591, 0.05684682324385733), (592, 0.10720515828126598), (593, 0.07265069473564117), (594, 0.05176613345564598), (595, 0.08175884788088894), (596, 0.04975129686671416), (597, 0.037639042454866684), (598, 0.06464734210618509), (599, 0.08535063082701747), (600, 0.05327184064148686), (601, 0.25812686128255624), (602, 0.0760661508451687), (603, 0.04486658063909563), (604, 0.03509663517157058), (605, 0.06484019558425574), (606, 0.039033503115726835), (607, 0.06204309458445185), (608, 0.08112604566837434), (609, 0.09591980685650311), (610, 0.04628364744908119), (611, 0.055489102619489625), (612, 0.0926125554929382), (613, 0.07472401463000017), (614, 0.03946257866569201), (615, 0.0403152571829741), (616, 0.03335023152198698), (617, 0.06660344393765566), (618, 0.045451931508524404), (619, 0.0660526585045327), (620, 0.07911301185967862), (621, 0.0708722257059199), (622, 0.05317531151282671), (623, 0.053541396129854084), (624, 0.054047224636591985), (625, 0.06980974582952557), (626, 0.046089623169366725), (627, 0.06324259623919), (628, 0.03877344956253473), (629, 0.02751419615500923), (630, 0.057223555716278254), (631, 0.06279350347261058), (632, 0.04860534402475832), (633, 0.040191227054004644), (634, 0.06710082725392652), (635, 0.07177873673690754), (636, 0.061990567999941654), (637, 0.05446181354131393), (638, 0.06800875166952466), (639, 0.06205536333014565), (640, 0.10597029133944011), (641, 0.04270287634480317), (642, 0.030551388545794082), (643, 0.05194450629228195), (644, 0.06148267842841722), (645, 0.09077452826768051), (646, 0.0444091791202488), (647, 0.051864627502803275), (648, 0.05629414569448122), (649, 0.04185470122544801), (650, 0.06554131317529245), (651, 0.03578133468429153), (652, 0.06246390844439645), (653, 0.045789876185307846), (654, 0.08960428616318182), (655, 0.07370540470561307), (656, 0.08026392646834596), (657, 0.09350167195328885), (658, 0.0594177313438477), (659, 0.08740834488161071), (660, 0.09183266351975555), (661, 0.15715441361006438), (662, 0.05861486893704619), (663, 0.07348429851635584), (664, 0.04199568606443452), (665, 0.06472777817375275), (666, 0.10932509841550467), (667, 0.040265191682445196), (668, 0.10282610034077218), (669, 0.016772894991586313), (670, 0.05389865767741622), (671, 0.08566967621368603), (672, 0.04726339287221443), (673, 0.06204968507449109), (674, 0.06738363934828406), (675, 0.08093235799485106), (676, 0.12069665290516841), (677, 0.05738445970586626), (678, 0.06383863973035472), (679, 0.03099763428413159), (680, 0.032059195553728936), (681, 0.12802088045362228), (682, 0.07822300884634506), (683, 0.06746758063044205), (684, 0.04487706561917516), (685, 0.04562893106490421), (686, 0.03679242177625561), (687, 0.06407111157450589), (688, 0.046482142966561196), (689, 0.06019597633884363), (690, 0.11424383979336244), (691, 0.06703576916537365), (692, 0.05637820469244436), (693, 0.07376106669457963), (694, 0.07568474284365924), (695, 0.10147808010756938), (696, 0.11231163092672332), (697, 0.053012494407973954), (698, 0.06732366543471531), (699, 0.04850195172850749), (700, 0.0772703792954209), (701, 0.03481730745577846), (702, 0.056848845674247056), (703, 0.05542573639889721), (704, 0.04256942914053019), (705, 0.10992674903350416), (706, 0.09356223127230243), (707, 0.03571596206642932), (708, 0.05091241229377381), (709, 0.08361840459732554), (710, 0.06989082389202819), (711, 0.06333034776271222), (712, 0.12812657111248082), (713, 0.08603821742935618), (714, 0.05176235356869005), (715, 0.06643901357812551), (716, 0.046007436212424486), (717, 0.02776923153307083), (718, 0.050273321634591424), (719, 0.03890805234852424), (720, 0.0861084329023839), (721, 0.11560640000533212), (722, 0.07239675959609798), (723, 0.06292681066697485), (724, 0.07078257694700875), (725, 0.08131337723349667), (726, 0.01896267738179176), (727, 0.04745758707306219), (728, 0.12665973677711928), (729, 0.02173294816159222), (730, 0.05501719266920322), (731, 0.07145810630858727), (732, 0.07482666365523703), (733, 0.08185047755969126), (734, 0.06220211392988001), (735, 0.08662636623596234), (736, 0.0420821172710453), (737, 0.08004954667062676), (738, 0.11532325897424076), (739, 0.06041947613691674), (740, 0.0656603574948612), (741, 0.07937331922134444), (742, 0.03583740987720165), (743, 0.05680978461684664), (744, 0.0421930629361155), (745, 0.09771673446266665), (746, 0.044927980568680435), (747, 0.10426261567233694), (748, 0.043543375182651264), (749, 0.057038916948083315), (750, 0.08489465521719064), (751, 0.03256421963331627), (752, 0.048012521797683776), (753, 0.08392309002441489), (754, 0.07619771256873992), (755, 0.06955394696394411), (756, 0.06085587847768171), (757, 0.160885792207595), (758, 0.11664086195813379), (759, 0.03340716737027187), (760, 0.07792361595145508), (761, 0.06797784872928464), (762, 0.05185965676925962), (763, 0.08520461740898483), (764, 0.040028800603421115), (765, 0.05962266120967297), (766, 0.04891301999788046), (767, 0.09401904994025045), (768, 0.06607106571489822), (769, 0.09586398060699455), (770, 0.0931095525101595), (771, 0.05065782570740199), (772, 0.06708958328580071), (773, 0.09099109860773384), (774, 0.068251369514093), (775, 0.0522641774552136), (776, 0.07276499165431431), (777, 0.04710538233476777), (778, 0.08626998495833986), (779, 0.10209168310808414), (780, 0.07191023637548215), (781, 0.05555806207167868), (782, 0.06041356774972395), (783, 0.06557059779411195), (784, 0.04427770807231669), (785, 0.04176587426087676), (786, 0.03621787595631302), (787, 0.04390369393403619), (788, 0.07543764713686842), (789, 0.03857971314840282), (790, 0.07580772434122766), (791, 0.06163537245021944), (792, 0.03658747772674343), (793, 0.04547245917276157), (794, 0.04958508605514387), (795, 0.02714128456034057), (796, 0.0713969051441447), (797, 0.03271441285524603), (798, 0.057850841757887454), (799, 0.06124578012249437), (800, 0.06793686730959851), (801, 0.0580347242851538), (802, 0.08332657436424021), (803, 0.058077373602331006), (804, 0.08117803955827571), (805, 0.0834973078163477), (806, 0.04822687615019037), (807, 0.03200706993295628), (808, 0.044234987481434895), (809, 0.07661773087147225), (810, 0.1570247836006175), (811, 0.06072740347270343), (812, 0.06916487006668204), (813, 0.047762688214124605), (814, 0.029943563349500775), (815, 0.0306549597666042), (816, 0.051294854098559384), (817, 0.03886668981724748), (818, 0.06735555831898955), (819, 0.08317817713989334), (820, 0.10162200253028897), (821, 0.06250228607766975), (822, 0.04473943389638705), (823, 0.058474387509907105), (824, 0.06145573461473688), (825, 0.06685466466669696), (826, 0.049142264857669773), (827, 0.06973687114554719), (828, 0.07196125280327073), (829, 0.08531691952644054), (830, 0.0730141680089955), (831, 0.09112382927906193), (832, 0.06633099078749431), (833, 0.04173588689474316), (834, 0.03411996467008849), (835, 0.10184242755702164), (836, 0.046409491741601326), (837, 0.05346588855819448), (838, 0.04290136843282087), (839, 0.059175756142486435), (840, 0.06276557098016053), (841, 0.0684509873996202), (842, 0.06795263435500569), (843, 0.051542890947363196), (844, 0.06607158299863905), (845, 0.04903537369085223), (846, 0.04254461937965411), (847, 0.08460334923186666), (848, 0.07793776935446357), (849, 0.06021014617848758), (850, 0.04858975119061693), (851, 0.08032642344360139), (852, 0.06523385852503495), (853, 0.02526283415125815), (854, 0.04518108388567282), (855, 0.03615579327081656), (856, 0.07181520597246872), (857, 0.0677236841919173), (858, 0.06023355196626362), (859, 0.044755268273910034), (860, 0.05560273793346485), (861, 0.05322689130186476), (862, 0.05479339542206222), (863, 0.05535603787568157), (864, 0.06292704426166568), (865, 0.1425553595606571), (866, 0.045974129360935034), (867, 0.0821256534248941), (868, 0.07009750925038201), (869, 0.06879714584343444), (870, 0.18241739580589234), (871, 0.06939283325122193), (872, 0.15480222667284038), (873, 0.03631208231215645), (874, 0.06214644338840965), (875, 0.07806484702817741), (876, 0.06181169380022525), (877, 0.06735723650377903), (878, 0.09205961857201068), (879, 0.05720584462261315), (880, 0.050647283535276144), (881, 0.05447400880409305), (882, 0.1338229608667756), (883, 0.06148755478141024), (884, 0.03804052195797136), (885, 0.03919562813063625), (886, 0.04210079144015864), (887, 0.07431322424505947), (888, 0.05931936751551473), (889, 0.033928975038399124), (890, 0.04894976013354281), (891, 0.04228458763064072), (892, 0.06692162276647956), (893, 0.06602451100690486), (894, 0.10183826675540843), (895, 0.09911660257456119), (896, 0.15320324071162048), (897, 0.06117800635395466), (898, 0.05141375725070579), (899, 0.08935804120597964), (900, 0.08504018610016172), (901, 0.05699274663118087), (902, 0.04669489812927636), (903, 0.07501142456291605), (904, 0.0625656626289106), (905, 0.04161511003715862), (906, 0.05509735763361575), (907, 0.10729656356499978), (908, 0.1138619937959926), (909, 0.11996702770976174), (910, 0.06787619808090149), (911, 0.06807713374842225), (912, 0.09483729091368948), (913, 0.0854395679572369), (914, 0.023098554474228084), (915, 0.06989834075385885), (916, 0.036396403303256566), (917, 0.15203640213894973), (918, 0.035993076424688616), (919, 0.034504259067586425), (920, 0.06253587267516743), (921, 0.055214194944540926), (922, 0.12931065496744293), (923, 0.03698938823789236), (924, 0.039106418567653914), (925, 0.040286352710783256), (926, 0.10268743829629316), (927, 0.07951395577772967), (928, 0.03504836338808032), (929, 0.05804939336204826), (930, 0.04700451129410754), (931, 0.034930072044274195), (932, 0.04771964645981933), (933, 0.05728233921597427), (934, 0.029574888122005087), (935, 0.04010982324685409), (936, 0.05389796873362223), (937, 0.06383978720540008), (938, 0.09151641319059224), (939, 0.152307811917448), (940, 0.034778157558553846), (941, 0.10577032096873365), (942, 0.08877608835147754), (943, 0.07387264862957757), (944, 0.09108313230875013), (945, 0.07481301606501141), (946, 0.046565573443216435), (947, 0.05177011163184958), (948, 0.034295262394258105), (949, 0.06077995311683258), (950, 0.030790283045929553), (951, 0.045019511139663945), (952, 0.058962400015259625), (953, 0.05469222899337285), (954, 0.04939951028107063), (955, 0.048867432624758206), (956, 0.03705981209462979), (957, 0.0604430641099878), (958, 0.03979486245445672), (959, 0.07530440173128922), (960, 0.08335583390655851), (961, 0.09142794690529576), (962, 0.06941393582170693), (963, 0.03419834599522756), (964, 0.09443044966505343), (965, 0.09816502850563039), (966, 0.08274061128572395), (967, 0.042631924922946124), (968, 0.03621786708268719), (969, 0.043686427362479616), (970, 0.06349823140955348), (971, 0.03820689988639981), (972, 0.11594492823455516), (973, 0.08059717346219747), (974, 0.08063721371723762), (975, 0.0803190875904996), (976, 0.023415060072914204), (977, 0.06102089599510953), (978, 0.05234530062728215), (979, 0.08094818553807395), (980, 0.06921587429586376), (981, 0.08377404840774788), (982, 0.047500806749260306), (983, 0.0472219835045648), (984, 0.03750490581532354), (985, 0.07382016935704996), (986, 0.10008454086161167), (987, 0.03362463655858519), (988, 0.05781841129371542), (989, 0.048544551436959384), (990, 0.057123648033658075), (991, 0.05359369325305356), (992, 0.08155859924454878), (993, 0.04361160105373525), (994, 0.04068173383181565), (995, 0.047036533444805434), (996, 0.04781483929460654), (997, 0.06910583387288176), (998, 0.06332747073170285), (999, 0.09023782405875455), (1000, 0.055249660239181), (1001, 0.046424785747847044), (1002, 0.056795004753549753), (1003, 0.06445951440736454), (1004, 0.05682262324431747), (1005, 0.054307422473857184), (1006, 0.056293886805568544), (1007, 0.04938488965955377), (1008, 0.05519453609659654), (1009, 0.05240319596699809), (1010, 0.12196077392880904), (1011, 0.03764829474407263), (1012, 0.08090710595198738), (1013, 0.07904252165695673), (1014, 0.07415650089221569), (1015, 0.05262979828068752), (1016, 0.042924213806149275), (1017, 0.05160077524461027), (1018, 0.02872864248466723), (1019, 0.06118975233990301), (1020, 0.06619240848677438), (1021, 0.11897191702690417), (1022, 0.1257880617844065), (1023, 0.07544922797212972), (1024, 0.06099080894432957), (1025, 0.06352675141020327), (1026, 0.05721579043680079), (1027, 0.06285871688712914), (1028, 0.05800200497855547), (1029, 0.04343264803064978), (1030, 0.11068747451137356), (1031, 0.07370471496521645), (1032, 0.03495574230305022), (1033, 0.06061960552345015), (1034, 0.05557264305376685), (1035, 0.026209480257410295), (1036, 0.04009063156553319), (1037, 0.03979643136584652), (1038, 0.08591015795780983), (1039, 0.07328839139027377), (1040, 0.05954344749121244), (1041, 0.03917448748080185), (1042, 0.06670281135486271), (1043, 0.07226786474992995), (1044, 0.09107303494239208), (1045, 0.0601791995096093), (1046, 0.07393676998608352), (1047, 0.08609357197512424), (1048, 0.07062759001286713), (1049, 0.07803396868022268), (1050, 0.07528128801051875), (1051, 0.04228757518917737), (1052, 0.018443453771650707), (1053, 0.06469592560692246), (1054, 0.046367930372626105), (1055, 0.08344127655553085), (1056, 0.07454972258277179), (1057, 0.03376576657649211), (1058, 0.08843638044618987), (1059, 0.11685202018586707), (1060, 0.04686550103481045), (1061, 0.0820454549626672), (1062, 0.07981871470721968), (1063, 0.11807499655818025), (1064, 0.0445009535645444), (1065, 0.08273895386571281), (1066, 0.06132839601757656), (1067, 0.05143334644542502), (1068, 0.06168041241178823), (1069, 0.04806915654479846), (1070, 0.06533600710157124), (1071, 0.03887054049113647), (1072, 0.04034366593082714), (1073, 0.053204237193244866), (1074, 0.0333901061036365), (1075, 0.06874905352384901), (1076, 0.04382308940072756), (1077, 0.04284241876562226), (1078, 0.06483865563204493), (1079, 0.06728198724748426), (1080, 0.06269912050605365), (1081, 0.05341242694269902), (1082, 0.05365349890199776), (1083, 0.12584379279508626), (1084, 0.06371656649168625), (1085, 0.04499534617599819), (1086, 0.12162943866460349), (1087, 0.08682457367394959), (1088, 0.08872891525129198), (1089, 0.04135972077816656), (1090, 0.03655757350508917), (1091, 0.0633647313564211), (1092, 0.06162654856090212), (1093, 0.0723970999415977), (1094, 0.06068862853232564), (1095, 0.07185877578835571), (1096, 0.02952161666086337), (1097, 0.05007489036115487), (1098, 0.05018249599313722), (1099, 0.03569155380587644), (1100, 0.03601539133283112), (1101, 0.034120152320162835), (1102, 0.04987165142080986), (1103, 0.03547643748857541), (1104, 0.06633225873267683), (1105, 0.059767395407027524), (1106, 0.0676758592099276), (1107, 0.11025231043910533), (1108, 0.06780606659324748), (1109, 0.032173330463063234), (1110, 0.05193968962138926), (1111, 0.058277221062126947), (1112, 0.04734328248949325), (1113, 0.04259520723846553), (1114, 0.04977927640782159), (1115, 0.10476917010173942), (1116, 0.05794799906754524), (1117, 0.06317791400657406), (1118, 0.0797446262536006), (1119, 0.08869122070660343), (1120, 0.05567635828762092), (1121, 0.056169746677905544), (1122, 0.04364624732275142), (1123, 0.05577178661867245), (1124, 0.057336890932581555), (1125, 0.061715950037077465), (1126, 0.08324481575684492), (1127, 0.06507605393471097), (1128, 0.10275127423808354), (1129, 0.08517755398433978), (1130, 0.05415741093522352), (1131, 0.09060470948256), (1132, 0.06552957912514196), (1133, 0.06018933462160364), (1134, 0.0569032575924533), (1135, 0.09296474953642954), (1136, 0.04303603240341672), (1137, 0.0498154542217501), (1138, 0.09573805261993674), (1139, 0.050472943923629505), (1140, 0.08853995641281902), (1141, 0.048032077822213234), (1142, 0.03522212049121799), (1143, 0.04386549769253295), (1144, 0.07982365308563638), (1145, 0.03027173045057586), (1146, 0.0672025336754522), (1147, 0.045346603589991666), (1148, 0.061516274844606235), (1149, 0.0446033216990154), (1150, 0.07524646842403326), (1151, 0.04292518645485391), (1152, 0.07294984971178063), (1153, 0.06874203688439724), (1154, 0.07421520847080083), (1155, 0.09449810948140928), (1156, 0.0383191285734916), (1157, 0.0991478732844615), (1158, 0.07094348213603827), (1159, 0.050055885604873715), (1160, 0.0404440379794018), (1161, 0.07877818013658759), (1162, 0.09037817928481569), (1163, 0.02858221115183418), (1164, 0.040672926388892784), (1165, 0.044462228095323464), (1166, 0.07322558006302994), (1167, 0.04862172975632073), (1168, 0.0792778668448243), (1169, 0.07072386787421228), (1170, 0.049486845841919175), (1171, 0.04563320473897975), (1172, 0.08116555575027282), (1173, 0.09486960543850848), (1174, 0.04335950710423406), (1175, 0.07165734039817954), (1176, 0.036087710290424624), (1177, 0.03297164126143632), (1178, 0.13318041191253174), (1179, 0.04045099334266973), (1180, 0.05921973380866443), (1181, 0.11617460338679042), (1182, 0.041135432005797445), (1183, 0.149438915052911), (1184, 0.06736986278609117), (1185, 0.04592831350230051), (1186, 0.0652897055056621), (1187, 0.0538656242771265), (1188, 0.05571924607027709), (1189, 0.09131078371994775), (1190, 0.06798575428805774), (1191, 0.08366333444051155), (1192, 0.05705229465346206), (1193, 0.07594193428622796), (1194, 0.10440052994499208), (1195, 0.0692787635102868), (1196, 0.05166641082329154), (1197, 0.04471331980115619), (1198, 0.05627218422888414), (1199, 0.04614882362701274), (1200, 0.10028433419629773), (1201, 0.046411464954642254), (1202, 0.08778506183908354), (1203, 0.08770523126027265), (1204, 0.05804280073351543), (1205, 0.059271354220708235), (1206, 0.08133859548883149), (1207, 0.048456164079214235), (1208, 0.04255167534719309), (1209, 0.07977731245962497), (1210, 0.05417108182797258), (1211, 0.07936311458221956), (1212, 0.06329942846784727), (1213, 0.041993810966335206), (1214, 0.039927533748222), (1215, 0.04388924162153525), (1216, 0.036759320563970695), (1217, 0.04975248600975713), (1218, 0.05398980872462126), (1219, 0.12666731378618448), (1220, 0.06487690508886902), (1221, 0.03939051407442597), (1222, 0.04752441090204908), (1223, 0.0932198551897449), (1224, 0.07349408036986406), (1225, 0.09104215460556753), (1226, 0.022280844641060636), (1227, 0.18398697059048055), (1228, 0.06184978012816583), (1229, 0.044525137196442924), (1230, 0.07308426300208198), (1231, 0.025579053207688735), (1232, 0.04736170969563994), (1233, 0.045352678285198), (1234, 0.03616634313352995), (1235, 0.0587623305709369), (1236, 0.04595594552578171), (1237, 0.05512641831622186), (1238, 0.11519508348695838), (1239, 0.06514947741124863), (1240, 0.033441272192975546), (1241, 0.07350287255974103), (1242, 0.032398807068506716), (1243, 0.14395493198638779), (1244, 0.09648112944319726), (1245, 0.08377738889894767), (1246, 0.04155397781355761), (1247, 0.05503646868301784), (1248, 0.06855281099046696), (1249, 0.06907724674679594), (1250, 0.06263513430892823), (1251, 0.05112531922274424), (1252, 0.14235784766169687), (1253, 0.044009103758278253), (1254, 0.08225758364893623), (1255, 0.06855784877538931), (1256, 0.046174156785084096), (1257, 0.07833874472955532), (1258, 0.09179017447575123), (1259, 0.05306260997904053), (1260, 0.06847346767753579), (1261, 0.0586595628490146), (1262, 0.09902911025873729), (1263, 0.04707512031011215), (1264, 0.0720974485679487), (1265, 0.06868362420332397), (1266, 0.08886062702375003), (1267, 0.0719448184726792), (1268, 0.06458301529219855), (1269, 0.04577869605356988), (1270, 0.0538736161694681), (1271, 0.06575247654306106), (1272, 0.04738482305648716), (1273, 0.05818921495029226), (1274, 0.04516819835063757), (1275, 0.055922955088027526), (1276, 0.05816746841519437), (1277, 0.07002064259140861), (1278, 0.05215743385038631), (1279, 0.05966992212911173), (1280, 0.05579700179139329), (1281, 0.05702941971725024), (1282, 0.04766804820801858), (1283, 0.06862647567952718), (1284, 0.056044196001021784), (1285, 0.057955060019713844), (1286, 0.04341685310586102), (1287, 0.11262997852037601), (1288, 0.07675458923939116), (1289, 0.06337636800843827), (1290, 0.024748925353222016), (1291, 0.04309666659401904), (1292, 0.08271344666908367), (1293, 0.11411129241719806), (1294, 0.0536060472845777), (1295, 0.09088100407370305), (1296, 0.04572292433410679), (1297, 0.0912832933211844), (1298, 0.11015514142287355), (1299, 0.05480685945221059), (1300, 0.08169556853398519), (1301, 0.016594972214148424), (1302, 0.07432301585581452), (1303, 0.05777726637136622), (1304, 0.08173425405635433), (1305, 0.04432368683212695), (1306, 0.07645790562867241), (1307, 0.04415947025705553), (1308, 0.0754591731255771), (1309, 0.029057571668630135), (1310, 0.06321973377728689), (1311, 0.05874356256898473), (1312, 0.07065393962799507), (1313, 0.04832383974052535), (1314, 0.043881375365273624), (1315, 0.06832793484403958), (1316, 0.06122666432417476), (1317, 0.043759398754993364), (1318, 0.10274663333019927), (1319, 0.08481088317149822), (1320, 0.05867536912886578), (1321, 0.04461045582300058), (1322, 0.06356372461924024), (1323, 0.07088535245584746), (1324, 0.04433648429701594), (1325, 0.06866476333131048), (1326, 0.07147906205976784), (1327, 0.09311879498707039), (1328, 0.03192052230702755), (1329, 0.046242481037722306), (1330, 0.0370961427216477), (1331, 0.04549730916435174), (1332, 0.04503367157474464), (1333, 0.05725655170967912), (1334, 0.10134475511527487), (1335, 0.04494294885770503), (1336, 0.06600723317546804), (1337, 0.06699050810223511), (1338, 0.05508777091339616), (1339, 0.048496105423092614), (1340, 0.053948820422787744), (1341, 0.06939411433417982), (1342, 0.06650779900494708), (1343, 0.07757687322172335), (1344, 0.03535541071456271), (1345, 0.06021936302657692), (1346, 0.05401637849743455), (1347, 0.11990417022076082), (1348, 0.04962258875067293), (1349, 0.05342484158544662), (1350, 0.05153265798148854), (1351, 0.0692804379643776), (1352, 0.055706857689476606), (1353, 0.05897209775059764), (1354, 0.09533226030640223), (1355, 0.06970622590384652), (1356, 0.04447801938812661), (1357, 0.06855899497070884), (1358, 0.05384615226854531), (1359, 0.11338620187551171), (1360, 0.04462912960392778), (1361, 0.03543965912232882), (1362, 0.1004077359677566), (1363, 0.09315278159359425), (1364, 0.12181698023397934), (1365, 0.05452765237641659), (1366, 0.07361214786816443), (1367, 0.05393908457616993), (1368, 0.05436055854700117), (1369, 0.07797318196607675), (1370, 0.06020962678647222), (1371, 0.059684819082106544), (1372, 0.05413129205911421), (1373, 0.04722389194534829), (1374, 0.05390405210282598), (1375, 0.09784495151829604), (1376, 0.05070048306472971), (1377, 0.05385430089382559), (1378, 0.061794460254870016), (1379, 0.03973882560529092), (1380, 0.058199714854521696), (1381, 0.06108300078107767), (1382, 0.05467756428253616), (1383, 0.04458879233780591), (1384, 0.04588449598216081), (1385, 0.08666656111092658), (1386, 0.045693471257799025), (1387, 0.03959854637672003), (1388, 0.04662422129015682), (1389, 0.06025628305667964), (1390, 0.0677376331596796), (1391, 0.04336162412967043), (1392, 0.0852626398192811), (1393, 0.05382767459858709), (1394, 0.04829810981933665), (1395, 0.06336939574049293), (1396, 0.06321296412201362), (1397, 0.04468398797194441), (1398, 0.09828046824690166), (1399, 0.03978218386083469), (1400, 0.09456440180220428), (1401, 0.08745655907940329), (1402, 0.047603093636850946), (1403, 0.04987505907082092), (1404, 0.05209458371351216), (1405, 0.06652059134534653), (1406, 0.08864491352314473), (1407, 0.03329433741158235), (1408, 0.07521578512704763), (1409, 0.0835901917496616), (1410, 0.047083356765475884), (1411, 0.05026453775072054), (1412, 0.015192772741778113), (1413, 0.11830650881062116), (1414, 0.05723040826504304), (1415, 0.06694606043014281), (1416, 0.045524106269317875), (1417, 0.046383196504138226), (1418, 0.09448355029270962), (1419, 0.046498348534695894), (1420, 0.12915088668290142), (1421, 0.09653461292060488), (1422, 0.046235554011944326), (1423, 0.07242264090347195), (1424, 0.039986550497439634), (1425, 0.07786113488896762), (1426, 0.09005420033860467), (1427, 0.06697993311015732), (1428, 0.06285956802244694), (1429, 0.04502489870197593), (1430, 0.057939561769715535), (1431, 0.06572662306562656), (1432, 0.06504989702244035), (1433, 0.0910914508079026), (1434, 0.05284342928937026), (1435, 0.06282084467282127), (1436, 0.0773583828002011), (1437, 0.24099333821518312), (1438, 0.04391868520031369), (1439, 0.08192520595282585), (1440, 0.048646515735180876), (1441, 0.01953551611941401), (1442, 0.03411051185650335), (1443, 0.023269843822745218), (1444, 0.06531082941680688), (1445, 0.15654947803530161), (1446, 0.069872538144299), (1447, 0.12451143820148138), (1448, 0.10917464919525642), (1449, 0.11456473774080198), (1450, 0.04776211060809667), (1451, 0.058666738451680245), (1452, 0.0764527950008257), (1453, 0.05252163489003012), (1454, 0.04535166464091393), (1455, 0.09912591866635097), (1456, 0.07691909127999753), (1457, 0.04734097358165637), (1458, 0.058122872528511546), (1459, 0.03786041018167044), (1460, 0.1391874813439065), (1461, 0.03903717544484235), (1462, 0.04919677350799036), (1463, 0.11277306926833194), (1464, 0.06494624909562025), (1465, 0.06821441883531663), (1466, 0.03868896002018272), (1467, 0.07497561019932822), (1468, 0.06829383673139348), (1469, 0.05725359741425462), (1470, 0.05140978921764669), (1471, 0.05662539707140801), (1472, 0.054262835129395254), (1473, 0.08668183031393875), (1474, 0.07983896471115905), (1475, 0.04828761724846859), (1476, 0.04183071651408834), (1477, 0.03931648724607509), (1478, 0.08728558909340932), (1479, 0.052264213130741095), (1480, 0.058689374164469246), (1481, 0.09433447728826497), (1482, 0.04012940684202103), (1483, 0.042325808146102054), (1484, 0.06991792040560221), (1485, 0.07603626164785351), (1486, 0.03239699204901109), (1487, 0.07727181545757428), (1488, 0.06011007092077197), (1489, 0.059611148141182436), (1490, 0.09147216287599272), (1491, 0.04533827282832457), (1492, 0.0750093054916493), (1493, 0.11721848941081071), (1494, 0.07080999049169631), (1495, 0.11895260316248626), (1496, 0.08500151552303328), (1497, 0.05048768056643293), (1498, 0.09577848091904567), (1499, 0.04935052720624849), (1500, 0.055025729575986906), (1501, 0.10541726164523602), (1502, 0.08518445781914119), (1503, 0.07398620140649477), (1504, 0.04104885887345491), (1505, 0.07021864442121861), (1506, 0.08151374340865626), (1507, 0.09427214339357219), (1508, 0.053004977664300006), (1509, 0.016751366591543266), (1510, 0.06841496267763664), (1511, 0.029744263696214718), (1512, 0.08053415036267048), (1513, 0.06437360227002129), (1514, 0.07909728176009323), (1515, 0.1029456165952744), (1516, 0.038721848982764304), (1517, 0.05293923700968995), (1518, 0.03909323015869581), (1519, 0.05025474211629467), (1520, 0.0379804062477044), (1521, 0.06276009599764157), (1522, 0.07064220884670441), (1523, 0.048915943820790904), (1524, 0.07197960536304948), (1525, 0.09535132535977091), (1526, 0.0380639351482526), (1527, 0.10428803329236766), (1528, 0.05784947966740997), (1529, 0.04786453951625616), (1530, 0.06585582439555215), (1531, 0.05189495965446321), (1532, 0.06275796731733624), (1533, 0.07490336214972895), (1534, 0.04793017395519624), (1535, 0.05353999190907641), (1536, 0.07081260552384723), (1537, 0.08570683940551829), (1538, 0.039890354658235046), (1539, 0.05551165678672395), (1540, 0.05615925420376979), (1541, 0.06969405006401105), (1542, 0.048812706586393), (1543, 0.04630811631023886), (1544, 0.037320033337029414), (1545, 0.04522161666035641), (1546, 0.1027819301380248), (1547, 0.06310928637130062), (1548, 0.048421889930868), (1549, 0.05475263510359304), (1550, 0.05368204468662335), (1551, 0.07471866577321225), (1552, 0.047410146432974316), (1553, 0.06898681050024576), (1554, 0.0870852354588651), (1555, 0.028764707617233126), (1556, 0.04980408729524694), (1557, 0.08652959627392984), (1558, 0.09528596934270459), (1559, 0.0795540365864086), (1560, 0.07847173620391583), (1561, 0.06596064549921164), (1562, 0.05235418475244118), (1563, 0.0669589552067697), (1564, 0.08733777689251265), (1565, 0.07653460571933852), (1566, 0.072966925663462), (1567, 0.02931966350267168), (1568, 0.050594571156833856), (1569, 0.04717736251553858), (1570, 0.06754864795655192), (1571, 0.055356946906376936), (1572, 0.04282221078090837), (1573, 0.04672436461968303), (1574, 0.095474467754453), (1575, 0.089056425679262), (1576, 0.09770186310904583), (1577, 0.09864455730246902), (1578, 0.038741693834594124), (1579, 0.11695725642110376), (1580, 0.13581367231543764), (1581, 0.04697546348187882), (1582, 0.053537057782846544), (1583, 0.03733507842212056), (1584, 0.05505591356871585), (1585, 0.05451488207018917), (1586, 0.0610887502424619), (1587, 0.059491468861317495), (1588, 0.08278504342450121), (1589, 0.06916670142993242), (1590, 0.048054304026458064), (1591, 0.05029648459602013), (1592, 0.057185588717505995), (1593, 0.0690206511460431), (1594, 0.08621651627393986), (1595, 0.07509697169462409), (1596, 0.06332600952052445), (1597, 0.053660630995295014), (1598, 0.07115802655317437), (1599, 0.11276477435163403), (1600, 0.07771086043414521), (1601, 0.07038490381130044), (1602, 0.08882676756478457), (1603, 0.12180042466110914), (1604, 0.0554097244332322), (1605, 0.04338894798248359), (1606, 0.14318697100733985), (1607, 0.05654399938667222), (1608, 0.030813131614124283), (1609, 0.06503232963575062), (1610, 0.04027333477850514), (1611, 0.0497262343900034), (1612, 0.08098747235207732), (1613, 0.08753889284461781), (1614, 0.056428241451381825), (1615, 0.035011341636689126), (1616, 0.1026270798017318), (1617, 0.05460901092053727), (1618, 0.047912777603101066), (1619, 0.056716106063617974), (1620, 0.040529865005969175), (1621, 0.09048665412134002), (1622, 0.08511384073754358), (1623, 0.10539087523035318), (1624, 0.03647639371269098), (1625, 0.029496341145063384), (1626, 0.03386878785669935), (1627, 0.041846174391001766), (1628, 0.052211434485895006), (1629, 0.07800771845850736), (1630, 0.074150164831348), (1631, 0.0542130974487963), (1632, 0.08257832104259707), (1633, 0.08015236882016609), (1634, 0.05830367198257384), (1635, 0.07522755165870058), (1636, 0.056161252950081765), (1637, 0.05197836663942282), (1638, 0.04313940015346858), (1639, 0.06902637090185545), (1640, 0.06650555709621973), (1641, 0.06625163065220102), (1642, 0.040112253087339324), (1643, 0.12277317213303625), (1644, 0.06401089206058326), (1645, 0.057302885716610394), (1646, 0.049141645801652374), (1647, 0.03682822182826534), (1648, 0.04196574761462473), (1649, 0.1509351544587801), (1650, 0.032779507814951564), (1651, 0.056791282444495036), (1652, 0.0708851666338122), (1653, 0.07373915072540817), (1654, 0.044516961267943786), (1655, 0.048917483843236687), (1656, 0.056839064406100676), (1657, 0.04181851422425453), (1658, 0.07800005884330526), (1659, 0.06695508283688723), (1660, 0.03569276742108551), (1661, 0.06012286227900726), (1662, 0.06306196713838057), (1663, 0.053780624561828194), (1664, 0.046973714425267515), (1665, 0.12498902979582717), (1666, 0.05162821953622544), (1667, 0.08130621603685881), (1668, 0.06441492545311646), (1669, 0.10342245125553862), (1670, 0.09709083960029465), (1671, 0.06036643849930173), (1672, 0.024705613299862452), (1673, 0.025748423760987148), (1674, 0.06450793273431711), (1675, 0.033818448957643014), (1676, 0.07555929318705784), (1677, 0.018493748885802047), (1678, 0.08289099243493298), (1679, 0.04170785608765005), (1680, 0.04481133879021498), (1681, 0.0657607532862627), (1682, 0.05784779206096025), (1683, 0.062142480448316384), (1684, 0.06710476648293925), (1685, 0.09560637667703129), (1686, 0.10376333753915974), (1687, 0.04969203213282872), (1688, 0.06970013327094686), (1689, 0.06792221574386563), (1690, 0.05567067841311563), (1691, 0.036604494026070244), (1692, 0.020427779351881545), (1693, 0.03765029614986381), (1694, 0.0644905625407466), (1695, 0.052561703607535246), (1696, 0.08019595627192261), (1697, 0.0385230595549766), (1698, 0.06664908394704117), (1699, 0.06975901568448278), (1700, 0.04453020601970184), (1701, 0.0739220282403586), (1702, 0.07590232195121667), (1703, 0.04408195273882027), (1704, 0.05747280505282242), (1705, 0.0812434784128531), (1706, 0.06947572555643533), (1707, 0.04194941765438111), (1708, 0.08775515738887935), (1709, 0.045807528275194714), (1710, 0.04179910504246618), (1711, 0.1113184620477121), (1712, 0.06429317453048727), (1713, 0.04697451436539375), (1714, 0.0650343082069154), (1715, 0.06033083707218605), (1716, 0.03992879253327408), (1717, 0.1705252538057504), (1718, 0.06628803413188866), (1719, 0.060782017374188424), (1720, 0.04219386068795896), (1721, 0.04163495532416468), (1722, 0.03597332329854732), (1723, 0.0496723540204584), (1724, 0.05491387124485808), (1725, 0.0602475069096854), (1726, 0.046115701894264116), (1727, 0.04727569575414492), (1728, 0.060792498017466876), (1729, 0.06181899953856228), (1730, 0.06175241276463159), (1731, 0.039043403099943245), (1732, 0.050138040965825435), (1733, 0.04766658979988205), (1734, 0.046418001137532194), (1735, 0.04444369911497853), (1736, 0.06966106637011801), (1737, 0.06321870963153453), (1738, 0.07485410015336268), (1739, 0.06463106979660839), (1740, 0.028488273014666096), (1741, 0.0513435940982973), (1742, 0.09751421953831921), (1743, 0.04295864123181931), (1744, 0.04488892023327866), (1745, 0.05277151986014301), (1746, 0.058921514867194366), (1747, 0.038687972069439844), (1748, 0.039531709281301314), (1749, 0.059453774927634456), (1750, 0.059942393597735795), (1751, 0.04292278234914414), (1752, 0.12438582234598757), (1753, 0.033200768790921265), (1754, 0.05907140796362183), (1755, 0.05922739366827115), (1756, 0.07069348821672773), (1757, 0.04698458073482368), (1758, 0.09543005357287682), (1759, 0.06125972339145107), (1760, 0.06050736928192766), (1761, 0.066052343988409), (1762, 0.049994856099477514), (1763, 0.05939309616437285), (1764, 0.056543186489372746), (1765, 0.03852327875350883), (1766, 0.06464965370511831), (1767, 0.06983838205138726), (1768, 0.07613033749926297), (1769, 0.04569441250382594), (1770, 0.043125636323631734), (1771, 0.06942268334186837), (1772, 0.040130076792640655), (1773, 0.06316811659926656), (1774, 0.04076617738172211), (1775, 0.07358347081816355), (1776, 0.14291558838035537), (1777, 0.07367812783802236), (1778, 0.08240018052418284), (1779, 0.1026412136880111), (1780, 0.047771132290922017), (1781, 0.09460557895942814), (1782, 0.036733167595086026), (1783, 0.07373258628628906), (1784, 0.04785941747573415), (1785, 0.0558208746213771), (1786, 0.050030946292672296), (1787, 0.04160792895214991), (1788, 0.030281722649389012), (1789, 0.12672469262605965), (1790, 0.037050979670586445), (1791, 0.04023082482178439), (1792, 0.07516388124298834), (1793, 0.057728134549140456), (1794, 0.06297076976268212), (1795, 0.05552286659122547), (1796, 0.08219167106139537), (1797, 0.05135687071813265), (1798, 0.05523518938644074), (1799, 0.11568281022378012), (1800, 0.052318572627940124), (1801, 0.053370472816880954), (1802, 0.04084415365092045), (1803, 0.0535221755427711), (1804, 0.050317402998225964), (1805, 0.09316467559461812), (1806, 0.058086637077803864), (1807, 0.05929936001396302), (1808, 0.04266006852568558), (1809, 0.05625048003415714), (1810, 0.07220981221046219), (1811, 0.05358114366612412), (1812, 0.11616429145870832), (1813, 0.04627947893536634), (1814, 0.0448004753265749), (1815, 0.06315230923236326), (1816, 0.03440336893476184), (1817, 0.06807883892991397), (1818, 0.06284597638996084), (1819, 0.049810274575797446), (1820, 0.07043397028509246), (1821, 0.07099334982170272), (1822, 0.10145755113611997), (1823, 0.03014367209756957), (1824, 0.040961875075666995), (1825, 0.02840742019779179), (1826, 0.04615941227147378), (1827, 0.06859593398302079), (1828, 0.06998116992552221), (1829, 0.0638760019456045), (1830, 0.07412629253622635), (1831, 0.051402114741777756), (1832, 0.06273148661897525), (1833, 0.10195978873886753), (1834, 0.05574858972025517), (1835, 0.08363917920574614), (1836, 0.08832419002659408), (1837, 0.13780834711340773), (1838, 0.11364302576698079), (1839, 0.061961100546618714), (1840, 0.08590193542218592), (1841, 0.05736495812530714), (1842, 0.048917677198512616), (1843, 0.04429490711703649), (1844, 0.055455862056889765), (1845, 0.0483583997432507), (1846, 0.05077197058508668), (1847, 0.03867549575040788), (1848, 0.046411036631793856), (1849, 0.09166828396383692), (1850, 0.06165908397916392), (1851, 0.0691929458788703), (1852, 0.07484866645433483), (1853, 0.06869923029348168), (1854, 0.06442025013238749), (1855, 0.05835858568516295), (1856, 0.06372816804490893), (1857, 0.014355715300337225), (1858, 0.061409996806407685), (1859, 0.056877228493784016), (1860, 0.056245273480475436), (1861, 0.11739133746605981), (1862, 0.05339130477901145), (1863, 0.06608769385793754), (1864, 0.062191357098671414), (1865, 0.06469204216175095), (1866, 0.04088518911341793), (1867, 0.04190836053779751), (1868, 0.08023257281649729), (1869, 0.04119528082303771), (1870, 0.1320450828604772), (1871, 0.09155832264653482), (1872, 0.0772613813391422), (1873, 0.04224318720697046), (1874, 0.06303220057162269), (1875, 0.037362710159666544), (1876, 0.05903996683892178), (1877, 0.033100502225556244), (1878, 0.022316219757699797), (1879, 0.05997760453898944), (1880, 0.08137548135176606), (1881, 0.027616482482695798), (1882, 0.11457942694934388), (1883, 0.028145320369211475), (1884, 0.06655521241165066), (1885, 0.021709013416095692), (1886, 0.053920757576520754), (1887, 0.049486064911431725), (1888, 0.039029530853409336), (1889, 0.0590821953594307), (1890, 0.04717890419019017), (1891, 0.02866980435234031), (1892, 0.050794832526800344), (1893, 0.06274634967339064), (1894, 0.06527394414434057), (1895, 0.0552958246552874), (1896, 0.05047632206800379), (1897, 0.053641428819987166), (1898, 0.04771563834264276), (1899, 0.13224206030386595), (1900, 0.08263381840278357), (1901, 0.06826873128690215), (1902, 0.1034349147145991), (1903, 0.07801004606424831), (1904, 0.056880151209574716), (1905, 0.046642369727423055), (1906, 0.03729745134932483), (1907, 0.045756221739130284), (1908, 0.09658051474498962), (1909, 0.05109604149261056), (1910, 0.03903808767879883), (1911, 0.07352299151113577), (1912, 0.06457596818562425), (1913, 0.05813835653033484), (1914, 0.05404255356209795), (1915, 0.05094953856128583), (1916, 0.05929061637041494), (1917, 0.030538948353072318), (1918, 0.0745315365717043), (1919, 0.06507806685596028), (1920, 0.046909620021631196), (1921, 0.0431669593101498), (1922, 0.053369573624532034), (1923, 0.06914332216517509), (1924, 0.07152318936486014), (1925, 0.055078752816241826), (1926, 0.06417651893128287), (1927, 0.0366598725650092), (1928, 0.0695320723076669), (1929, 0.051886457416440136), (1930, 0.05701429100689864), (1931, 0.06941396712601723), (1932, 0.0956471593426959), (1933, 0.08462696942583914), (1934, 0.040785922561270366), (1935, 0.06927131460554918), (1936, 0.05910846929292633), (1937, 0.08249542691062468), (1938, 0.05109350855531859), (1939, 0.08030544068104029), (1940, 0.059152718633815396), (1941, 0.046187810969471985), (1942, 0.06651668130549847), (1943, 0.07993703271449776), (1944, 0.04417186039607335), (1945, 0.07095940233348766), (1946, 0.04837307290686246), (1947, 0.05410613904173308), (1948, 0.047273779627557744), (1949, 0.04538528465449286), (1950, 0.0822042672872718), (1951, 0.10920476745281539), (1952, 0.06839446657814056), (1953, 0.05644180381855521), (1954, 0.08224906318534002), (1955, 0.05130856097707736), (1956, 0.06991011323773305), (1957, 0.13838545239525724), (1958, 0.09330962135986179), (1959, 0.03864592666012509), (1960, 0.04207836575486333), (1961, 0.04265305457680784), (1962, 0.07368609631205679), (1963, 0.12930357408114182), (1964, 0.0692478259970982), (1965, 0.03438391949926718), (1966, 0.09359279130262073), (1967, 0.04497281790376937), (1968, 0.04386773279295727), (1969, 0.039775821931553934), (1970, 0.06778878169248848), (1971, 0.10950883146314594), (1972, 0.05460551804239355), (1973, 0.08031496375023468), (1974, 0.05505807904934251), (1975, 0.08127975566155496), (1976, 0.062302420500388325), (1977, 0.16949860748632792), (1978, 0.08460066131520379), (1979, 0.07249304375813795), (1980, 0.14412867069586005), (1981, 0.06264845966054497), (1982, 0.08041922256748017), (1983, 0.04483682659012619), (1984, 0.06417459085696815), (1985, 0.04466472177375732), (1986, 0.17726892376384462), (1987, 0.09479715602489999), (1988, 0.10955707857548826), (1989, 0.044455361286954834), (1990, 0.052140084254260484), (1991, 0.04552266770189681), (1992, 0.053980403476352246), (1993, 0.07858541372952514), (1994, 0.02928147115223535), (1995, 0.07876355624213047), (1996, 0.04726660313001289), (1997, 0.03198542945591977), (1998, 0.06470642120336034), (1999, 0.11594203066018066), (2000, 0.07123342511252075), (2001, 0.13918197007478134), (2002, 0.03290014570614181), (2003, 0.06822242151941091), (2004, 0.046279434409413), (2005, 0.0973593120896958), (2006, 0.029189806677118808), (2007, 0.0647795823879746), (2008, 0.0463250297541848), (2009, 0.03841612387439124), (2010, 0.05479052530959569), (2011, 0.05776003639376151), (2012, 0.03691569594314514), (2013, 0.03194244826955104), (2014, 0.1510193018902714), (2015, 0.04264608124288721), (2016, 0.06967584648761621), (2017, 0.056330602353812834), (2018, 0.053920133863301814), (2019, 0.06794970712921872), (2020, 0.02368129800788793), (2021, 0.04871428082149268), (2022, 0.0891553731373135), (2023, 0.06949769079448055), (2024, 0.04994617934838426), (2025, 0.03727152137956538), (2026, 0.04770709317922431), (2027, 0.012307166908828326), (2028, 0.04511825940908098), (2029, 0.11832760241376254), (2030, 0.040256866223142694), (2031, 0.04859459668321513), (2032, 0.05595256244412647), (2033, 0.04293353265398295), (2034, 0.05875484362927494), (2035, 0.025015938704906048), (2036, 0.05471713166300428), (2037, 0.09169309027863723), (2038, 0.044703825693784185), (2039, 0.09161878522467173), (2040, 0.04169169499553224), (2041, 0.05888912542721023), (2042, 0.059148603254093365), (2043, 0.15402765629852322), (2044, 0.0905938828491743), (2045, 0.04912031308989076), (2046, 0.042663001047195566), (2047, 0.0925693830105338), (2048, 0.03114759405605966), (2049, 0.05582381641189502), (2050, 0.0672431874023456), (2051, 0.044119595221670034), (2052, 0.06827957464674601), (2053, 0.11661368881786428), (2054, 0.044892687684599475), (2055, 0.051717796960981305), (2056, 0.021224463745111333), (2057, 0.05145719733582164), (2058, 0.09705536003691022), (2059, 0.05128971901017222), (2060, 0.07279342535560474), (2061, 0.03469397655248017), (2062, 0.07020473140501729), (2063, 0.03815730459123463), (2064, 0.058720723388900886), (2065, 0.04222532122566635), (2066, 0.05209045811272299), (2067, 0.07871646033160135), (2068, 0.06943843041688143), (2069, 0.04874700654778566), (2070, 0.06460680487850456), (2071, 0.07215602731021875), (2072, 0.03818221079483705), (2073, 0.0720740382121644), (2074, 0.0637442919265823), (2075, 0.040999345238445103), (2076, 0.05255100107745489), (2077, 0.08974597730830104), (2078, 0.0513042278822435), (2079, 0.05508376976664682), (2080, 0.04052665081419076), (2081, 0.056859278622189355), (2082, 0.035709609082912784), (2083, 0.09373398603471068), (2084, 0.11566521989578629), (2085, 0.03177599320006615), (2086, 0.08169836253148423), (2087, 0.0587276545804754), (2088, 0.06142092876936001), (2089, 0.04591451866418926), (2090, 0.044795948752593115), (2091, 0.05544349726951321), (2092, 0.08036634887589608), (2093, 0.07709018676792864), (2094, 0.047684752659645654), (2095, 0.05396738016048179), (2096, 0.0975868358501278), (2097, 0.04946099022740598), (2098, 0.03803917266026416), (2099, 0.06685253858826602), (2100, 0.06913873377261999), (2101, 0.06508549454686224), (2102, 0.05967694820742908), (2103, 0.033928359095866265), (2104, 0.05197082625791204), (2105, 0.05980246615517093), (2106, 0.07431581605457575), (2107, 0.08159865076628867), (2108, 0.03897767816291968), (2109, 0.06163720115664175), (2110, 0.02906855261062034), (2111, 0.067211327378152), (2112, 0.03258030364991275), (2113, 0.049841380652887055), (2114, 0.0791664205504662), (2115, 0.056815023295387734), (2116, 0.015248561492270144), (2117, 0.09073557200383167), (2118, 0.047854841953147875), (2119, 0.058408615975676675), (2120, 0.06772029237866176), (2121, 0.05623831325458718), (2122, 0.06468334175700491), (2123, 0.04152111932700656), (2124, 0.04066360874185418), (2125, 0.0402950200742669), (2126, 0.044337153818359704), (2127, 0.06404163883350611), (2128, 0.06715003263354427), (2129, 0.04649829050607404), (2130, 0.06176361010099844), (2131, 0.04586036384941518), (2132, 0.06915841537005027), (2133, 0.035339027906418574), (2134, 0.05032516635557127), (2135, 0.02705688899306591), (2136, 0.04233418255684225), (2137, 0.039046816683822386), (2138, 0.11719756537144356), (2139, 0.07762561913247853), (2140, 0.07885801824615044), (2141, 0.0808880214044861), (2142, 0.07421838784324711), (2143, 0.06894941324744945), (2144, 0.04505284694052123), (2145, 0.04119801763491629), (2146, 0.08186396080354913), (2147, 0.041499679647006765), (2148, 0.05491849104839584), (2149, 0.04441892213566492), (2150, 0.049707642956237044), (2151, 0.07047251467780469), (2152, 0.07408429669868444), (2153, 0.06410940847220248), (2154, 0.10198778249856888), (2155, 0.061867144077481395), (2156, 0.07235174607085312), (2157, 0.04634764508565365), (2158, 0.08512989739371055), (2159, 0.05685614247108415), (2160, 0.0421085905197209), (2161, 0.06605432988726993), (2162, 0.06681625910122684), (2163, 0.07523030964277519), (2164, 0.06652552125809846), (2165, 0.11443656686029854), (2166, 0.02805924991646992), (2167, 0.03532150221993597), (2168, 0.04563206327858575), (2169, 0.04146985728553896), (2170, 0.05647834443341957), (2171, 0.04911971417169698), (2172, 0.05638714118619559), (2173, 0.06672346058803774), (2174, 0.03624015291466013), (2175, 0.08439919330470384), (2176, 0.04566688574182931), (2177, 0.10384158553218722), (2178, 0.03051761626815751), (2179, 0.06938988922618267), (2180, 0.04832030965173709), (2181, 0.03478473333520175), (2182, 0.006417396933994147), (2183, 0.04083827541723111), (2184, 0.046890228424258946), (2185, 0.057633298748485925), (2186, 0.08374038197301063), (2187, 0.08548389894300161), (2188, 0.05585673885802075), (2189, 0.05236074659277966), (2190, 0.04413910335207955), (2191, 0.05580019821895878), (2192, 0.03579492620694767), (2193, 0.12403485360481564), (2194, 0.16424284152448557), (2195, 0.06685044306935042), (2196, 0.04807522573640135), (2197, 0.05076861114414046), (2198, 0.06926461273474113), (2199, 0.0555712860609967), (2200, 0.10480043881282929), (2201, 0.10695566793358936), (2202, 0.04655403188057837), (2203, 0.0641850602800402), (2204, 0.04411975024914706), (2205, 0.03999589873654274), (2206, 0.02338087894449594), (2207, 0.06889293822837453), (2208, 0.04677280762369773), (2209, 0.04153482156848997), (2210, 0.04504645215281862), (2211, 0.06480791365622293), (2212, 0.034125227957677855), (2213, 0.05525581306846742), (2214, 0.11077582438140575), (2215, 0.049142101578858746), (2216, 0.04426072421777097), (2217, 0.0763721739639242), (2218, 0.1242499329026954), (2219, 0.11084135981923147), (2220, 0.1311667830031651), (2221, 0.032562086716400256), (2222, 0.1033318842220676), (2223, 0.03257493405384584), (2224, 0.07005226539369042), (2225, 0.07417916479782526), (2226, 0.04186598606357297), (2227, 0.05939294193897732), (2228, 0.05321803281559563), (2229, 0.05256189062671538), (2230, 0.04274427821200395), (2231, 0.06203657269137571), (2232, 0.08750446796871512), (2233, 0.05727579392218422), (2234, 0.07298183215181663), (2235, 0.0504107915940429), (2236, 0.05327438040298515), (2237, 0.0916937670015198), (2238, 0.03434002927807338), (2239, 0.04679041744564473), (2240, 0.05496307610349161), (2241, 0.07315840694962124), (2242, 0.04087248750559694), (2243, 0.07818876333341056), (2244, 0.07155379761134795), (2245, 0.0914742795483248), (2246, 0.04369669832275491), (2247, 0.11400307075879176), (2248, 0.11625267955643412), (2249, 0.04488364932469989), (2250, 0.05856223877444228), (2251, 0.04045988516526784), (2252, 0.06951767480158735), (2253, 0.04407362359118869), (2254, 0.06319352122122181), (2255, 0.038768962738878546), (2256, 0.0678354734111128), (2257, 0.05418889646981576), (2258, 0.04875311066349137), (2259, 0.08357321311269646), (2260, 0.03564275455207277), (2261, 0.0797078657037669), (2262, 0.04140325298129169), (2263, 0.045769061428217434), (2264, 0.06060074882048985), (2265, 0.0875382606632897), (2266, 0.05455194337682134), (2267, 0.037585231448086745), (2268, 0.056777037030110084), (2269, 0.05822795184406439), (2270, 0.057797493730541896), (2271, 0.046267917346571284), (2272, 0.050668765010698724), (2273, 0.09504952467803762), (2274, 0.04282418980899298), (2275, 0.0789814794552667), (2276, 0.11773451782947152), (2277, 0.09249926799424414), (2278, 0.046056659621378226), (2279, 0.07794011517079263), (2280, 0.12559155696734958), (2281, 0.05294619240568846), (2282, 0.09519306171923139), (2283, 0.103332156251525), (2284, 0.031703329347182854), (2285, 0.07281606348757437), (2286, 0.09764073017070433), (2287, 0.08812590467213854), (2288, 0.06811081194263649), (2289, 0.07384701947501972), (2290, 0.045679424331525914), (2291, 0.06695466228445535), (2292, 0.042765936916220285), (2293, 0.09484214819096862), (2294, 0.04435093717198781), (2295, 0.042429027758848555), (2296, 0.09379072913798908), (2297, 0.06526461386165522), (2298, 0.09751500364889819), (2299, 0.06770583623981635), (2300, 0.030012754391493052), (2301, 0.056343363523601496), (2302, 0.06552365255729152), (2303, 0.05680753943977669), (2304, 0.04676478001216958), (2305, 0.06716007250510056), (2306, 0.09149755463741695), (2307, 0.05923090433953859), (2308, 0.05811147320282729), (2309, 0.07993390567749747), (2310, 0.1388949761334841), (2311, 0.08225155754476962), (2312, 0.06785784889305888), (2313, 0.05641394982737666), (2314, 0.050230398351099145), (2315, 0.10877975626493401), (2316, 0.06233040520299517), (2317, 0.05601495022366591), (2318, 0.08941801325955398), (2319, 0.06943206364950436), (2320, 0.06347357727031065), (2321, 0.06046112408418203), (2322, 0.06497068879708134), (2323, 0.0909572423305913), (2324, 0.07114590455222067), (2325, 0.04652367986335881), (2326, 0.0596304979228996), (2327, 0.04014237089281681), (2328, 0.17612929905951696), (2329, 0.1344955331465315), (2330, 0.06825370081496239), (2331, 0.059728355799240525), (2332, 0.07401715036856976), (2333, 0.04156297837628467), (2334, 0.052425811884587975), (2335, 0.10259463714658418), (2336, 0.045475382318819264), (2337, 0.07179717032586705), (2338, 0.047611460442539895), (2339, 0.06002017626867178), (2340, 0.07142929346889577), (2341, 0.05299256972096638), (2342, 0.011306377259609231), (2343, 0.05188928379638305), (2344, 0.10317792599646353), (2345, 0.051136645658864215), (2346, 0.06231837236887349), (2347, 0.08332317417379329), (2348, 0.08357975975164471), (2349, 0.03807188694826551), (2350, 0.041180076150178116), (2351, 0.029161077151260074), (2352, 0.0544549402888615), (2353, 0.0583802872127969), (2354, 0.04077268029147117), (2355, 0.0461265059104104), (2356, 0.10451801861315535), (2357, 0.052464418136399016), (2358, 0.05720531407646515), (2359, 0.11337723781601552), (2360, 0.05671473790710238), (2361, 0.045545423163306446), (2362, 0.07215590293930944), (2363, 0.07661361613412117), (2364, 0.06785022596780177), (2365, 0.0681881813780405), (2366, 0.12330851918997726), (2367, 0.05912614899634493), (2368, 0.03098720748507885), (2369, 0.0396725746893295), (2370, 0.03694695979783563), (2371, 0.06332162273606744), (2372, 0.0731954425040974), (2373, 0.04321750779626852), (2374, 0.07099517779050238), (2375, 0.07988629175516246), (2376, 0.10083178489153526), (2377, 0.06604584608310726), (2378, 0.07544794925228182), (2379, 0.15339937975064227), (2380, 0.06871488767760318), (2381, 0.046231692838672435), (2382, 0.08071839351302981), (2383, 0.05493966374084318), (2384, 0.0714084713157204), (2385, 0.05327990181662327), (2386, 0.1424846638213577), (2387, 0.0648827822862522), (2388, 0.05135459017355919), (2389, 0.070177737950288), (2390, 0.12327918839661639), (2391, 0.07433555062672517), (2392, 0.09086265188718275), (2393, 0.10569296665791085), (2394, 0.05699488030374422), (2395, 0.06699227229914373), (2396, 0.04149605936684656), (2397, 0.05383512363931016), (2398, 0.05947399715753501), (2399, 0.07956952941906364), (2400, 0.06780833106856578), (2401, 0.05799076114449123), (2402, 0.06450577721486139), (2403, 0.0573598217733393), (2404, 0.08834707464778303), (2405, 0.07521149303204662), (2406, 0.07653982829418492), (2407, 0.056217534983288825), (2408, 0.05102004908764696), (2409, 0.04526691644588925), (2410, 0.06688759672520848), (2411, 0.08300266568710574), (2412, 0.07120991920317034), (2413, 0.0608867941028717), (2414, 0.05534542028803717), (2415, 0.05055191722418851), (2416, 0.07130282554161439), (2417, 0.03771961406324223), (2418, 0.1444866580892133), (2419, 0.04581882103720973), (2420, 0.04851544774855143), (2421, 0.044695428300592796), (2422, 0.060171350983042896), (2423, 0.07831553650204366), (2424, 0.07065502317371414), (2425, 0.12167336283007428), (2426, 0.09416449469792186), (2427, 0.03552386606870288), (2428, 0.05037349335722949), (2429, 0.040655431197695865), (2430, 0.047669045167804), (2431, 0.10391987241863736), (2432, 0.132490333579037), (2433, 0.08021554765712843), (2434, 0.10376903295601198), (2435, 0.060344656037032054), (2436, 0.0898560027031146), (2437, 0.05222481979073408), (2438, 0.04921389700505755), (2439, 0.07597161351262446), (2440, 0.05859466300910102), (2441, 0.05716432558608925), (2442, 0.05515724547158772), (2443, 0.06927736956368838), (2444, 0.09829136151904405), (2445, 0.05869535937767757), (2446, 0.053585291856817756), (2447, 0.046289029636639556), (2448, 0.05876205779157598), (2449, 0.07069819350121317), (2450, 0.023560239878150695), (2451, 0.04477617997449492), (2452, 0.05493720480478438), (2453, 0.08784332118452833), (2454, 0.061928293452208676), (2455, 0.08353473080172955), (2456, 0.0495665507889695), (2457, 0.07719981496256745), (2458, 0.09727934353727802), (2459, 0.0848095137934541), (2460, 0.04996768289810006), (2461, 0.05194404526209641), (2462, 0.05780415967295413), (2463, 0.10241380588590056), (2464, 0.05953299095380141), (2465, 0.09480277714100639), (2466, 0.034025908144163466), (2467, 0.06796587365213685), (2468, 0.06678718636598671), (2469, 0.06383248301827643), (2470, 0.08121655495833574), (2471, 0.08512405735966133), (2472, 0.06326383724973147), (2473, 0.05269346362569946), (2474, 0.06260599404861042), (2475, 0.07304085906472702), (2476, 0.027903300838529307), (2477, 0.06463833290678882), (2478, 0.08980880933889486), (2479, 0.07132184399388615), (2480, 0.05685239744018676), (2481, 0.10296191544055908), (2482, 0.03078724896011759), (2483, 0.10107093198461183), (2484, 0.10588316425603617), (2485, 0.06660538571583308), (2486, 0.052591989633865244), (2487, 0.08440268317154732), (2488, 0.04070239443837949), (2489, 0.05606294898231794), (2490, 0.0871856698081688), (2491, 0.05889498697927046), (2492, 0.20848631739338347), (2493, 0.12170490170279312), (2494, 0.04445964893661357), (2495, 0.08716512951410471), (2496, 0.06370006692430949), (2497, 0.06602611490601117), (2498, 0.06963458523238561), (2499, 0.05008684383164641), (2500, 0.09820778947808603), (2501, 0.06772517593909878), (2502, 0.09197621940685734), (2503, 0.09919817270317252), (2504, 0.07865176973588987), (2505, 0.07381733106945447), (2506, 0.08491821536919432), (2507, 0.17072526776625196), (2508, 0.04391494209989694), (2509, 0.042654098564811505), (2510, 0.021232125030744595), (2511, 0.058684742688901566), (2512, 0.09056681894993857), (2513, 0.06426304628720154), (2514, 0.08398663028978073), (2515, 0.04557106988598382), (2516, 0.1322837026646258), (2517, 0.04334741416448911), (2518, 0.07029003917831163), (2519, 0.07140440683311086), (2520, 0.0974689490758954), (2521, 0.08134030003655139), (2522, 0.09185906031506047), (2523, 0.03834593903190321), (2524, 0.05441730361012422), (2525, 0.07702372710484638), (2526, 0.05115914390728043), (2527, 0.03481736203179066), (2528, 0.1393178123133001), (2529, 0.08122783967296682), (2530, 0.123663094315762), (2531, 0.08088665210557605), (2532, 0.04286996796035791), (2533, 0.11465050652047333), (2534, 0.07114094439351365), (2535, 0.05321146305778868), (2536, 0.04908161395454106), (2537, 0.14753200256916188), (2538, 0.05944859246916983), (2539, 0.11811416941317272), (2540, 0.05804128440898418), (2541, 0.057591780895127107), (2542, 0.0640909081582649), (2543, 0.07501761417662418), (2544, 0.06195768536457355), (2545, 0.05722734430872613), (2546, 0.06091006131597168), (2547, 0.0710212998382231), (2548, 0.0407091458823898), (2549, 0.05934208708431471), (2550, 0.06251256519515268), (2551, 0.05081095161280736), (2552, 0.04312141668602557), (2553, 0.20841997976463988), (2554, 0.06864500178938086), (2555, 0.07156432192091057), (2556, 0.1928322507115731), (2557, 0.05709427511450568), (2558, 0.08960378907087281), (2559, 0.05305693347995602), (2560, 0.07363012242646479), (2561, 0.046687105587392745), (2562, 0.039616633528772524), (2563, 0.0791106811136974), (2564, 0.05592425443425781), (2565, 0.060705876486234024), (2566, 0.062320636137748124), (2567, 0.04581740563036161), (2568, 0.08659356395653621), (2569, 0.034721656977168315), (2570, 0.09631686661882544), (2571, 0.054187664788611506), (2572, 0.11299185351801996), (2573, 0.06169365087013074), (2574, 0.046455615057578864), (2575, 0.036183290903259474), (2576, 0.06594884528154463), (2577, 0.07221344282310227), (2578, 0.08652383060558316), (2579, 0.07614849883698246), (2580, 0.0401480814145639), (2581, 0.026042531549190878), (2582, 0.057322603315454), (2583, 0.07467914109900277), (2584, 0.039181210687627505), (2585, 0.037682671885957975), (2586, 0.08311213333241504), (2587, 0.054432986754354915), (2588, 0.02500792083496865), (2589, 0.06517607025008346), (2590, 0.06264027377360296), (2591, 0.11609644153884129), (2592, 0.06751396503797512), (2593, 0.04308580814613683), (2594, 0.07268649006395357), (2595, 0.06418300611359984), (2596, 0.05620924334343199), (2597, 0.06430921070400972), (2598, 0.03362742364724376), (2599, 0.06475815554364053), (2600, 0.09661668632215967), (2601, 0.10728034749771949), (2602, 0.03677781749981092), (2603, 0.05720247131548757), (2604, 0.20674521246613742), (2605, 0.02992305610962348), (2606, 0.03457159392361376), (2607, 0.08143272362457608), (2608, 0.09990247040365496), (2609, 0.061453867355298744), (2610, 0.05310721624522046), (2611, 0.09531590545778021), (2612, 0.056473281348945845), (2613, 0.06865040731044296), (2614, 0.0664752423760508), (2615, 0.07979990296676082), (2616, 0.06388672005291368), (2617, 0.05512044823974196), (2618, 0.06918762439253723), (2619, 0.0686098435744165), (2620, 0.090343171943674), (2621, 0.06638097812866711), (2622, 0.07506546319054287), (2623, 0.05399780008546355), (2624, 0.04039526100474171), (2625, 0.056656128423038625), (2626, 0.07834938640622723), (2627, 0.07170197059213242), (2628, 0.05223275976913551), (2629, 0.04269254247055298), (2630, 0.04994365594282629), (2631, 0.07429777152795305), (2632, 0.06386006156011706), (2633, 0.07723825071891847), (2634, 0.09157754150269098), (2635, 0.052171928375136845), (2636, 0.048168445572322444), (2637, 0.07981038590717782), (2638, 0.06857755914444633), (2639, 0.04965061391475491), (2640, 0.09620367293389313), (2641, 0.055650462178359936), (2642, 0.05234839860712179), (2643, 0.07422593700452502), (2644, 0.053123065165646535), (2645, 0.038590889072981055), (2646, 0.0416951727963511), (2647, 0.04539534398387653), (2648, 0.038514541154725204), (2649, 0.058788724483634), (2650, 0.04969902056857584), (2651, 0.03482777213400532), (2652, 0.09143347515257937), (2653, 0.03471677783713165), (2654, 0.07028989261906382), (2655, 0.059480347810246026), (2656, 0.06622461510667206), (2657, 0.06323905143741432), (2658, 0.06725120356408759), (2659, 0.04805887154867266), (2660, 0.11336283925228809), (2661, 0.047986780082035135), (2662, 0.046886608606676636), (2663, 0.05100260994821063), (2664, 0.05592079702251268), (2665, 0.03955835971906059), (2666, 0.05532649268691939), (2667, 0.06840826232486855), (2668, 0.07828102329456321), (2669, 0.06536199976998676), (2670, 0.06182902078406052), (2671, 0.04421110639181513), (2672, 0.0465518992443915), (2673, 0.06788180218716003), (2674, 0.04604152530520686), (2675, 0.0747929766928767), (2676, 0.0639194965311239), (2677, 0.06902571787582579), (2678, 0.06007199746626659), (2679, 0.05608433317428283), (2680, 0.060972580071158564), (2681, 0.044349241353290624), (2682, 0.05144678335794691), (2683, 0.051045971847353114), (2684, 0.06871288360626746), (2685, 0.0531437166248402), (2686, 0.08647123323196426), (2687, 0.052072071941105615), (2688, 0.09842448712397699), (2689, 0.07811718615481432), (2690, 0.04035439328243018), (2691, 0.06354731831099603), (2692, 0.046130968095034114), (2693, 0.06205728773063927), (2694, 0.06285083847361346), (2695, 0.0858953230350603), (2696, 0.04571305526572883), (2697, 0.20348726434961759), (2698, 0.047262096242209936), (2699, 0.049224683687895426), (2700, 0.049608776966935546), (2701, 0.03366077492155406), (2702, 0.05690646283320561), (2703, 0.06143370483757637), (2704, 0.022401835352290487), (2705, 0.04623180952924888), (2706, 0.05208170392616046), (2707, 0.06138428446781166), (2708, 0.051696001306966916), (2709, 0.013723805982525098), (2710, 0.07108928092860511), (2711, 0.055491342873370327), (2712, 0.03900885568661319), (2713, 0.059129276375924675), (2714, 0.05925727209961233), (2715, 0.06025725930562816), (2716, 0.03569075221433946), (2717, 0.042792691175257386), (2718, 0.09905749692632888), (2719, 0.04625631661660155), (2720, 0.06674659939534032), (2721, 0.06529074443894813), (2722, 0.05207520985092318), (2723, 0.03976538167165891), (2724, 0.06389870070829626), (2725, 0.05316402767063684), (2726, 0.0646003474057339), (2727, 0.05158169127871263), (2728, 0.09006734314555499), (2729, 0.045665457821926554), (2730, 0.05818156110008596), (2731, 0.04994985326836367), (2732, 0.128309674331309), (2733, 0.12947966125426022), (2734, 0.06572923392830722), (2735, 0.09449312472420181), (2736, 0.10251373750221758), (2737, 0.14245811034041836), (2738, 0.07522919100378266), (2739, 0.07188492656388192), (2740, 0.08105160221065888), (2741, 0.08655532561088485), (2742, 0.07053444729195574), (2743, 0.04747811771779935), (2744, 0.052174352399631876), (2745, 0.04396262889557948), (2746, 0.08167573086043409), (2747, 0.028464339627093892), (2748, 0.09522977891295328), (2749, 0.06472243974654102), (2750, 0.11988544630062072), (2751, 0.02928311317188319), (2752, 0.06346168014330736), (2753, 0.049377109216701555), (2754, 0.04310129978004425), (2755, 0.03901859676558836), (2756, 0.05740680252048516), (2757, 0.11092920398759319), (2758, 0.048885754762578476), (2759, 0.07261443676199979), (2760, 0.04462857508257201), (2761, 0.03657989880423893), (2762, 0.08288509306894865), (2763, 0.0925904645640905), (2764, 0.102254259862085), (2765, 0.04050860313678294), (2766, 0.07721996488540181), (2767, 0.042866712740604045), (2768, 0.05796768151038475), (2769, 0.07312528318342908), (2770, 0.05391812511236328), (2771, 0.0720513590357679), (2772, 0.07166008224159805), (2773, 0.0877128732142364), (2774, 0.060013009767923765), (2775, 0.06565216761388387), (2776, 0.03399770300155785), (2777, 0.07323408187476291), (2778, 0.15145390142660534), (2779, 0.10388140249840769), (2780, 0.06957449751475853), (2781, 0.07733302587435137), (2782, 0.04880164806466453), (2783, 0.029499011897254446), (2784, 0.054474267144912256), (2785, 0.04732540624895783), (2786, 0.05047621833904286), (2787, 0.08935012663009283), (2788, 0.12339998094434469), (2789, 0.036651632701915245), (2790, 0.07188462942045157), (2791, 0.031608482308935454), (2792, 0.09270991339085351), (2793, 0.06156330090811391), (2794, 0.04783423071187328), (2795, 0.04624385005096656), (2796, 0.03619042754113813), (2797, 0.05977302255807945), (2798, 0.049559277799465555), (2799, 0.06865627092854938), (2800, 0.05880028583753238), (2801, 0.09803645293609152), (2802, 0.04828828204584003), (2803, 0.11499837767936821), (2804, 0.04136847560090087), (2805, 0.12478643113624942), (2806, 0.06019471641035731), (2807, 0.09635226347335554), (2808, 0.05428052880369106), (2809, 0.08917030770227055), (2810, 0.027902499735724475), (2811, 0.08404150880266442), (2812, 0.054167384082615413), (2813, 0.0704829534258858), (2814, 0.05651381500591227), (2815, 0.06625968252064342), (2816, 0.0748043429579848), (2817, 0.048480429433221485), (2818, 0.06215870864862279), (2819, 0.07841050020457258), (2820, 0.05858933185207059), (2821, 0.035350144430010666), (2822, 0.10692832654400351), (2823, 0.0893936181387298), (2824, 0.08664945915927197), (2825, 0.05024199387897691), (2826, 0.03561876404404904), (2827, 0.072548383290931), (2828, 0.11513229422468399), (2829, 0.052176065711479785), (2830, 0.060830612625932305), (2831, 0.06663474561194926), (2832, 0.055692349054614246), (2833, 0.04560183805731918), (2834, 0.037711215235966315), (2835, 0.03708850617658531), (2836, 0.06494656982062724), (2837, 0.04548827752962552), (2838, 0.06948423857104284), (2839, 0.06667957194445885), (2840, 0.054850709534312724), (2841, 0.059664177700070944), (2842, 0.06341316787663372), (2843, 0.06110948401961412), (2844, 0.042277882340840324), (2845, 0.08797548671748137), (2846, 0.08127579003479458), (2847, 0.06766324882665921), (2848, 0.08840570431614277), (2849, 0.18744314583305405), (2850, 0.07670057845136566), (2851, 0.07643500575868845), (2852, 0.062131604061925395), (2853, 0.11062535709468455), (2854, 0.06587771750144772), (2855, 0.09327853597618845), (2856, 0.05296310308793425), (2857, 0.04337685806578467), (2858, 0.0546497932075186), (2859, 0.058644400018654265), (2860, 0.060130645625112916), (2861, 0.14647325963347813), (2862, 0.12616039948416757), (2863, 0.08906646380692995), (2864, 0.055432209756806364), (2865, 0.041254945276859474), (2866, 0.06510127045200728), (2867, 0.048836850224243736), (2868, 0.04092649393221316), (2869, 0.06602156055947336), (2870, 0.08434587386158096), (2871, 0.04985721610512532), (2872, 0.041813805046632874), (2873, 0.033127595523610436), (2874, 0.04767542341766884), (2875, 0.050455181489663874), (2876, 0.05429415107720466), (2877, 0.06110639369906842), (2878, 0.08542903965833099), (2879, 0.0658300534525335), (2880, 0.10119326512467552), (2881, 0.14226310788113772), (2882, 0.06633315227974633), (2883, 0.08399368081312619), (2884, 0.0725957941221699), (2885, 0.05519382701952734), (2886, 0.06865868169844762), (2887, 0.06290059661676285), (2888, 0.07848703722349439), (2889, 0.07352325292805087), (2890, 0.03630587047093841), (2891, 0.07324972039013478), (2892, 0.0705743967341923), (2893, 0.053814195087189085), (2894, 0.041001021292640466), (2895, 0.0457745695678309), (2896, 0.04353929113819216), (2897, 0.06560630774944391), (2898, 0.10958406425768338), (2899, 0.06008671206497841), (2900, 0.08807172457985109), (2901, 0.07998302780863331), (2902, 0.0821818876432886), (2903, 0.07054263143922572), (2904, 0.06881354494997799), (2905, 0.0643494994123645), (2906, 0.057794951454697575), (2907, 0.09039099126008561), (2908, 0.04657777480590551), (2909, 0.0733170832474554), (2910, 0.1536332247768489), (2911, 0.12499271080038676)]\n"
     ]
    }
   ],
   "source": [
    "# getting a list of similar movies\n",
    "\n",
    "similarity_score = list(enumerate(similarity[index_of_the_movie]))\n",
    "print(similarity_score)"
   ]
  },
  {
   "cell_type": "code",
   "execution_count": 87,
   "metadata": {
    "colab": {
     "base_uri": "https://localhost:8080/"
    },
    "id": "mMrxw-leQNtP",
    "outputId": "39a3002d-9c35-42a0-a78b-7d0a8d50376c"
   },
   "outputs": [
    {
     "data": {
      "text/plain": [
       "2912"
      ]
     },
     "execution_count": 87,
     "metadata": {},
     "output_type": "execute_result"
    }
   ],
   "source": [
    "len(similarity_score)"
   ]
  },
  {
   "cell_type": "code",
   "execution_count": 88,
   "metadata": {
    "colab": {
     "base_uri": "https://localhost:8080/"
    },
    "id": "SkXgFLePQkHL",
    "outputId": "54171e01-edf3-4cf9-fede-124c451db257"
   },
   "outputs": [
    {
     "name": "stdout",
     "output_type": "stream",
     "text": [
      "[(104, 1.0), (108, 0.3538679074429417), (601, 0.25812686128255624), (106, 0.25699336046236654), (1437, 0.24099333821518312), (231, 0.23202461347596598), (2492, 0.20848631739338347), (2553, 0.20841997976463988), (2604, 0.20674521246613742), (2697, 0.20348726434961759), (314, 0.20157591461899366), (2556, 0.1928322507115731), (2849, 0.18744314583305405), (1227, 0.18398697059048055), (870, 0.18241739580589234), (12, 0.18006037782357692), (1986, 0.17726892376384462), (340, 0.17673603322858), (2328, 0.17612929905951696), (2507, 0.17072526776625196), (1717, 0.1705252538057504), (1977, 0.16949860748632792), (142, 0.1688938973153744), (68, 0.1652935690851569), (2194, 0.16424284152448557), (757, 0.160885792207595), (185, 0.15740392462754446), (661, 0.15715441361006438), (810, 0.1570247836006175), (1445, 0.15654947803530161), (572, 0.15628668475792984), (872, 0.15480222667284038), (2043, 0.15402765629852322), (2910, 0.1536332247768489), (2379, 0.15339937975064227), (896, 0.15320324071162048), (939, 0.152307811917448), (917, 0.15203640213894973), (401, 0.15198972211853498), (2778, 0.15145390142660534), (2014, 0.1510193018902714), (1649, 0.1509351544587801), (121, 0.14951783074632902), (131, 0.14950885690579185), (1183, 0.149438915052911), (484, 0.14823001440489522), (2537, 0.14753200256916188), (2861, 0.14647325963347813), (118, 0.14497316476402772), (2418, 0.1444866580892133), (1980, 0.14412867069586005), (1243, 0.14395493198638779), (1606, 0.14318697100733985), (1776, 0.14291558838035537), (865, 0.1425553595606571), (2386, 0.1424846638213577), (2737, 0.14245811034041836), (1252, 0.14235784766169687), (2881, 0.14226310788113772), (188, 0.14002465918059367), (2528, 0.1393178123133001), (1460, 0.1391874813439065), (2001, 0.13918197007478134), (2310, 0.1388949761334841), (1957, 0.13838545239525724), (1837, 0.13780834711340773), (1580, 0.13581367231543764), (2329, 0.1344955331465315), (383, 0.13426303378199364), (882, 0.1338229608667756), (1178, 0.13318041191253174), (210, 0.1329109691534014), (2432, 0.132490333579037), (2516, 0.1322837026646258), (1899, 0.13224206030386595), (1870, 0.1320450828604772), (143, 0.13136051855816727), (2220, 0.1311667830031651), (136, 0.13054728520814474), (2733, 0.12947966125426022), (922, 0.12931065496744293), (1963, 0.12930357408114182), (1420, 0.12915088668290142), (66, 0.12893528064468393), (2732, 0.128309674331309), (712, 0.12812657111248082), (681, 0.12802088045362228), (1789, 0.12672469262605965), (1219, 0.12666731378618448), (728, 0.12665973677711928), (2862, 0.12616039948416757), (1083, 0.12584379279508626), (1022, 0.1257880617844065), (2280, 0.12559155696734958), (2911, 0.12499271080038676), (1665, 0.12498902979582717), (2805, 0.12478643113624942), (1447, 0.12451143820148138), (1752, 0.12438582234598757), (2218, 0.1242499329026954), (2193, 0.12403485360481564), (2530, 0.123663094315762), (2788, 0.12339998094434469), (2366, 0.12330851918997726), (2390, 0.12327918839661639), (1643, 0.12277317213303625), (1010, 0.12196077392880904), (1364, 0.12181698023397934), (1603, 0.12180042466110914), (2493, 0.12170490170279312), (2425, 0.12167336283007428), (1086, 0.12162943866460349), (676, 0.12069665290516841), (909, 0.11996702770976174), (1347, 0.11990417022076082), (2750, 0.11988544630062072), (1021, 0.11897191702690417), (1495, 0.11895260316248626), (2029, 0.11832760241376254), (1413, 0.11830650881062116), (2539, 0.11811416941317272), (1063, 0.11807499655818025), (450, 0.1177607071365741), (2276, 0.11773451782947152), (1861, 0.11739133746605981), (1493, 0.11721848941081071), (2138, 0.11719756537144356), (1579, 0.11695725642110376), (1059, 0.11685202018586707), (758, 0.11664086195813379), (2053, 0.11661368881786428), (2248, 0.11625267955643412), (1181, 0.11617460338679042), (1812, 0.11616429145870832), (2591, 0.11609644153884129), (972, 0.11594492823455516), (1999, 0.11594203066018066), (1799, 0.11568281022378012), (2084, 0.11566521989578629), (721, 0.11560640000533212), (202, 0.11554612968368122), (738, 0.11532325897424076), (1238, 0.11519508348695838), (2828, 0.11513229422468399), (2803, 0.11499837767936821), (2533, 0.11465050652047333), (1882, 0.11457942694934388), (1449, 0.11456473774080198), (2165, 0.11443656686029854), (690, 0.11424383979336244), (260, 0.11419690441635486), (1293, 0.11411129241719806), (2247, 0.11400307075879176), (908, 0.1138619937959926), (1838, 0.11364302576698079), (1359, 0.11338620187551171), (2359, 0.11337723781601552), (2660, 0.11336283925228809), (2572, 0.11299185351801996), (284, 0.11296585362156006), (1463, 0.11277306926833194), (1599, 0.11276477435163403), (381, 0.11267671518879419), (1287, 0.11262997852037601), (696, 0.11231163092672332), (1711, 0.1113184620477121), (2757, 0.11092920398759319), (2219, 0.11084135981923147), (2214, 0.11077582438140575), (374, 0.11071254123334692), (1030, 0.11068747451137356), (2853, 0.11062535709468455), (199, 0.11027535347567667), (1107, 0.11025231043910533), (1298, 0.11015514142287355), (705, 0.10992674903350416), (2898, 0.10958406425768338), (1988, 0.10955707857548826), (1971, 0.10950883146314594), (666, 0.10932509841550467), (1951, 0.10920476745281539), (1448, 0.10917464919525642), (573, 0.10899799994275694), (2315, 0.10877975626493401), (158, 0.10868632250282169), (59, 0.1084625766013481), (444, 0.10769307696209204), (907, 0.10729656356499978), (2601, 0.10728034749771949), (592, 0.10720515828126598), (2201, 0.10695566793358936), (2822, 0.10692832654400351), (139, 0.1067316481177904), (640, 0.10597029133944011), (2484, 0.10588316425603617), (941, 0.10577032096873365), (2393, 0.10569296665791085), (1501, 0.10541726164523602), (1623, 0.10539087523035318), (2200, 0.10480043881282929), (1115, 0.10476917010173942), (129, 0.10459842642357059), (2356, 0.10451801861315535), (467, 0.10445657073581505), (1194, 0.10440052994499208), (435, 0.10436939884557271), (1527, 0.10428803329236766), (747, 0.10426261567233694), (2431, 0.10391987241863736), (86, 0.10389735669566917), (2779, 0.10388140249840769), (2177, 0.10384158553218722), (2434, 0.10376903295601198), (1686, 0.10376333753915974), (555, 0.10355283044128763), (1902, 0.1034349147145991), (1669, 0.10342245125553862), (2283, 0.103332156251525), (2222, 0.1033318842220676), (2344, 0.10317792599646353), (446, 0.10316104097852617), (2481, 0.10296191544055908), (1515, 0.1029456165952744), (479, 0.1029391158569215), (668, 0.10282610034077218), (1546, 0.1027819301380248), (1128, 0.10275127423808354), (1318, 0.10274663333019927), (926, 0.10268743829629316), (1779, 0.1026412136880111), (1616, 0.1026270798017318), (2335, 0.10259463714658418), (2736, 0.10251373750221758), (421, 0.10247816807291521), (2463, 0.10241380588590056), (41, 0.10228801123612329), (2764, 0.102254259862085), (779, 0.10209168310808414), (2154, 0.10198778249856888), (1833, 0.10195978873886753), (835, 0.10184242755702164), (894, 0.10183826675540843), (820, 0.10162200253028897), (695, 0.10147808010756938), (1822, 0.10145755113611997), (1334, 0.10134475511527487), (2880, 0.10119326512467552), (220, 0.10113016045128786), (2483, 0.10107093198461183), (2376, 0.10083178489153526), (415, 0.10047182155185953), (1362, 0.1004077359677566), (1200, 0.10028433419629773), (986, 0.10008454086161167), (2608, 0.09990247040365496), (567, 0.0998552933452372), (458, 0.0993608290446805), (2503, 0.09919817270317252), (1157, 0.0991478732844615), (1455, 0.09912591866635097), (895, 0.09911660257456119), (46, 0.09911361809276273), (2718, 0.09905749692632888), (1262, 0.09902911025873729), (1577, 0.09864455730246902), (2688, 0.09842448712397699), (2444, 0.09829136151904405), (1398, 0.09828046824690166), (2500, 0.09820778947808603), (965, 0.09816502850563039), (2801, 0.09803645293609152), (582, 0.09802784430248218), (1375, 0.09784495151829604), (745, 0.09771673446266665), (1576, 0.09770186310904583), (2286, 0.09764073017070433), (2096, 0.0975868358501278), (2298, 0.09751500364889819), (1742, 0.09751421953831921), (2520, 0.0974689490758954), (2005, 0.0973593120896958), (2458, 0.09727934353727802), (1670, 0.09709083960029465), (2058, 0.09705536003691022), (352, 0.09704148634900678), (406, 0.09688891733074621), (2600, 0.09661668632215967), (1908, 0.09658051474498962), (1421, 0.09653461292060488), (1244, 0.09648112944319726), (2807, 0.09635226347335554), (2570, 0.09631686661882544), (2640, 0.09620367293389313), (14, 0.09609311558212917), (609, 0.09591980685650311), (769, 0.09586398060699455), (1498, 0.09577848091904567), (78, 0.09575545396023813), (1138, 0.09573805261993674), (1932, 0.0956471593426959), (1685, 0.09560637667703129), (1574, 0.095474467754453), (459, 0.09546499408639773), (1758, 0.09543005357287682), (1525, 0.09535132535977091), (1354, 0.09533226030640223), (2611, 0.09531590545778021), (1558, 0.09528596934270459), (2748, 0.09522977891295328), (2282, 0.09519306171923139), (2273, 0.09504952467803762), (1173, 0.09486960543850848), (424, 0.09485902255796672), (2293, 0.09484214819096862), (912, 0.09483729091368948), (2465, 0.09480277714100639), (1987, 0.09479715602489999), (1781, 0.09460557895942814), (1400, 0.09456440180220428), (1155, 0.09449810948140928), (2735, 0.09449312472420181), (1418, 0.09448355029270962), (964, 0.09443044966505343), (1481, 0.09433447728826497), (1507, 0.09427214339357219), (2426, 0.09416449469792186), (122, 0.09413571026600945), (767, 0.09401904994025045), (2296, 0.09379072913798908), (2083, 0.09373398603471068), (1966, 0.09359279130262073), (706, 0.09356223127230243), (657, 0.09350167195328885), (563, 0.09331948578693998), (1958, 0.09330962135986179), (2855, 0.09327853597618845), (1223, 0.0932198551897449), (1805, 0.09316467559461812), (1363, 0.09315278159359425), (1327, 0.09311879498707039), (770, 0.0931095525101595), (1, 0.09310512690346968), (1135, 0.09296474953642954), (580, 0.0928172266674887), (2792, 0.09270991339085351), (612, 0.0926125554929382), (2763, 0.0925904645640905), (2047, 0.0925693830105338), (172, 0.09255796130673731), (2277, 0.09249926799424414), (878, 0.09205961857201068), (2502, 0.09197621940685734), (2522, 0.09185906031506047), (660, 0.09183266351975555), (1258, 0.09179017447575123), (2237, 0.0916937670015198), (2037, 0.09169309027863723), (1849, 0.09166828396383692), (2039, 0.09161878522467173), (2634, 0.09157754150269098), (1871, 0.09155832264653482), (938, 0.09151641319059224), (2306, 0.09149755463741695), (2245, 0.0914742795483248), (1490, 0.09147216287599272), (2652, 0.09143347515257937), (961, 0.09142794690529576), (1189, 0.09131078371994775), (561, 0.0912963701990164), (1297, 0.0912832933211844), (831, 0.09112382927906193), (1433, 0.0910914508079026), (944, 0.09108313230875013), (1044, 0.09107303494239208), (1225, 0.09104215460556753), (339, 0.09103101242200427), (65, 0.09102942523795156), (773, 0.09099109860773384), (2323, 0.0909572423305913), (471, 0.09092318823551003), (1295, 0.09088100407370305), (2392, 0.09086265188718275), (386, 0.09080130398886734), (645, 0.09077452826768051), (2117, 0.09073557200383167), (1131, 0.09060470948256), (2044, 0.0905938828491743), (110, 0.09057703190550108), (475, 0.09057445565938507), (2512, 0.09056681894993857), (1621, 0.09048665412134002), (566, 0.09047787444249249), (2907, 0.09039099126008561), (1162, 0.09037817928481569), (2620, 0.090343171943674), (119, 0.09026827794490976), (999, 0.09023782405875455), (2728, 0.09006734314555499), (1426, 0.09005420033860467), (182, 0.08992603701254932), (2436, 0.0898560027031146), (2478, 0.08980880933889486), (2077, 0.08974597730830104), (17, 0.0897061615047003), (132, 0.08966019866824752), (654, 0.08960428616318182), (2558, 0.08960378907087281), (576, 0.08944771724988415), (2318, 0.08941801325955398), (2823, 0.0893936181387298), (899, 0.08935804120597964), (2787, 0.08935012663009283), (2809, 0.08917030770227055), (2022, 0.0891553731373135), (2863, 0.08906646380692995), (1575, 0.089056425679262), (1266, 0.08886062702375003), (1602, 0.08882676756478457), (942, 0.08877608835147754), (1088, 0.08872891525129198), (1119, 0.08869122070660343), (1406, 0.08864491352314473), (1140, 0.08853995641281902), (1058, 0.08843638044618987), (2848, 0.08840570431614277), (2404, 0.08834707464778303), (1836, 0.08832419002659408), (2287, 0.08812590467213854), (2900, 0.08807172457985109), (2845, 0.08797548671748137), (350, 0.0879733118684807), (2453, 0.08784332118452833), (1202, 0.08778506183908354), (1708, 0.08775515738887935), (5, 0.08771936830960747), (2773, 0.0877128732142364), (1203, 0.08770523126027265), (1613, 0.08753889284461781), (2265, 0.0875382606632897), (2232, 0.08750446796871512), (1401, 0.08745655907940329), (659, 0.08740834488161071), (1564, 0.08733777689251265), (491, 0.08728636907930654), (1478, 0.08728558909340932), (2490, 0.0871856698081688), (2495, 0.08716512951410471), (232, 0.0871126575050151), (1554, 0.0870852354588651), (1087, 0.08682457367394959), (1473, 0.08668183031393875), (1385, 0.08666656111092658), (2824, 0.08664945915927197), (735, 0.08662636623596234), (2568, 0.08659356395653621), (2741, 0.08655532561088485), (1557, 0.08652959627392984), (2578, 0.08652383060558316), (2686, 0.08647123323196426), (474, 0.08642028427618177), (103, 0.0863698802753894), (778, 0.08626998495833986), (1594, 0.08621651627393986), (720, 0.0861084329023839), (1047, 0.08609357197512424), (565, 0.08606269214839735), (713, 0.08603821742935618), (407, 0.08602221351537574), (1038, 0.08591015795780983), (1840, 0.08590193542218592), (2695, 0.0858953230350603), (457, 0.08589452707937283), (1537, 0.08570683940551829), (671, 0.08566967621368603), (2187, 0.08548389894300161), (913, 0.0854395679572369), (2878, 0.08542903965833099), (599, 0.08535063082701747), (829, 0.08531691952644054), (1392, 0.0852626398192811), (253, 0.08522900056142367), (763, 0.08520461740898483), (1502, 0.08518445781914119), (1129, 0.08517755398433978), (2158, 0.08512989739371055), (2471, 0.08512405735966133), (1622, 0.08511384073754358), (900, 0.08504018610016172), (1496, 0.08500151552303328), (2506, 0.08491821536919432), (750, 0.08489465521719064), (1319, 0.08481088317149822), (2459, 0.0848095137934541), (1933, 0.08462696942583914), (228, 0.08461458168612404), (847, 0.08460334923186666), (1978, 0.08460066131520379), (420, 0.08456972770793021), (2487, 0.08440268317154732), (2175, 0.08439919330470384), (2870, 0.08434587386158096), (236, 0.08431154003547522), (439, 0.08428656213045078), (348, 0.0842664205633074), (157, 0.08421356112448981), (114, 0.08404244581103207), (2811, 0.08404150880266442), (2883, 0.08399368081312619), (2514, 0.08398663028978073), (316, 0.08395844454651002), (481, 0.08394499772954325), (753, 0.08392309002441489), (217, 0.08385691551380245), (1245, 0.08377738889894767), (981, 0.08377404840774788), (2186, 0.08374038197301063), (1191, 0.08366333444051155), (1835, 0.08363917920574614), (39, 0.08362134956527373), (709, 0.08361840459732554), (1409, 0.0835901917496616), (2348, 0.08357975975164471), (2259, 0.08357321311269646), (2455, 0.08353473080172955), (15, 0.08350937650398225), (805, 0.0834973078163477), (1055, 0.08344127655553085), (380, 0.08343868903944127), (268, 0.08336594637858118), (960, 0.08335583390655851), (802, 0.08332657436424021), (2347, 0.08332317417379329), (1126, 0.08324481575684492), (819, 0.08317817713989334), (2586, 0.08311213333241504), (20, 0.083092663936143), (2411, 0.08300266568710574), (1678, 0.08289099243493298), (2762, 0.08288509306894865), (552, 0.08283085668958676), (1588, 0.08278504342450121), (966, 0.08274061128572395), (1065, 0.08273895386571281), (1292, 0.08271344666908367), (1900, 0.08263381840278357), (1632, 0.08257832104259707), (144, 0.0825206991102902), (1937, 0.08249542691062468), (1778, 0.08240018052418284), (579, 0.08235059680957274), (551, 0.08230964712870746), (1254, 0.08225758364893623), (2311, 0.08225155754476962), (1954, 0.08224906318534002), (1950, 0.0822042672872718), (1796, 0.08219167106139537), (2902, 0.0821818876432886), (867, 0.0821256534248941), (1061, 0.0820454549626672), (553, 0.08197472897355247), (58, 0.08192877278566348), (1439, 0.08192520595282585), (535, 0.08190167334022284), (2146, 0.08186396080354913), (733, 0.08185047755969126), (595, 0.08175884788088894), (1304, 0.08173425405635433), (2086, 0.08169836253148423), (1300, 0.08169556853398519), (2746, 0.08167573086043409), (2107, 0.08159865076628867), (992, 0.08155859924454878), (1506, 0.08151374340865626), (426, 0.08146069995447724), (2607, 0.08143272362457608), (1880, 0.08137548135176606), (2521, 0.08134030003655139), (1206, 0.08133859548883149), (725, 0.08131337723349667), (1667, 0.08130621603685881), (1975, 0.08127975566155496), (2846, 0.08127579003479458), (351, 0.081255046195975), (1705, 0.0812434784128531), (2529, 0.08122783967296682), (2470, 0.08121655495833574), (804, 0.08117803955827571), (1172, 0.08116555575027282), (608, 0.08112604566837434), (2740, 0.08105160221065888), (1612, 0.08098747235207732), (979, 0.08094818553807395), (675, 0.08093235799485106), (1012, 0.08090710595198738), (2141, 0.0808880214044861), (2531, 0.08088665210557605), (2382, 0.08071839351302981), (974, 0.08063721371723762), (973, 0.08059717346219747), (79, 0.08055234963283375), (1512, 0.08053415036267048), (1982, 0.08041922256748017), (2092, 0.08036634887589608), (234, 0.08034990338281843), (540, 0.08034347134789321), (544, 0.08032727527575526), (851, 0.08032642344360139), (975, 0.0803190875904996), (1973, 0.08031496375023468), (1939, 0.08030544068104029), (453, 0.08027620950244499), (656, 0.08026392646834596), (1868, 0.08023257281649729), (2433, 0.08021554765712843), (1696, 0.08019595627192261), (1633, 0.08015236882016609), (737, 0.08004954667062676), (564, 0.08004883283252957), (2901, 0.07998302780863331), (1943, 0.07993703271449776), (2309, 0.07993390567749747), (2375, 0.07988629175516246), (1474, 0.07983896471115905), (1144, 0.07982365308563638), (1062, 0.07981871470721968), (2637, 0.07981038590717782), (423, 0.07980436562592172), (2615, 0.07979990296676082), (1209, 0.07977731245962497), (1118, 0.0797446262536006), (2261, 0.0797078657037669), (2399, 0.07956952941906364), (1559, 0.0795540365864086), (927, 0.07951395577772967), (741, 0.07937331922134444), (1211, 0.07936311458221956), (1168, 0.0792778668448243), (2114, 0.0791664205504662), (620, 0.07911301185967862), (2563, 0.0791106811136974), (126, 0.07910115811388942), (1514, 0.07909728176009323), (1013, 0.07904252165695673), (2275, 0.0789814794552667), (64, 0.07896317528291105), (322, 0.07888971669291081), (2140, 0.07885801824615044), (1161, 0.07877818013658759), (433, 0.07876753300197899), (1995, 0.07876355624213047), (2067, 0.07871646033160135), (2504, 0.07865176973588987), (145, 0.07864788555510106), (1993, 0.07858541372952514), (247, 0.07853808331591161), (2888, 0.07848703722349439), (1560, 0.07847173620391583), (2819, 0.07841050020457258), (2626, 0.07834938640622723), (1257, 0.07833874472955532), (2423, 0.07831553650204366), (2668, 0.07828102329456321), (432, 0.07826179150717101), (682, 0.07822300884634506), (2243, 0.07818876333341056), (399, 0.07812902075601995), (2689, 0.07811718615481432), (875, 0.07806484702817741), (1049, 0.07803396868022268), (1903, 0.07801004606424831), (1629, 0.07800771845850736), (1658, 0.07800005884330526), (1369, 0.07797318196607675), (73, 0.07794329281962253), (2279, 0.07794011517079263), (848, 0.07793776935446357), (760, 0.07792361595145508), (1425, 0.07786113488896762), (485, 0.07775331155543566), (1600, 0.07771086043414521), (2139, 0.07762561913247853), (1343, 0.07757687322172335), (1436, 0.0773583828002011), (2781, 0.07733302587435137), (1487, 0.07727181545757428), (700, 0.0772703792954209), (1872, 0.0772613813391422), (2633, 0.07723825071891847), (2766, 0.07721996488540181), (2457, 0.07719981496256745), (191, 0.07712943386503858), (2093, 0.07709018676792864), (77, 0.07708493044757533), (2525, 0.07702372710484638), (281, 0.07692816957979326), (1456, 0.07691909127999753), (1288, 0.07675458923939116), (2850, 0.07670057845136566), (809, 0.07661773087147225), (2363, 0.07661361613412117), (2406, 0.07653982829418492), (1565, 0.07653460571933852), (1306, 0.07645790562867241), (1452, 0.0764527950008257), (2851, 0.07643500575868845), (82, 0.07643053778453059), (2217, 0.0763721739639242), (124, 0.07634819068772701), (537, 0.07623737439923696), (754, 0.07619771256873992), (2579, 0.07614849883698246), (1768, 0.07613033749926297), (602, 0.0760661508451687), (1485, 0.07603626164785351), (2439, 0.07597161351262446), (1193, 0.07594193428622796), (1702, 0.07590232195121667), (324, 0.07588241332429631), (49, 0.07584056423273089), (790, 0.07580772434122766), (694, 0.07568474284365924), (1676, 0.07555929318705784), (1308, 0.0754591731255771), (1023, 0.07544922797212972), (2378, 0.07544794925228182), (788, 0.07543764713686842), (959, 0.07530440173128922), (1050, 0.07528128801051875), (1150, 0.07524646842403326), (2163, 0.07523030964277519), (2738, 0.07522919100378266), (1635, 0.07522755165870058), (1408, 0.07521578512704763), (2405, 0.07521149303204662), (463, 0.07519226886181535), (1792, 0.07516388124298834), (1595, 0.07509697169462409), (2622, 0.07506546319054287), (2543, 0.07501761417662418), (903, 0.07501142456291605), (1492, 0.0750093054916493), (70, 0.07498909040310374), (1467, 0.07497561019932822), (1533, 0.07490336214972895), (1738, 0.07485410015336268), (1852, 0.07484866645433483), (732, 0.07482666365523703), (945, 0.07481301606501141), (2816, 0.0748043429579848), (2675, 0.0747929766928767), (613, 0.07472401463000017), (1551, 0.07471866577321225), (2583, 0.07467914109900277), (196, 0.0745940092502079), (1056, 0.07454972258277179), (1918, 0.0745315365717043), (549, 0.07442179320111102), (42, 0.07441281246836967), (2391, 0.07433555062672517), (1302, 0.07432301585581452), (2106, 0.07431581605457575), (887, 0.07431322424505947), (2631, 0.07429777152795305), (2643, 0.07422593700452502), (2142, 0.07421838784324711), (1154, 0.07421520847080083), (2225, 0.07417916479782526), (1014, 0.07415650089221569), (1630, 0.074150164831348), (1830, 0.07412629253622635), (2152, 0.07408429669868444), (2332, 0.07401715036856976), (1503, 0.07398620140649477), (1046, 0.07393676998608352), (117, 0.07393086889017769), (1701, 0.0739220282403586), (943, 0.07387264862957757), (2289, 0.07384701947501972), (985, 0.07382016935704996), (2505, 0.07381733106945447), (693, 0.07376106669457963), (1653, 0.07373915072540817), (1783, 0.07373258628628906), (655, 0.07370540470561307), (1031, 0.07370471496521645), (1962, 0.07368609631205679), (1777, 0.07367812783802236), (2560, 0.07363012242646479), (1366, 0.07361214786816443), (1775, 0.07358347081816355), (2889, 0.07352325292805087), (1911, 0.07352299151113577), (1241, 0.07350287255974103), (1224, 0.07349408036986406), (663, 0.07348429851635584), (2909, 0.0733170832474554), (1039, 0.07328839139027377), (2891, 0.07324972039013478), (2777, 0.07323408187476291), (147, 0.07322734727908045), (1166, 0.07322558006302994), (501, 0.07320601103250363), (2372, 0.0731954425040974), (2241, 0.07315840694962124), (2769, 0.07312528318342908), (1230, 0.07308426300208198), (2475, 0.07304085906472702), (830, 0.0730141680089955), (2234, 0.07298183215181663), (1566, 0.072966925663462), (30, 0.07295977283888758), (1152, 0.07294984971178063), (315, 0.07289987835549329), (375, 0.07287276673666238), (2285, 0.07281606348757437), (2060, 0.07279342535560474), (776, 0.07276499165431431), (2594, 0.07268649006395357), (98, 0.0726630211261563), (593, 0.07265069473564117), (569, 0.07263189306622557), (2759, 0.07261443676199979), (2884, 0.0725957941221699), (2827, 0.072548383290931), (1979, 0.07249304375813795), (1423, 0.07242264090347195), (1093, 0.0723970999415977), (722, 0.07239675959609798), (299, 0.07237554419878023), (2156, 0.07235174607085312), (1043, 0.07226786474992995), (2577, 0.07221344282310227), (486, 0.07221251966210973), (1810, 0.07220981221046219), (2071, 0.07215602731021875), (2362, 0.07215590293930944), (1264, 0.0720974485679487), (2073, 0.0720740382121644), (2771, 0.0720513590357679), (334, 0.07199300031529164), (1524, 0.07197960536304948), (828, 0.07196125280327073), (1267, 0.0719448184726792), (211, 0.07194202984573794), (780, 0.07191023637548215), (2739, 0.07188492656388192), (2790, 0.07188462942045157), (1095, 0.07185877578835571), (490, 0.07184778543545767), (856, 0.07181520597246872), (2337, 0.07179717032586705), (635, 0.07177873673690754), (257, 0.07175440901615923), (2627, 0.07170197059213242), (2772, 0.07166008224159805), (1175, 0.07165734039817954), (2555, 0.07156432192091057), (2244, 0.07155379761134795), (1924, 0.07152318936486014), (1326, 0.07147906205976784), (731, 0.07145810630858727), (2340, 0.07142929346889577), (2384, 0.0714084713157204), (2519, 0.07140440683311086), (796, 0.0713969051441447), (2479, 0.07132184399388615), (2416, 0.07130282554161439), (2000, 0.07123342511252075), (2412, 0.07120991920317034), (1598, 0.07115802655317437), (2324, 0.07114590455222067), (2534, 0.07114094439351365), (2710, 0.07108928092860511), (2547, 0.0710212998382231), (2374, 0.07099517779050238), (1821, 0.07099334982170272), (1945, 0.07095940233348766), (1158, 0.07094348213603827), (1323, 0.07088535245584746), (1652, 0.0708851666338122), (515, 0.07087243128427151), (621, 0.0708722257059199), (1536, 0.07081260552384723), (1494, 0.07080999049169631), (404, 0.0707834910631235), (724, 0.07078257694700875), (1169, 0.07072386787421228), (2449, 0.07069819350121317), (1756, 0.07069348821672773), (2424, 0.07065502317371414), (1312, 0.07065393962799507), (1522, 0.07064220884670441), (1048, 0.07062759001286713), (2892, 0.0705743967341923), (2903, 0.07054263143922572), (2742, 0.07053444729195574), (166, 0.070490671797839), (2813, 0.0704829534258858), (2151, 0.07047251467780469), (1820, 0.07043397028509246), (1601, 0.07038490381130044), (146, 0.07033641525734119), (2518, 0.07029003917831163), (2654, 0.07028989261906382), (239, 0.07024656790061054), (1505, 0.07021864442121861), (2062, 0.07020473140501729), (2389, 0.070177737950288), (400, 0.07013441380142228), (868, 0.07009750925038201), (261, 0.0700854273494788), (2224, 0.07005226539369042), (1277, 0.07002064259140861), (1828, 0.06998116992552221), (1484, 0.06991792040560221), (237, 0.06991675779314913), (1956, 0.06991011323773305), (915, 0.06989834075385885), (710, 0.06989082389202819), (1446, 0.069872538144299), (1767, 0.06983838205138726), (107, 0.06982264356152908), (625, 0.06980974582952557), (1699, 0.06975901568448278), (827, 0.06973687114554719), (1355, 0.06970622590384652), (1688, 0.06970013327094686), (1541, 0.06969405006401105), (2016, 0.06967584648761621), (90, 0.0696743469387226), (1736, 0.06966106637011801), (26, 0.06965253731707027), (2498, 0.06963458523238561), (530, 0.06963400151011079), (2780, 0.06957449751475853), (755, 0.06955394696394411), (1928, 0.0695320723076669), (2252, 0.06951767480158735), (2023, 0.06949769079448055), (2838, 0.06948423857104284), (1706, 0.06947572555643533), (8, 0.06945744571640157), (2068, 0.06943843041688143), (2319, 0.06943206364950436), (1771, 0.06942268334186837), (1931, 0.06941396712601723), (962, 0.06941393582170693), (1341, 0.06939411433417982), (871, 0.06939283325122193), (2179, 0.06938988922618267), (168, 0.06930820767006196), (1351, 0.0692804379643776), (1195, 0.0692787635102868), (2443, 0.06927736956368838), (1935, 0.06927131460554918), (2198, 0.06926461273474113), (1964, 0.0692478259970982), (980, 0.06921587429586376), (1851, 0.0691929458788703), (2618, 0.06918762439253723), (1589, 0.06916670142993242), (812, 0.06916487006668204), (2132, 0.06915841537005027), (1923, 0.06914332216517509), (2100, 0.06913873377261999), (997, 0.06910583387288176), (1249, 0.06907724674679594), (1639, 0.06902637090185545), (2677, 0.06902571787582579), (1593, 0.0690206511460431), (1553, 0.06898681050024576), (2143, 0.06894941324744945), (302, 0.06890048879867805), (2207, 0.06889293822837453), (2904, 0.06881354494997799), (869, 0.06879714584343444), (1075, 0.06874905352384901), (1153, 0.06874203688439724), (2380, 0.06871488767760318), (2684, 0.06871288360626746), (1853, 0.06869923029348168), (1265, 0.06868362420332397), (1325, 0.06866476333131048), (2886, 0.06865868169844762), (2799, 0.06865627092854938), (2613, 0.06865040731044296), (2554, 0.06864500178938086), (1283, 0.06862647567952718), (2619, 0.0686098435744165), (357, 0.06859606730981266), (1827, 0.06859593398302079), (2638, 0.06857755914444633), (1357, 0.06855899497070884), (1255, 0.06855784877538931), (1248, 0.06855281099046696), (229, 0.0684915506886476), (1260, 0.06847346767753579), (841, 0.0684509873996202), (1510, 0.06841496267763664), (2667, 0.06840826232486855), (1952, 0.06839446657814056), (84, 0.06838197695342349), (130, 0.06837356141427435), (1315, 0.06832793484403958), (1468, 0.06829383673139348), (2052, 0.06827957464674601), (1901, 0.06826873128690215), (2330, 0.06825370081496239), (774, 0.068251369514093), (589, 0.06822556686915787), (2003, 0.06822242151941091), (1465, 0.06821441883531663), (2365, 0.0681881813780405), (396, 0.06811552519134462), (2288, 0.06811081194263649), (583, 0.06809632884509051), (1817, 0.06807883892991397), (911, 0.06807713374842225), (193, 0.06803633525164403), (638, 0.06800875166952466), (1190, 0.06798575428805774), (761, 0.06797784872928464), (2467, 0.06796587365213685), (842, 0.06795263435500569), (2019, 0.06794970712921872), (800, 0.06793686730959851), (1689, 0.06792221574386563), (2673, 0.06788180218716003), (910, 0.06787619808090149), (2312, 0.06785784889305888), (2364, 0.06785022596780177), (2256, 0.0678354734111128), (2400, 0.06780833106856578), (1108, 0.06780606659324748), (1970, 0.06778878169248848), (1390, 0.0677376331596796), (2501, 0.06772517593909878), (857, 0.0677236841919173), (2120, 0.06772029237866176), (2299, 0.06770583623981635), (1106, 0.0676758592099276), (2847, 0.06766324882665921), (584, 0.06765919955415553), (1570, 0.06754864795655192), (373, 0.06752519845958896), (2592, 0.06751396503797512), (683, 0.06746758063044205), (176, 0.06744593373737588), (674, 0.06738363934828406), (1184, 0.06736986278609117), (877, 0.06735723650377903), (818, 0.06735555831898955), (273, 0.06733969839608119), (698, 0.06732366543471531), (1079, 0.06728198724748426), (2658, 0.06725120356408759), (2050, 0.0672431874023456), (288, 0.06723752619721723), (2111, 0.067211327378152), (1146, 0.0672025336754522), (2305, 0.06716007250510056), (2128, 0.06715003263354427), (1684, 0.06710476648293925), (634, 0.06710082725392652), (772, 0.06708958328580071), (417, 0.06707968871773831), (416, 0.0670641806896849), (691, 0.06703576916537365), (2395, 0.06699227229914373), (1337, 0.06699050810223511), (1427, 0.06697993311015732), (1563, 0.0669589552067697), (1659, 0.06695508283688723), (2291, 0.06695466228445535), (1415, 0.06694606043014281), (892, 0.06692162276647956), (2410, 0.06688759672520848), (44, 0.06685964481911484), (825, 0.06685466466669696), (2099, 0.06685253858826602), (2195, 0.06685044306935042), (2162, 0.06681625910122684), (2468, 0.06678718636598671), (2720, 0.06674659939534032), (2173, 0.06672346058803774), (1042, 0.06670281135486271), (533, 0.06669196985875683), (548, 0.06668599903221781), (2839, 0.06667957194445885), (161, 0.06666647901959051), (1698, 0.06664908394704117), (2831, 0.06663474561194926), (2485, 0.06660538571583308), (617, 0.06660344393765566), (1884, 0.06655521241165066), (2164, 0.06652552125809846), (1405, 0.06652059134534653), (1942, 0.06651668130549847), (1342, 0.06650779900494708), (1640, 0.06650555709621973), (437, 0.0664947949778357), (37, 0.06648613824973258), (2614, 0.0664752423760508), (395, 0.06644525559746106), (715, 0.06643901357812551), (487, 0.06639535782517295), (2621, 0.06638097812866711), (2882, 0.06633315227974633), (1104, 0.06633225873267683), (832, 0.06633099078749431), (1718, 0.06628803413188866), (2815, 0.06625968252064342), (1641, 0.06625163065220102), (2656, 0.06622461510667206), (1020, 0.06619240848677438), (1863, 0.06608769385793754), (844, 0.06607158299863905), (768, 0.06607106571489822), (282, 0.06605757703356846), (2161, 0.06605432988726993), (619, 0.0660526585045327), (1761, 0.066052343988409), (2377, 0.06604584608310726), (2497, 0.06602611490601117), (893, 0.06602451100690486), (2869, 0.06602156055947336), (1336, 0.06600723317546804), (1561, 0.06596064549921164), (2576, 0.06594884528154463), (156, 0.06592380842835673), (2854, 0.06587771750144772), (1530, 0.06585582439555215), (2879, 0.0658300534525335), (313, 0.06578749132017679), (1681, 0.0657607532862627), (1271, 0.06575247654306106), (2734, 0.06572923392830722), (1431, 0.06572662306562656), (153, 0.0656857418099083), (740, 0.0656603574948612), (2775, 0.06565216761388387), (2897, 0.06560630774944391), (783, 0.06557059779411195), (650, 0.06554131317529245), (1132, 0.06552957912514196), (2302, 0.06552365255729152), (534, 0.06551183918350931), (460, 0.06543305106488553), (2669, 0.06536199976998676), (1070, 0.06533600710157124), (1444, 0.06531082941680688), (2721, 0.06529074443894813), (1186, 0.0652897055056621), (1894, 0.06527394414434057), (369, 0.06527160359971933), (2297, 0.06526461386165522), (852, 0.06523385852503495), (2589, 0.06517607025008346), (414, 0.06516570099946724), (1239, 0.06514947741124863), (2866, 0.06510127045200728), (319, 0.06508743359943232), (2101, 0.06508549454686224), (1919, 0.06507806685596028), (1127, 0.06507605393471097), (1432, 0.06504989702244035), (1714, 0.0650343082069154), (1609, 0.06503232963575062), (2322, 0.06497068879708134), (2836, 0.06494656982062724), (1464, 0.06494624909562025), (2387, 0.0648827822862522), (1220, 0.06487690508886902), (301, 0.06486197976996977), (605, 0.06484019558425574), (1078, 0.06483865563204493), (2211, 0.06480791365622293), (427, 0.06479582747536809), (2007, 0.0647795823879746), (165, 0.06477233252409563), (249, 0.06476797761923611), (141, 0.06476388073913787), (2599, 0.06475815554364053), (665, 0.06472777817375275), (2749, 0.06472243974654102), (52, 0.06472107780544505), (1998, 0.06470642120336034), (1053, 0.06469592560692246), (120, 0.0646954281980624), (1865, 0.06469204216175095), (2122, 0.06468334175700491), (1766, 0.06464965370511831), (598, 0.06464734210618509), (2477, 0.06463833290678882), (1739, 0.06463106979660839), (2070, 0.06460680487850456), (2726, 0.0646003474057339), (1268, 0.06458301529219855), (1912, 0.06457596818562425), (1674, 0.06450793273431711), (2402, 0.06450577721486139), (1694, 0.0644905625407466), (1003, 0.06445951440736454), (67, 0.06442863786440771), (1854, 0.06442025013238749), (1668, 0.06441492545311646), (1513, 0.06437360227002129), (2905, 0.0643494994123645), (2597, 0.06430921070400972), (1712, 0.06429317453048727), (2513, 0.06426304628720154), (2203, 0.0641850602800402), (2595, 0.06418300611359984), (1926, 0.06417651893128287), (1984, 0.06417459085696815), (2153, 0.06410940847220248), (2542, 0.0640909081582649), (687, 0.06407111157450589), (2127, 0.06404163883350611), (62, 0.06401611815774372), (1644, 0.06401089206058326), (69, 0.06396195723988891), (171, 0.06395956953424028), (2676, 0.0639194965311239), (2724, 0.06389870070829626), (2616, 0.06388672005291368), (1829, 0.0638760019456045), (2632, 0.06386006156011706), (937, 0.06383978720540008), (678, 0.06383863973035472), (2469, 0.06383248301827643), (2074, 0.0637442919265823), (461, 0.0637341369864939), (1856, 0.06372816804490893), (1084, 0.06371656649168625), (2496, 0.06370006692430949), (1322, 0.06356372461924024), (2691, 0.06354731831099603), (1025, 0.06352675141020327), (970, 0.06349823140955348), (2320, 0.06347357727031065), (2752, 0.06346168014330736), (2842, 0.06341316787663372), (483, 0.06339553471846397), (1289, 0.06337636800843827), (1395, 0.06336939574049293), (1091, 0.0633647313564211), (711, 0.06333034776271222), (998, 0.06332747073170285), (1596, 0.06332600952052445), (2371, 0.06332162273606744), (1212, 0.06329942846784727), (293, 0.06326827528618496), (2472, 0.06326383724973147), (627, 0.06324259623919), (2657, 0.06323905143741432), (1310, 0.06321973377728689), (1737, 0.06321870963153453), (1396, 0.06321296412201362), (2254, 0.06319352122122181), (1117, 0.06317791400657406), (1773, 0.06316811659926656), (1815, 0.06315230923236326), (1547, 0.06310928637130062), (1662, 0.06306196713838057), (1874, 0.06303220057162269), (1794, 0.06297076976268212), (194, 0.0629637629573381), (864, 0.06292704426166568), (723, 0.06292681066697485), (2887, 0.06290059661676285), (1428, 0.06285956802244694), (1027, 0.06285871688712914), (2694, 0.06285083847361346), (1818, 0.06284597638996084), (1435, 0.06282084467282127), (585, 0.06281674027173412), (631, 0.06279350347261058), (840, 0.06276557098016053), (183, 0.06276218224634991), (1521, 0.06276009599764157), (1532, 0.06275796731733624), (1893, 0.06274634967339064), (472, 0.06274220492290132), (345, 0.06273250801712356), (1832, 0.06273148661897525), (1080, 0.06269912050605365), (1981, 0.06264845966054497), (2590, 0.06264027377360296), (1250, 0.06263513430892823), (2474, 0.06260599404861042), (904, 0.0625656626289106), (212, 0.06256486766017201), (920, 0.06253587267516743), (2550, 0.06251256519515268), (821, 0.06250228607766975), (652, 0.06246390844439645), (74, 0.06238412761982236), (449, 0.062371681603630026), (2316, 0.06233040520299517), (2566, 0.062320636137748124), (2346, 0.06231837236887349), (1976, 0.062302420500388325), (734, 0.06220211392988001), (1864, 0.062191357098671414), (2818, 0.06215870864862279), (874, 0.06214644338840965), (1683, 0.062142480448316384), (2852, 0.062131604061925395), (307, 0.06210385599762756), (2693, 0.06205728773063927), (639, 0.06205536333014565), (673, 0.06204968507449109), (476, 0.06204590613968358), (607, 0.06204309458445185), (2231, 0.06203657269137571), (636, 0.061990567999941654), (1839, 0.061961100546618714), (2544, 0.06195768536457355), (2454, 0.061928293452208676), (2155, 0.061867144077481395), (1228, 0.06184978012816583), (2670, 0.06182902078406052), (1729, 0.06181899953856228), (876, 0.06181169380022525), (1378, 0.061794460254870016), (2130, 0.06176361010099844), (1730, 0.06175241276463159), (1125, 0.061715950037077465), (2573, 0.06169365087013074), (1068, 0.06168041241178823), (1850, 0.06165908397916392), (3, 0.06164337806042359), (2109, 0.06163720115664175), (791, 0.06163537245021944), (1092, 0.06162654856090212), (2793, 0.06156330090811391), (1148, 0.061516274844606235), (883, 0.06148755478141024), (644, 0.06148267842841722), (824, 0.06145573461473688), (2609, 0.061453867355298744), (2703, 0.06143370483757637), (2088, 0.06142092876936001), (1858, 0.061409996806407685), (2707, 0.06138428446781166), (1066, 0.06132839601757656), (1759, 0.06125972339145107), (799, 0.06124578012249437), (1316, 0.06122666432417476), (1019, 0.06118975233990301), (897, 0.06117800635395466), (2843, 0.06110948401961412), (2877, 0.06110639369906842), (1586, 0.0610887502424619), (1381, 0.06108300078107767), (355, 0.061022515909295486), (977, 0.06102089599510953), (1024, 0.06099080894432957), (2680, 0.060972580071158564), (370, 0.06096471910200375), (2546, 0.06091006131597168), (2413, 0.0608867941028717), (756, 0.06085587847768171), (2830, 0.060830612625932305), (1728, 0.060792498017466876), (1719, 0.060782017374188424), (949, 0.06077995311683258), (811, 0.06072740347270343), (2565, 0.060705876486234024), (1094, 0.06068862853232564), (382, 0.060668189978746574), (1033, 0.06061960552345015), (2264, 0.06060074882048985), (195, 0.060562967307775974), (1760, 0.06050736928192766), (2321, 0.06046112408418203), (957, 0.0604430641099878), (739, 0.06041947613691674), (782, 0.06041356774972395), (1671, 0.06036643849930173), (347, 0.06036491124131219), (2435, 0.060344656037032054), (1715, 0.06033083707218605), (586, 0.0602752407356659), (2715, 0.06025725930562816), (1389, 0.06025628305667964), (1725, 0.0602475069096854), (858, 0.06023355196626362), (1345, 0.06021936302657692), (849, 0.06021014617848758), (1370, 0.06020962678647222), (689, 0.06019597633884363), (2806, 0.06019471641035731), (1133, 0.06018933462160364), (1045, 0.0601791995096093), (2422, 0.060171350983042896), (2860, 0.060130645625112916), (1661, 0.06012286227900726), (1488, 0.06011007092077197), (2899, 0.06008671206497841), (2678, 0.06007199746626659), (2339, 0.06002017626867178), (2774, 0.060013009767923765), (1879, 0.05997760453898944), (1750, 0.059942393597735795), (2105, 0.05980246615517093), (2797, 0.05977302255807945), (1105, 0.059767395407027524), (2331, 0.059728355799240525), (45, 0.05972623887249183), (216, 0.05971030612008438), (1371, 0.059684819082106544), (2102, 0.05967694820742908), (1279, 0.05966992212911173), (2841, 0.059664177700070944), (10, 0.05966049975517512), (2326, 0.0596304979228996), (765, 0.05962266120967297), (1489, 0.059611148141182436), (1040, 0.05954344749121244), (2464, 0.05953299095380141), (1587, 0.059491468861317495), (2655, 0.059480347810246026), (2398, 0.05947399715753501), (1749, 0.059453774927634456), (2538, 0.05944859246916983), (18, 0.05942908978744638), (658, 0.0594177313438477), (1763, 0.05939309616437285), (2227, 0.05939294193897732), (2549, 0.05934208708431471), (888, 0.05931936751551473), (1807, 0.05929936001396302), (1916, 0.05929061637041494), (1205, 0.059271354220708235), (2714, 0.05925727209961233), (2307, 0.05923090433953859), (499, 0.059230629322682915), (89, 0.05922773527328995), (1755, 0.05922739366827115), (1180, 0.05921973380866443), (839, 0.059175756142486435), (1940, 0.059152718633815396), (2042, 0.059148603254093365), (2713, 0.059129276375924675), (2367, 0.05912614899634493), (1936, 0.05910846929292633), (88, 0.05909753096371462), (1889, 0.0590821953594307), (1754, 0.05907140796362183), (1876, 0.05903996683892178), (557, 0.05901061998087748), (1353, 0.05897209775059764), (952, 0.058962400015259625), (445, 0.0589342209158364), (1746, 0.058921514867194366), (244, 0.058905676284422455), (2491, 0.05889498697927046), (2041, 0.05888912542721023), (2800, 0.05880028583753238), (190, 0.0587987421436661), (405, 0.058796259687512745), (2649, 0.058788724483634), (1235, 0.0587623305709369), (2448, 0.05876205779157598), (2034, 0.05875484362927494), (1311, 0.05874356256898473), (2087, 0.0587276545804754), (2064, 0.058720723388900886), (2445, 0.05869535937767757), (1480, 0.058689374164469246), (2511, 0.058684742688901566), (1320, 0.05867536912886578), (1451, 0.058666738451680245), (358, 0.05866181739222812), (1261, 0.0586595628490146), (27, 0.05865450142865722), (2859, 0.058644400018654265), (366, 0.05864320652151969), (111, 0.05862279853543589), (662, 0.05861486893704619), (225, 0.05860387757295689), (2440, 0.05859466300910102), (2820, 0.05858933185207059), (2250, 0.05856223877444228), (823, 0.058474387509907105), (327, 0.05846992941490189), (2119, 0.058408615975676675), (2353, 0.0583802872127969), (1855, 0.05835858568516295), (1634, 0.05830367198257384), (341, 0.05828023812623359), (1111, 0.058277221062126947), (2269, 0.05822795184406439), (336, 0.05822149606077967), (1380, 0.058199714854521696), (50, 0.05819574048445525), (1273, 0.05818921495029226), (2730, 0.05818156110008596), (362, 0.05817500926035523), (1276, 0.05816746841519437), (434, 0.05814613931173196), (1913, 0.05813835653033484), (1458, 0.058122872528511546), (2308, 0.05811147320282729), (1806, 0.058086637077803864), (803, 0.058077373602331006), (929, 0.05804939336204826), (1204, 0.05804280073351543), (2540, 0.05804128440898418), (801, 0.0580347242851538), (1028, 0.05800200497855547), (2401, 0.05799076114449123), (2768, 0.05796768151038475), (1285, 0.057955060019713844), (539, 0.05795044685313923), (1116, 0.05794799906754524), (1430, 0.057939561769715535), (798, 0.057850841757887454), (1528, 0.05784947966740997), (1682, 0.05784779206096025), (988, 0.05781841129371542), (2462, 0.05780415967295413), (2270, 0.057797493730541896), (2906, 0.057794951454697575), (163, 0.057778230494137134), (1303, 0.05777726637136622), (2011, 0.05776003639376151), (410, 0.057730780047959195), (1793, 0.057728134549140456), (356, 0.057718902393057325), (489, 0.05767259238942785), (527, 0.05765385900241843), (2185, 0.057633298748485925), (2541, 0.057591780895127107), (518, 0.057513978223244486), (1704, 0.05747280505282242), (2756, 0.05740680252048516), (677, 0.05738445970586626), (1841, 0.05736495812530714), (2403, 0.0573598217733393), (1124, 0.057336890932581555), (2582, 0.057322603315454), (1645, 0.057302885716610394), (933, 0.05728233921597427), (2233, 0.05727579392218422), (1333, 0.05725655170967912), (1469, 0.05725359741425462), (402, 0.057249447356709546), (1414, 0.05723040826504304), (2545, 0.05722734430872613), (630, 0.057223555716278254), (1026, 0.05721579043680079), (879, 0.05720584462261315), (2358, 0.05720531407646515), (2603, 0.05720247131548757), (1592, 0.057185588717505995), (2441, 0.05716432558608925), (498, 0.057147935409024735), (990, 0.057123648033658075), (2557, 0.05709427511450568), (1192, 0.05705229465346206), (749, 0.057038916948083315), (1281, 0.05702941971725024), (1930, 0.05701429100689864), (2394, 0.05699488030374422), (901, 0.05699274663118087), (560, 0.05696976060344876), (2702, 0.05690646283320561), (1134, 0.0569032575924533), (1904, 0.056880151209574716), (1859, 0.056877228493784016), (2, 0.056866484506674954), (2081, 0.056859278622189355), (2159, 0.05685614247108415), (2480, 0.05685239744018676), (702, 0.056848845674247056), (591, 0.05684682324385733), (1656, 0.056839064406100676), (1004, 0.05682262324431747), (2115, 0.056815023295387734), (743, 0.05680978461684664), (2303, 0.05680753943977669), (1002, 0.056795004753549753), (506, 0.0567936234886892), (1651, 0.056791282444495036), (2268, 0.056777037030110084), (186, 0.056740951853786914), (1619, 0.056716106063617974), (2360, 0.05671473790710238), (135, 0.05668593113676007), (2625, 0.056656128423038625), (105, 0.05665555285285638), (1471, 0.05662539707140801), (1607, 0.05654399938667222), (1764, 0.056543186489372746), (456, 0.05651492700814725), (2814, 0.05651381500591227), (325, 0.056486821641660814), (2170, 0.05647834443341957), (2612, 0.056473281348945845), (1953, 0.05644180381855521), (1614, 0.056428241451381825), (454, 0.05642693513327815), (2313, 0.05641394982737666), (2172, 0.05638714118619559), (692, 0.05637820469244436), (2301, 0.056343363523601496), (80, 0.05633911053820095), (2017, 0.056330602353812834), (575, 0.05631041501271531), (648, 0.05629414569448122), (1006, 0.056293886805568544), (1198, 0.05627218422888414), (1809, 0.05625048003415714), (1860, 0.056245273480475436), (2121, 0.05623831325458718), (2407, 0.056217534983288825), (2596, 0.05620924334343199), (1121, 0.056169746677905544), (1636, 0.056161252950081765), (1540, 0.05615925420376979), (2679, 0.05608433317428283), (509, 0.05608210683763029), (2489, 0.05606294898231794), (1284, 0.056044196001021784), (2317, 0.05601495022366591), (2032, 0.05595256244412647), (2564, 0.05592425443425781), (1275, 0.055922955088027526), (2664, 0.05592079702251268), (392, 0.05586804575209342), (2188, 0.05585673885802075), (2049, 0.05582381641189502), (1785, 0.0558208746213771), (2191, 0.05580019821895878), (1280, 0.05579700179139329), (1123, 0.05577178661867245), (1834, 0.05574858972025517), (1188, 0.05571924607027709), (102, 0.05570792901635514), (1352, 0.055706857689476606), (2832, 0.055692349054614246), (1120, 0.05567635828762092), (1690, 0.05567067841311563), (2641, 0.055650462178359936), (860, 0.05560273793346485), (1034, 0.05557264305376685), (2199, 0.0555712860609967), (781, 0.05555806207167868), (138, 0.0555387944890042), (1795, 0.05552286659122547), (1539, 0.05551165678672395), (2711, 0.055491342873370327), (611, 0.055489102619489625), (1844, 0.055455862056889765), (2091, 0.05544349726951321), (2864, 0.055432209756806364), (703, 0.05542573639889721), (1604, 0.0554097244332322), (493, 0.05536530149210604), (1571, 0.055356946906376936), (863, 0.05535603787568157), (99, 0.05534861016484345), (2414, 0.05534542028803717), (2666, 0.05532649268691939), (1895, 0.0552958246552874), (2213, 0.05525581306846742), (1000, 0.055249660239181), (92, 0.0552409506311525), (1798, 0.05523518938644074), (921, 0.055214194944540926), (1008, 0.05519453609659654), (2885, 0.05519382701952734), (2442, 0.05515724547158772), (1237, 0.05512641831622186), (2617, 0.05512044823974196), (906, 0.05509735763361575), (1338, 0.05508777091339616), (2079, 0.05508376976664682), (1925, 0.055078752816241826), (1974, 0.05505807904934251), (1584, 0.05505591356871585), (1247, 0.05503646868301784), (1500, 0.055025729575986906), (730, 0.05501719266920322), (22, 0.05498578820476184), (2240, 0.05496307610349161), (151, 0.05495250401311935), (2383, 0.05493966374084318), (2452, 0.05493720480478438), (411, 0.05492250312799699), (2148, 0.05491849104839584), (1724, 0.05491387124485808), (2840, 0.054850709534312724), (1299, 0.05480685945221059), (862, 0.05479339542206222), (2010, 0.05479052530959569), (31, 0.054781029346471326), (303, 0.05477383719649418), (1549, 0.05475263510359304), (2036, 0.05471713166300428), (953, 0.05469222899337285), (1382, 0.05467756428253616), (2858, 0.0546497932075186), (1617, 0.05460901092053727), (1972, 0.05460551804239355), (2266, 0.05455194337682134), (1365, 0.05452765237641659), (1585, 0.05451488207018917), (2784, 0.054474267144912256), (881, 0.05447400880409305), (637, 0.05446181354131393), (2352, 0.0544549402888615), (137, 0.054442002943721576), (2587, 0.054432986754354915), (2524, 0.05441730361012422), (1368, 0.05436055854700117), (1005, 0.054307422473857184), (2876, 0.05429415107720466), (2808, 0.05428052880369106), (1472, 0.054262835129395254), (359, 0.0542447267293424), (1631, 0.0542130974487963), (2257, 0.05418889646981576), (2571, 0.054187664788611506), (1210, 0.05417108182797258), (2812, 0.054167384082615413), (1130, 0.05415741093522352), (1372, 0.05413129205911421), (149, 0.054117073531226294), (1947, 0.05410613904173308), (306, 0.05410603985112764), (588, 0.05406222818037483), (624, 0.054047224636591985), (1914, 0.05404255356209795), (1346, 0.05401637849743455), (2623, 0.05399780008546355), (1218, 0.05398980872462126), (1992, 0.053980403476352246), (2095, 0.05396738016048179), (523, 0.053958390077302604), (1340, 0.053948820422787744), (1367, 0.05393908457616993), (1886, 0.053920757576520754), (2018, 0.053920133863301814), (133, 0.05391970197526132), (2770, 0.05391812511236328), (1374, 0.05390405210282598), (670, 0.05389865767741622), (936, 0.05389796873362223), (278, 0.053881724664236706), (1270, 0.0538736161694681), (1187, 0.0538656242771265), (1377, 0.05385430089382559), (1358, 0.05384615226854531), (2397, 0.05383512363931016), (1393, 0.05382767459858709), (2893, 0.053814195087189085), (215, 0.053811644989257924), (1663, 0.053780624561828194), (430, 0.05373069154877917), (1550, 0.05368204468662335), (263, 0.053679003723287606), (1597, 0.053660630995295014), (1082, 0.05365349890199776), (1897, 0.053641428819987166), (1294, 0.0536060472845777), (991, 0.05359369325305356), (2446, 0.053585291856817756), (1811, 0.05358114366612412), (623, 0.053541396129854084), (1535, 0.05353999190907641), (1582, 0.053537057782846544), (1803, 0.0535221755427711), (837, 0.05346588855819448), (1349, 0.05342484158544662), (1081, 0.05341242694269902), (507, 0.053393956328132534), (1862, 0.05339130477901145), (1801, 0.053370472816880954), (1922, 0.053369573624532034), (496, 0.05334658205506214), (109, 0.053325875723180344), (2385, 0.05327990181662327), (2236, 0.05327438040298515), (72, 0.0532742828521646), (600, 0.05327184064148686), (197, 0.053253498300143434), (173, 0.05323498031281246), (861, 0.05322689130186476), (2228, 0.05321803281559563), (2535, 0.05321146305778868), (1073, 0.053204237193244866), (622, 0.05317531151282671), (2725, 0.05316402767063684), (2685, 0.0531437166248402), (2644, 0.053123065165646535), (2610, 0.05310721624522046), (1259, 0.05306260997904053), (2559, 0.05305693347995602), (697, 0.053012494407973954), (541, 0.05300983326236498), (1508, 0.053004977664300006), (2341, 0.05299256972096638), (13, 0.052983664598590434), (2856, 0.05296310308793425), (2281, 0.05294619240568846), (1517, 0.05293923700968995), (1434, 0.05284342928937026), (477, 0.052836549593300024), (1745, 0.05277151986014301), (513, 0.05272822498892282), (2473, 0.05269346362569946), (1015, 0.05262979828068752), (96, 0.05261944038210805), (2486, 0.052591989633865244), (2229, 0.05256189062671538), (1695, 0.052561703607535246), (2076, 0.05255100107745489), (1453, 0.05252163489003012), (2357, 0.052464418136399016), (2334, 0.052425811884587975), (1009, 0.05240319596699809), (473, 0.05238463360893185), (2189, 0.05236074659277966), (1562, 0.05235418475244118), (2642, 0.05234839860712179), (978, 0.05234530062728215), (35, 0.05233630165365751), (297, 0.05231895169072276), (1800, 0.052318572627940124), (1479, 0.052264213130741095), (775, 0.0522641774552136), (2628, 0.05223275976913551), (127, 0.05223043765187596), (2437, 0.05222481979073408), (349, 0.05221406991007158), (1628, 0.052211434485895006), (2829, 0.052176065711479785), (2744, 0.052174352399631876), (2635, 0.052171928375136845), (1278, 0.05215743385038631), (441, 0.0521501637112702), (1990, 0.052140084254260484), (159, 0.05213513346528022), (55, 0.052131673561018596), (1404, 0.05209458371351216), (2066, 0.05209045811272299), (2706, 0.05208170392616046), (331, 0.05207872285253283), (2722, 0.05207520985092318), (2687, 0.052072071941105615), (546, 0.05198457659959329), (1637, 0.05197836663942282), (2104, 0.05197082625791204), (643, 0.05194450629228195), (2461, 0.05194404526209641), (1110, 0.05193968962138926), (1531, 0.05189495965446321), (2343, 0.05188928379638305), (1929, 0.051886457416440136), (647, 0.051864627502803275), (762, 0.05185965676925962), (503, 0.051834588751960294), (238, 0.05177361652184271), (947, 0.05177011163184958), (594, 0.05176613345564598), (714, 0.05176235356869005), (2055, 0.051717796960981305), (2708, 0.051696001306966916), (353, 0.05168425872996009), (1196, 0.05166641082329154), (482, 0.05164340761684361), (1666, 0.05162821953622544), (1017, 0.05160077524461027), (2727, 0.05158169127871263), (169, 0.05157220703935391), (550, 0.05155301900654897), (843, 0.051542890947363196), (1350, 0.05153265798148854), (332, 0.05148908254000024), (497, 0.05148585535782744), (208, 0.051477986205156194), (259, 0.05147396992054708), (83, 0.051468518033937455), (2057, 0.05145719733582164), (462, 0.05144841369865061), (2682, 0.05144678335794691), (1067, 0.05143334644542502), (578, 0.05141862421936812), (505, 0.051416371740374625), (898, 0.05141375725070579), (1470, 0.05140978921764669), (1831, 0.051402114741777756), (413, 0.05139825295438313), (1797, 0.05135687071813265), (2388, 0.05135459017355919), (1741, 0.0513435940982973), (1955, 0.05130856097707736), (2078, 0.0513042278822435), (816, 0.051294854098559384), (2059, 0.05128971901017222), (276, 0.05120371920077058), (2526, 0.05115914390728043), (91, 0.05114992964096729), (2345, 0.051136645658864215), (1251, 0.05112531922274424), (155, 0.05110935954028343), (1909, 0.05109604149261056), (1938, 0.05109350855531859), (2683, 0.051045971847353114), (2408, 0.05102004908764696), (2663, 0.05100260994821063), (235, 0.050999462594118146), (152, 0.050951782389718085), (1915, 0.05094953856128583), (364, 0.05091646093750891), (708, 0.05091241229377381), (154, 0.05089050540471563), (2551, 0.05081095161280736), (258, 0.05080418672041045), (1892, 0.050794832526800344), (520, 0.05078821026129695), (1846, 0.05077197058508668), (2197, 0.05076861114414046), (1376, 0.05070048306472971), (54, 0.050684482592359706), (2272, 0.050668765010698724), (771, 0.05065782570740199), (880, 0.050647283535276144), (492, 0.05060475857723075), (1568, 0.050594571156833856), (2415, 0.05055191722418851), (570, 0.0505378608028257), (470, 0.05050092220762431), (1497, 0.05048768056643293), (1896, 0.05047632206800379), (2786, 0.05047621833904286), (1139, 0.050472943923629505), (2875, 0.050455181489663874), (442, 0.050454762966348085), (412, 0.050435485799713776), (2235, 0.0504107915940429), (277, 0.050379596971333554), (2428, 0.05037349335722949), (2134, 0.05032516635557127), (1804, 0.050317402998225964), (1591, 0.05029648459602013), (517, 0.050295700049945206), (53, 0.05027929059613883), (718, 0.050273321634591424), (1411, 0.05026453775072054), (1519, 0.05025474211629467), (2825, 0.05024199387897691), (2314, 0.050230398351099145), (1098, 0.05018249599313722), (1732, 0.050138040965825435), (2499, 0.05008684383164641), (1097, 0.05007489036115487), (1159, 0.050055885604873715), (113, 0.05003950852633815), (1786, 0.050030946292672296), (1762, 0.049994856099477514), (2460, 0.04996768289810006), (2731, 0.04994985326836367), (2024, 0.04994617934838426), (2630, 0.04994365594282629), (469, 0.0499249896226862), (547, 0.04989539751991155), (1403, 0.04987505907082092), (1102, 0.04987165142080986), (2871, 0.04985721610512532), (2113, 0.049841380652887055), (1137, 0.0498154542217501), (1819, 0.049810274575797446), (1556, 0.04980408729524694), (1114, 0.04977927640782159), (1217, 0.04975248600975713), (596, 0.04975129686671416), (51, 0.04973260280292384), (1611, 0.0497262343900034), (398, 0.049713337469255735), (2150, 0.049707642956237044), (2650, 0.04969902056857584), (1687, 0.04969203213282872), (1723, 0.0496723540204584), (2639, 0.04965061391475491), (1348, 0.04962258875067293), (269, 0.04961436184081844), (2700, 0.049608776966935546), (794, 0.04958508605514387), (187, 0.04958214828707651), (2456, 0.0495665507889695), (2798, 0.049559277799465555), (568, 0.04949700669904174), (1170, 0.049486845841919175), (1887, 0.049486064911431725), (36, 0.04948604688361242), (75, 0.04948488164247744), (2097, 0.04946099022740598), (954, 0.04939951028107063), (1007, 0.04938488965955377), (2753, 0.049377109216701555), (1499, 0.04935052720624849), (87, 0.04932820164495546), (2699, 0.049224683687895426), (140, 0.04921416705657116), (2438, 0.04921389700505755), (1462, 0.04919677350799036), (826, 0.049142264857669773), (2215, 0.049142101578858746), (1646, 0.049141645801652374), (464, 0.049120473211906296), (2045, 0.04912031308989076), (2171, 0.04911971417169698), (2536, 0.04908161395454106), (845, 0.04903537369085223), (890, 0.04894976013354281), (1842, 0.048917677198512616), (1655, 0.048917483843236687), (1523, 0.048915943820790904), (766, 0.04891301999788046), (2758, 0.048885754762578476), (955, 0.048867432624758206), (2867, 0.048836850224243736), (1542, 0.048812706586393), (2782, 0.04880164806466453), (160, 0.048785492620193556), (408, 0.04876950933761391), (2258, 0.04875311066349137), (2069, 0.04874700654778566), (2021, 0.04871428082149268), (1440, 0.048646515735180876), (1167, 0.04862172975632073), (632, 0.04860534402475832), (2031, 0.04859459668321513), (850, 0.04858975119061693), (290, 0.04856853047970161), (989, 0.048544551436959384), (2420, 0.04851544774855143), (699, 0.04850195172850749), (1339, 0.048496105423092614), (2817, 0.048480429433221485), (279, 0.04847338021749942), (1207, 0.048456164079214235), (1548, 0.048421889930868), (33, 0.04841683412805187), (1946, 0.04837307290686246), (1845, 0.0483583997432507), (494, 0.04833849598048389), (1313, 0.04832383974052535), (2180, 0.04832030965173709), (128, 0.048312474720456966), (43, 0.048304396345102724), (1394, 0.04829810981933665), (532, 0.04829436974228415), (2802, 0.04828828204584003), (1475, 0.04828761724846859), (367, 0.048250565557472695), (806, 0.04822687615019037), (2636, 0.048168445572322444), (280, 0.0480974941399204), (335, 0.04808435800792186), (2196, 0.04807522573640135), (1069, 0.04806915654479846), (2659, 0.04805887154867266), (1590, 0.048054304026458064), (1141, 0.048032077822213234), (752, 0.048012521797683776), (443, 0.048012372063267306), (2661, 0.047986780082035135), (1534, 0.04793017395519624), (1618, 0.047912777603101066), (1529, 0.04786453951625616), (1784, 0.04785941747573415), (2118, 0.047854841953147875), (2794, 0.04783423071187328), (996, 0.04781483929460654), (1780, 0.047771132290922017), (813, 0.047762688214124605), (1450, 0.04776211060809667), (932, 0.04771964645981933), (1898, 0.04771563834264276), (2026, 0.04770709317922431), (2094, 0.047684752659645654), (2874, 0.04767542341766884), (2430, 0.047669045167804), (1282, 0.04766804820801858), (1733, 0.04766658979988205), (2338, 0.047611460442539895), (1402, 0.047603093636850946), (112, 0.04759367414309154), (287, 0.04754760563158219), (1222, 0.04752441090204908), (982, 0.047500806749260306), (221, 0.04748963182062122), (2743, 0.04747811771779935), (727, 0.04745758707306219), (508, 0.04744798890229828), (1552, 0.047410146432974316), (1272, 0.04738482305648716), (47, 0.047380621614005386), (1232, 0.04736170969563994), (1112, 0.04734328248949325), (1457, 0.04734097358165637), (2785, 0.04732540624895783), (180, 0.04730367685112793), (1727, 0.04727569575414492), (1948, 0.047273779627557744), (1996, 0.04726660313001289), (672, 0.04726339287221443), (2698, 0.047262096242209936), (1373, 0.04722389194534829), (983, 0.0472219835045648), (206, 0.04721149109125171), (222, 0.04718390601414847), (1890, 0.04717890419019017), (1569, 0.04717736251553858), (61, 0.04712929488167962), (777, 0.04710538233476777), (1410, 0.047083356765475884), (1263, 0.04707512031011215), (995, 0.047036533444805434), (930, 0.04700451129410754), (1757, 0.04698458073482368), (1581, 0.04697546348187882), (1713, 0.04697451436539375), (1664, 0.046973714425267515), (1920, 0.046909620021631196), (2184, 0.046890228424258946), (2662, 0.046886608606676636), (1060, 0.04686550103481045), (2239, 0.04679041744564473), (2208, 0.04677280762369773), (2304, 0.04676478001216958), (200, 0.04674959903560549), (1573, 0.04672436461968303), (4, 0.04671573016177202), (902, 0.04669489812927636), (2561, 0.046687105587392745), (1905, 0.046642369727423055), (1388, 0.04662422129015682), (480, 0.046607829998603426), (2908, 0.04657777480590551), (946, 0.046565573443216435), (2202, 0.04655403188057837), (2672, 0.0465518992443915), (2325, 0.04652367986335881), (1419, 0.046498348534695894), (2129, 0.04649829050607404), (688, 0.046482142966561196), (256, 0.04647074407476648), (2574, 0.046455615057578864), (7, 0.04642971314417308), (1001, 0.046424785747847044), (1734, 0.046418001137532194), (1201, 0.046411464954642254), (1848, 0.046411036631793856), (836, 0.046409491741601326), (1417, 0.046383196504138226), (274, 0.0463793663548376), (1054, 0.046367930372626105), (2157, 0.04634764508565365), (2008, 0.0463250297541848), (1543, 0.04630811631023886), (2447, 0.046289029636639556), (610, 0.04628364744908119), (1813, 0.04627947893536634), (2004, 0.046279434409413), (2271, 0.046267917346571284), (2719, 0.04625631661660155), (2795, 0.04624385005096656), (1329, 0.046242481037722306), (1422, 0.046235554011944326), (2705, 0.04623180952924888), (2381, 0.046231692838672435), (1941, 0.046187810969471985), (1256, 0.046174156785084096), (1826, 0.04615941227147378), (1199, 0.04614882362701274), (2692, 0.046130968095034114), (2355, 0.0461265059104104), (440, 0.04612169979675366), (1726, 0.046115701894264116), (626, 0.046089623169366725), (48, 0.04606052148504696), (2278, 0.046056659621378226), (2674, 0.04604152530520686), (716, 0.046007436212424486), (866, 0.045974129360935034), (1236, 0.04595594552578171), (1185, 0.04592831350230051), (2089, 0.04591451866418926), (1384, 0.04588449598216081), (2131, 0.04586036384941518), (448, 0.04583465925307363), (455, 0.04582387383327735), (224, 0.04582023478375351), (2419, 0.04581882103720973), (2567, 0.04581740563036161), (1709, 0.045807528275194714), (653, 0.045789876185307846), (1269, 0.04577869605356988), (2895, 0.0457745695678309), (2263, 0.045769061428217434), (266, 0.04576035249666465), (1907, 0.045756221739130284), (1296, 0.04572292433410679), (2696, 0.04571305526572883), (1769, 0.04569441250382594), (1386, 0.045693471257799025), (2290, 0.045679424331525914), (2176, 0.04566688574182931), (2729, 0.045665457821926554), (1171, 0.04563320473897975), (2168, 0.04563206327858575), (685, 0.04562893106490421), (2833, 0.04560183805731918), (2515, 0.04557106988598382), (2361, 0.045545423163306446), (1416, 0.045524106269317875), (1991, 0.04552266770189681), (162, 0.04551249273525987), (24, 0.04549948888121131), (1331, 0.04549730916435174), (2837, 0.04548827752962552), (2336, 0.045475382318819264), (793, 0.04547245917276157), (170, 0.0454530815975555), (618, 0.045451931508524404), (2647, 0.04539534398387653), (1949, 0.04538528465449286), (1233, 0.045352678285198), (1454, 0.04535166464091393), (1147, 0.045346603589991666), (1491, 0.04533827282832457), (2409, 0.04526691644588925), (40, 0.045257386471756686), (409, 0.04525135979713346), (1545, 0.04522161666035641), (854, 0.04518108388567282), (56, 0.04517242616521575), (1274, 0.04516819835063757), (2028, 0.04511825940908098), (526, 0.04507778914509426), (2144, 0.04505284694052123), (2210, 0.04504645215281862), (436, 0.04503500662847121), (1332, 0.04503367157474464), (1429, 0.04502489870197593), (951, 0.045019511139663945), (255, 0.045010248065044764), (1085, 0.04499534617599819), (1967, 0.04497281790376937), (252, 0.04497024629184033), (1335, 0.04494294885770503), (746, 0.044927980568680435), (2054, 0.044892687684599475), (1744, 0.04488892023327866), (2249, 0.04488364932469989), (684, 0.04487706561917516), (451, 0.044870800111149245), (603, 0.04486658063909563), (1983, 0.04483682659012619), (1680, 0.04481133879021498), (1814, 0.0448004753265749), (2090, 0.044795948752593115), (2451, 0.04477617997449492), (859, 0.044755268273910034), (822, 0.04473943389638705), (388, 0.04471510718893046), (1197, 0.04471331980115619), (150, 0.044705555080211054), (2038, 0.044703825693784185), (2421, 0.044695428300592796), (1397, 0.04468398797194441), (1985, 0.04466472177375732), (1360, 0.04462912960392778), (2760, 0.04462857508257201), (1321, 0.04461045582300058), (1149, 0.0446033216990154), (175, 0.04459568711084778), (1383, 0.04458879233780591), (1700, 0.04453020601970184), (1229, 0.044525137196442924), (1654, 0.044516961267943786), (1064, 0.0445009535645444), (1356, 0.04447801938812661), (1165, 0.044462228095323464), (2494, 0.04445964893661357), (1989, 0.044455361286954834), (1735, 0.04444369911497853), (2149, 0.04441892213566492), (646, 0.0444091791202488), (418, 0.04440814920223887), (2294, 0.04435093717198781), (2681, 0.044349241353290624), (38, 0.04434120711723271), (2126, 0.044337153818359704), (1324, 0.04433648429701594), (1305, 0.04432368683212695), (1843, 0.04429490711703649), (784, 0.04427770807231669), (2216, 0.04426072421777097), (808, 0.044234987481434895), (2671, 0.04421110639181513), (1944, 0.04417186039607335), (63, 0.04416546621021469), (1307, 0.04415947025705553), (2190, 0.04413910335207955), (2204, 0.04411975024914706), (2051, 0.044119595221670034), (1703, 0.04408195273882027), (2253, 0.04407362359118869), (397, 0.044038345268226975), (1253, 0.044009103758278253), (2745, 0.04396262889557948), (1438, 0.04391868520031369), (2508, 0.04391494209989694), (562, 0.0439047362586088), (787, 0.04390369393403619), (1215, 0.04388924162153525), (1314, 0.043881375365273624), (1968, 0.04386773279295727), (1143, 0.04386549769253295), (1076, 0.04382308940072756), (1317, 0.043759398754993364), (198, 0.04374439735754979), (574, 0.043722739687793284), (167, 0.04370667040843054), (2246, 0.04369669832275491), (969, 0.043686427362479616), (1122, 0.04364624732275142), (993, 0.04361160105373525), (748, 0.043543375182651264), (2896, 0.04353929113819216), (289, 0.043439855416948656), (1029, 0.04343264803064978), (1286, 0.04341685310586102), (1605, 0.04338894798248359), (192, 0.04337998748692377), (2857, 0.04337685806578467), (1391, 0.04336162412967043), (1174, 0.04335950710423406), (2517, 0.04334741416448911), (447, 0.043254690930098344), (2373, 0.04321750779626852), (1921, 0.0431669593101498), (542, 0.043141676838987064), (1638, 0.04313940015346858), (1770, 0.043125636323631734), (2552, 0.04312141668602557), (2754, 0.04310129978004425), (1291, 0.04309666659401904), (452, 0.043088524662427505), (2593, 0.04308580814613683), (504, 0.04304506278432165), (1136, 0.04303603240341672), (97, 0.04297445764635138), (1743, 0.04295864123181931), (177, 0.04293667150891835), (2033, 0.04293353265398295), (1151, 0.04292518645485391), (1016, 0.042924213806149275), (1751, 0.04292278234914414), (838, 0.04290136843282087), (2532, 0.04286996796035791), (2767, 0.042866712740604045), (1077, 0.04284241876562226), (2274, 0.04282418980899298), (1572, 0.04282221078090837), (2717, 0.042792691175257386), (2292, 0.042765936916220285), (403, 0.04276187710335835), (2230, 0.04274427821200395), (559, 0.04272213434634588), (205, 0.042714267485177336), (641, 0.04270287634480317), (2629, 0.04269254247055298), (2046, 0.042663001047195566), (1808, 0.04266006852568558), (304, 0.0426545380378171), (2509, 0.042654098564811505), (1961, 0.04265305457680784), (2015, 0.04264608124288721), (967, 0.042631924922946124), (1113, 0.04259520723846553), (704, 0.04256942914053019), (1208, 0.04255167534719309), (846, 0.04254461937965411), (240, 0.04254152962472815), (2295, 0.042429027758848555), (363, 0.04241332806380674), (2136, 0.04233418255684225), (1483, 0.042325808146102054), (1051, 0.04228757518917737), (891, 0.04228458763064072), (2844, 0.042277882340840324), (1873, 0.04224318720697046), (2065, 0.04222532122566635), (1720, 0.04219386068795896), (744, 0.0421930629361155), (60, 0.042191883068792554), (2160, 0.0421085905197209), (886, 0.04210079144015864), (736, 0.0420821172710453), (1960, 0.04207836575486333), (664, 0.04199568606443452), (1213, 0.041993810966335206), (1648, 0.04196574761462473), (19, 0.04195216804039269), (1707, 0.04194941765438111), (538, 0.04194589972512523), (1867, 0.04190836053779751), (164, 0.041885500080968086), (2226, 0.04186598606357297), (649, 0.04185470122544801), (1627, 0.041846174391001766), (1476, 0.04183071651408834), (1657, 0.04181851422425453), (2872, 0.041813805046632874), (1710, 0.04179910504246618), (431, 0.041791302053549376), (785, 0.04176587426087676), (833, 0.04173588689474316), (1679, 0.04170785608765005), (2646, 0.0416951727963511), (2040, 0.04169169499553224), (270, 0.04165806353390134), (1721, 0.04163495532416468), (905, 0.04161511003715862), (1787, 0.04160792895214991), (2333, 0.04156297837628467), (323, 0.04156020339313975), (1246, 0.04155397781355761), (2209, 0.04153482156848997), (2123, 0.04152111932700656), (2147, 0.041499679647006765), (2396, 0.04149605936684656), (2169, 0.04146985728553896), (29, 0.0414482037077152), (2262, 0.04140325298129169), (2804, 0.04136847560090087), (148, 0.04136716765802008), (1089, 0.04135972077816656), (337, 0.0413271688700561), (311, 0.04128243948571393), (2865, 0.041254945276859474), (2145, 0.04119801763491629), (1869, 0.04119528082303771), (2350, 0.041180076150178116), (101, 0.04117434509461686), (116, 0.041141623461095726), (500, 0.041137112359454345), (1182, 0.041135432005797445), (321, 0.04108876027958197), (1504, 0.04104885887345491), (2894, 0.041001021292640466), (2075, 0.040999345238445103), (1824, 0.040961875075666995), (2868, 0.04092649393221316), (502, 0.04091818876487179), (28, 0.04090689236900682), (384, 0.040898158111257896), (1866, 0.04088518911341793), (2242, 0.04087248750559694), (203, 0.040852111347027785), (1802, 0.04084415365092045), (2183, 0.04083827541723111), (1934, 0.040785922561270366), (2354, 0.04077268029147117), (1774, 0.04076617738172211), (488, 0.04076566442688262), (227, 0.04076465131671137), (558, 0.040711746897354455), (2548, 0.0407091458823898), (2488, 0.04070239443837949), (994, 0.04068173383181565), (1164, 0.040672926388892784), (2124, 0.04066360874185418), (2429, 0.040655431197695865), (529, 0.04057879068247495), (1620, 0.040529865005969175), (2080, 0.04052665081419076), (2765, 0.04050860313678294), (571, 0.04048556805682482), (2251, 0.04045988516526784), (1179, 0.04045099334266973), (1160, 0.0404440379794018), (2624, 0.04039526100474171), (2690, 0.04035439328243018), (1072, 0.04034366593082714), (115, 0.04032416422624282), (615, 0.0403152571829741), (511, 0.04031107332532396), (2125, 0.0402950200742669), (925, 0.040286352710783256), (1610, 0.04027333477850514), (286, 0.04026634247654439), (667, 0.040265191682445196), (2030, 0.040256866223142694), (1791, 0.04023082482178439), (633, 0.040191227054004644), (2580, 0.0401480814145639), (2327, 0.04014237089281681), (1772, 0.040130076792640655), (1482, 0.04012940684202103), (1642, 0.040112253087339324), (935, 0.04010982324685409), (248, 0.040105268585775684), (1036, 0.04009063156553319), (543, 0.04004238343849691), (764, 0.040028800603421115), (6, 0.04000303764763575), (2205, 0.03999589873654274), (1424, 0.039986550497439634), (1716, 0.03992879253327408), (1214, 0.039927533748222), (1538, 0.039890354658235046), (21, 0.03983381672176201), (1037, 0.03979643136584652), (958, 0.03979486245445672), (1399, 0.03978218386083469), (1969, 0.039775821931553934), (2723, 0.03976538167165891), (346, 0.039756537909293316), (1379, 0.03973882560529092), (2369, 0.0396725746893295), (419, 0.039630411878041984), (2562, 0.039616633528772524), (1387, 0.03959854637672003), (2665, 0.03955835971906059), (1748, 0.039531709281301314), (587, 0.039479310260797595), (614, 0.03946257866569201), (1221, 0.03939051407442597), (1477, 0.03931648724607509), (189, 0.03927709697518644), (320, 0.03925727822689484), (250, 0.03925677358347617), (9, 0.039256360787770436), (254, 0.039250746412318634), (522, 0.0392224556801342), (885, 0.03919562813063625), (245, 0.03918976202057762), (2584, 0.039181210687627505), (516, 0.039176570867457385), (1041, 0.03917448748080185), (924, 0.039106418567653914), (326, 0.03910181991699039), (1518, 0.03909323015869581), (174, 0.039054605587935096), (2137, 0.039046816683822386), (1731, 0.039043403099943245), (1910, 0.03903808767879883), (1461, 0.03903717544484235), (606, 0.039033503115726835), (1888, 0.039029530853409336), (2755, 0.03901859676558836), (2712, 0.03900885568661319), (16, 0.0389882354262502), (2108, 0.03897767816291968), (719, 0.03890805234852424), (25, 0.038905811704594895), (1071, 0.03887054049113647), (817, 0.03886668981724748), (95, 0.03877768075949854), (628, 0.03877344956253473), (2255, 0.038768962738878546), (1578, 0.038741693834594124), (23, 0.03873568682044868), (1516, 0.038721848982764304), (514, 0.03871737650334491), (1466, 0.03868896002018272), (1747, 0.038687972069439844), (1847, 0.03867549575040788), (1959, 0.03864592666012509), (2645, 0.038590889072981055), (789, 0.03857971314840282), (1765, 0.03852327875350883), (1697, 0.0385230595549766), (2648, 0.038514541154725204), (2009, 0.03841612387439124), (429, 0.038397366281984716), (134, 0.03835471288168996), (2523, 0.03834593903190321), (1156, 0.0383191285734916), (971, 0.03820689988639981), (2072, 0.03818221079483705), (531, 0.038179569924229176), (2063, 0.03815730459123463), (300, 0.038125005702198136), (425, 0.03808650892130999), (2349, 0.03807188694826551), (1526, 0.0380639351482526), (884, 0.03804052195797136), (2098, 0.03803917266026416), (360, 0.03801242727501272), (1520, 0.0379804062477044), (468, 0.037941444258971724), (554, 0.03789575592062304), (1459, 0.03786041018167044), (93, 0.03780968801427533), (521, 0.03776405515063416), (2417, 0.03771961406324223), (510, 0.037713408128181795), (2834, 0.037711215235966315), (577, 0.03770962171944073), (2585, 0.037682671885957975), (1693, 0.03765029614986381), (57, 0.03765019345285496), (1011, 0.03764829474407263), (528, 0.037645605635353074), (597, 0.037639042454866684), (438, 0.03758789352215403), (2267, 0.037585231448086745), (984, 0.03750490581532354), (223, 0.037492510394830245), (1875, 0.037362710159666544), (1583, 0.03733507842212056), (1544, 0.037320033337029414), (1906, 0.03729745134932483), (2025, 0.03727152137956538), (123, 0.037224904533043474), (283, 0.037223590952802574), (1330, 0.0370961427216477), (2835, 0.03708850617658531), (956, 0.03705981209462979), (1790, 0.037050979670586445), (294, 0.037028239272659594), (179, 0.03701878551026852), (923, 0.03698938823789236), (178, 0.03695664268863947), (2370, 0.03694695979783563), (246, 0.03694507334428172), (2012, 0.03691569594314514), (292, 0.03690166912131452), (372, 0.0368962419704196), (85, 0.03683884765661016), (1647, 0.03682822182826534), (478, 0.03681414624078433), (686, 0.03679242177625561), (2602, 0.03677781749981092), (1216, 0.036759320563970695), (1782, 0.036733167595086026), (1927, 0.0366598725650092), (2789, 0.036651632701915245), (338, 0.03664625079527635), (1691, 0.036604494026070244), (792, 0.03658747772674343), (2761, 0.03657989880423893), (1090, 0.03655757350508917), (1624, 0.03647639371269098), (393, 0.03645908089005626), (916, 0.036396403303256566), (291, 0.036384576044237685), (251, 0.03637769204742837), (873, 0.03631208231215645), (2890, 0.03630587047093841), (2174, 0.03624015291466013), (786, 0.03621787595631302), (968, 0.03621786708268719), (428, 0.036216953920370415), (2796, 0.03619042754113813), (2575, 0.036183290903259474), (1234, 0.03616634313352995), (855, 0.03615579327081656), (376, 0.03614671156950798), (394, 0.03612531512465387), (1176, 0.036087710290424624), (1100, 0.03601539133283112), (918, 0.035993076424688616), (1722, 0.03597332329854732), (343, 0.03596076080269234), (125, 0.035932805249193706), (742, 0.03583740987720165), (378, 0.03583345579301828), (387, 0.03581783723494953), (214, 0.03581673805583831), (2192, 0.03579492620694767), (651, 0.03578133468429153), (267, 0.03575613130106216), (707, 0.03571596206642932), (2082, 0.035709609082912784), (275, 0.035692983625314104), (1660, 0.03569276742108551), (1099, 0.03569155380587644), (2716, 0.03569075221433946), (71, 0.03566303120413771), (2260, 0.03564275455207277), (390, 0.03564105310430985), (2826, 0.03561876404404904), (2427, 0.03552386606870288), (1103, 0.03547643748857541), (1361, 0.03543965912232882), (1344, 0.03535541071456271), (2821, 0.035350144430010666), (2133, 0.035339027906418574), (2167, 0.03532150221993597), (524, 0.035320122694485284), (309, 0.03527232579642044), (1142, 0.03522212049121799), (604, 0.03509663517157058), (928, 0.03504836338808032), (1615, 0.035011341636689126), (1032, 0.03495574230305022), (94, 0.03495226038300478), (931, 0.034930072044274195), (2651, 0.03482777213400532), (422, 0.03481763696835665), (2527, 0.03481736203179066), (701, 0.03481730745577846), (2181, 0.03478473333520175), (940, 0.034778157558553846), (100, 0.03472689526608369), (2569, 0.034721656977168315), (2653, 0.03471677783713165), (2061, 0.03469397655248017), (512, 0.034588903226698525), (2606, 0.03457159392361376), (81, 0.03454780230567199), (919, 0.034504259067586425), (310, 0.034418077251929496), (1816, 0.03440336893476184), (1965, 0.03438391949926718), (2238, 0.03434002927807338), (948, 0.034295262394258105), (377, 0.03429002045865473), (365, 0.03426792761300944), (32, 0.034250453353527596), (963, 0.03419834599522756), (296, 0.03418026362923568), (2212, 0.034125227957677855), (1101, 0.034120152320162835), (834, 0.03411996467008849), (1442, 0.03411051185650335), (2466, 0.034025908144163466), (2776, 0.03399770300155785), (889, 0.033928975038399124), (2103, 0.033928359095866265), (330, 0.03392378768647894), (1626, 0.03386878785669935), (1675, 0.033818448957643014), (354, 0.03377649485549175), (1057, 0.03376576657649211), (2701, 0.03366077492155406), (317, 0.0336339039281026), (2598, 0.03362742364724376), (987, 0.03362463655858519), (1240, 0.033441272192975546), (759, 0.03340716737027187), (519, 0.03339955214274615), (1074, 0.0333901061036365), (616, 0.03335023152198698), (556, 0.033314163582775454), (1407, 0.03329433741158235), (1753, 0.033200768790921265), (2873, 0.033127595523610436), (1877, 0.033100502225556244), (218, 0.03302870375278915), (385, 0.033014250108562716), (1177, 0.03297164126143632), (2002, 0.03290014570614181), (271, 0.0328710527826734), (1650, 0.032779507814951564), (201, 0.03274905219601845), (797, 0.03271441285524603), (536, 0.03267758487048321), (233, 0.03265864152724665), (272, 0.032627204409388995), (219, 0.03261805492598331), (2112, 0.03258030364991275), (2223, 0.03257493405384584), (751, 0.03256421963331627), (2221, 0.032562086716400256), (389, 0.032543570577146234), (0, 0.03248994202629654), (1242, 0.032398807068506716), (1486, 0.03239699204901109), (328, 0.032210681982974686), (1109, 0.032173330463063234), (465, 0.03210310429984444), (680, 0.032059195553728936), (807, 0.03200706993295628), (1997, 0.03198542945591977), (2013, 0.03194244826955104), (1328, 0.03192052230702755), (379, 0.03191707087876283), (305, 0.03181330514308526), (2085, 0.03177599320006615), (181, 0.031706615976366696), (2284, 0.031703329347182854), (2791, 0.031608482308935454), (213, 0.031305719205849764), (2048, 0.03114759405605966), (285, 0.03113937156892525), (679, 0.03099763428413159), (2368, 0.03098720748507885), (581, 0.030865741538684287), (1608, 0.030813131614124283), (950, 0.030790283045929553), (2482, 0.03078724896011759), (262, 0.030687252416279894), (815, 0.0306549597666042), (312, 0.03060074420364949), (642, 0.030551388545794082), (342, 0.03054470734940645), (1917, 0.030538948353072318), (2178, 0.03051761626815751), (1788, 0.030281722649389012), (1145, 0.03027173045057586), (230, 0.03025095778682519), (308, 0.03016566415258167), (1823, 0.03014367209756957), (2300, 0.030012754391493052), (466, 0.029993405183819974), (814, 0.029943563349500775), (2605, 0.02992305610962348), (34, 0.029917252492363523), (298, 0.029885874435184437), (545, 0.029765224474989232), (1511, 0.029744263696214718), (934, 0.029574888122005087), (1096, 0.02952161666086337), (2783, 0.029499011897254446), (1625, 0.029496341145063384), (525, 0.02949385276664263), (1567, 0.02931966350267168), (2751, 0.02928311317188319), (1994, 0.02928147115223535), (265, 0.029242643290626067), (2006, 0.029189806677118808), (2351, 0.029161077151260074), (2110, 0.02906855261062034), (1309, 0.029057571668630135), (184, 0.02898806247515294), (11, 0.02877315267226387), (1555, 0.028764707617233126), (1018, 0.02872864248466723), (1891, 0.02866980435234031), (344, 0.0286406370777084), (1163, 0.02858221115183418), (76, 0.028512997174978634), (1740, 0.028488273014666096), (391, 0.028483848618046655), (264, 0.028474442519473103), (2747, 0.028464339627093892), (1825, 0.02840742019779179), (1883, 0.028145320369211475), (2166, 0.02805924991646992), (495, 0.028057644597498488), (204, 0.028000103846120953), (226, 0.027970366043291145), (371, 0.02793779489851935), (2476, 0.027903300838529307), (2810, 0.027902499735724475), (329, 0.02783085417128398), (717, 0.02776923153307083), (207, 0.027720602360679795), (1881, 0.027616482482695798), (295, 0.027613118662328923), (629, 0.02751419615500923), (795, 0.02714128456034057), (2135, 0.02705688899306591), (590, 0.026229642678854196), (1035, 0.026209480257410295), (2581, 0.026042531549190878), (333, 0.025875406912913256), (1673, 0.025748423760987148), (1231, 0.025579053207688735), (853, 0.02526283415125815), (241, 0.0251263124956301), (318, 0.025058485074676284), (2035, 0.025015938704906048), (2588, 0.02500792083496865), (1290, 0.024748925353222016), (1672, 0.024705613299862452), (2020, 0.02368129800788793), (2450, 0.023560239878150695), (976, 0.023415060072914204), (2206, 0.02338087894449594), (1443, 0.023269843822745218), (914, 0.023098554474228084), (2704, 0.022401835352290487), (1878, 0.022316219757699797), (1226, 0.022280844641060636), (368, 0.022144723368809068), (729, 0.02173294816159222), (1885, 0.021709013416095692), (2510, 0.021232125030744595), (2056, 0.021224463745111333), (1692, 0.020427779351881545), (361, 0.02032260000417354), (209, 0.020229040668505296), (1441, 0.01953551611941401), (726, 0.01896267738179176), (243, 0.018612136292845784), (1677, 0.018493748885802047), (1052, 0.018443453771650707), (669, 0.016772894991586313), (1509, 0.016751366591543266), (1301, 0.016594972214148424), (242, 0.016338507335533242), (2116, 0.015248561492270144), (1412, 0.015192772741778113), (1857, 0.014355715300337225), (2709, 0.013723805982525098), (2027, 0.012307166908828326), (2342, 0.011306377259609231), (2182, 0.006417396933994147)]\n"
     ]
    }
   ],
   "source": [
    "# sorting the movies based on their similarity score\n",
    "\n",
    "sorted_similar_movies = sorted(similarity_score, key = lambda x:x[1], reverse = True) \n",
    "print(sorted_similar_movies)"
   ]
  },
  {
   "cell_type": "code",
   "execution_count": 89,
   "metadata": {},
   "outputs": [
    {
     "data": {
      "text/plain": [
       "Index(['genre', 'keywords', 'director', 'popularity', 'tagline',\n",
       "       'original_title', 'id'],\n",
       "      dtype='object')"
      ]
     },
     "execution_count": 89,
     "metadata": {},
     "output_type": "execute_result"
    }
   ],
   "source": [
    "df_train.head()\n",
    "df_train.columns"
   ]
  },
  {
   "cell_type": "code",
   "execution_count": 96,
   "metadata": {
    "colab": {
     "base_uri": "https://localhost:8080/"
    },
    "id": "JseMqew-RW6Q",
    "outputId": "7b965227-7d40-47ac-a0cf-dfce044fc4fc"
   },
   "outputs": [
    {
     "name": "stdout",
     "output_type": "stream",
     "text": [
      "Movies suggested for you : \n",
      "\n",
      "1 . The Godfather\n",
      "2 . The Godfather: Part III\n",
      "3 . Closer\n",
      "4 . The Godfather: Part II\n",
      "5 . Avanti!\n",
      "6 . The Conversation\n",
      "7 . The Bag Man\n",
      "8 . Live by Night\n",
      "9 . Everly\n",
      "10 . War Dogs\n",
      "11 . GoodFellas\n",
      "12 . Black Mass\n",
      "13 . Precious Cargo\n",
      "14 . Gloria\n",
      "15 . Gomorra\n",
      "16 . Apocalypse Now\n",
      "17 . Copie Conforme\n",
      "18 . M\n",
      "19 . The Drop\n",
      "20 . Kill the Messenger\n",
      "21 . Mobsters\n",
      "22 . All Good Things\n",
      "23 . True Romance\n",
      "24 . Edward Scissorhands\n",
      "25 . Serbuan maut\n",
      "26 . Dracula\n",
      "27 . Leaving Las Vegas\n",
      "28 . Bandits\n",
      "29 . Get Shorty\n",
      "30 . Suspect\n"
     ]
    }
   ],
   "source": [
    "# print the name of similar movies based on the index\n",
    "\n",
    "print('Movies suggested for you : \\n')\n",
    "\n",
    "i = 1\n",
    "\n",
    "for movie in sorted_similar_movies:\n",
    "  index = movie[0]\n",
    "  title_from_index = df_train[df_train.index == index]['original_title'].values[0]\n",
    "  if (i<31):\n",
    "    print(i, '.',title_from_index)\n",
    "    i+=1"
   ]
  },
  {
   "cell_type": "markdown",
   "metadata": {
    "id": "KmXULXO9TZun"
   },
   "source": [
    "Movie Recommendation Sytem"
   ]
  },
  {
   "cell_type": "code",
   "execution_count": null,
   "metadata": {
    "id": "dgOXLbsWUAGK"
   },
   "outputs": [],
   "source": []
  }
 ],
 "metadata": {
  "colab": {
   "provenance": []
  },
  "kernelspec": {
   "display_name": "Python 3 (ipykernel)",
   "language": "python",
   "name": "python3"
  },
  "language_info": {
   "codemirror_mode": {
    "name": "ipython",
    "version": 3
   },
   "file_extension": ".py",
   "mimetype": "text/x-python",
   "name": "python",
   "nbconvert_exporter": "python",
   "pygments_lexer": "ipython3",
   "version": "3.10.9"
  }
 },
 "nbformat": 4,
 "nbformat_minor": 1
}
